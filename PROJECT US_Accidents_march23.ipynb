{
 "cells": [
  {
   "cell_type": "markdown",
   "metadata": {},
   "source": [
    "# Data preparation and cleaning\n",
    "\n",
    "1. Load the file using Pandas\n",
    "2. Look at some information about the data & the columns\n",
    "3. Fix any missing or incorrect values"
   ]
  },
  {
   "cell_type": "code",
   "execution_count": 2,
   "metadata": {},
   "outputs": [],
   "source": [
    "#import python libraries\n",
    "import pandas as pd\n",
    "import numpy as np\n",
    "import matplotlib.pyplot as plt\n",
    "import seaborn as sns"
   ]
  },
  {
   "cell_type": "code",
   "execution_count": 3,
   "metadata": {},
   "outputs": [],
   "source": [
    "#import csv file\n",
    "df=pd.read_csv('dataset/US_Accidents_March23.csv')"
   ]
  },
  {
   "cell_type": "code",
   "execution_count": 4,
   "metadata": {},
   "outputs": [
    {
     "data": {
      "text/html": [
       "<div>\n",
       "<style scoped>\n",
       "    .dataframe tbody tr th:only-of-type {\n",
       "        vertical-align: middle;\n",
       "    }\n",
       "\n",
       "    .dataframe tbody tr th {\n",
       "        vertical-align: top;\n",
       "    }\n",
       "\n",
       "    .dataframe thead th {\n",
       "        text-align: right;\n",
       "    }\n",
       "</style>\n",
       "<table border=\"1\" class=\"dataframe\">\n",
       "  <thead>\n",
       "    <tr style=\"text-align: right;\">\n",
       "      <th></th>\n",
       "      <th>ID</th>\n",
       "      <th>Source</th>\n",
       "      <th>Severity</th>\n",
       "      <th>Start_Time</th>\n",
       "      <th>End_Time</th>\n",
       "      <th>Start_Lat</th>\n",
       "      <th>Start_Lng</th>\n",
       "      <th>End_Lat</th>\n",
       "      <th>End_Lng</th>\n",
       "      <th>Distance(mi)</th>\n",
       "      <th>...</th>\n",
       "      <th>Roundabout</th>\n",
       "      <th>Station</th>\n",
       "      <th>Stop</th>\n",
       "      <th>Traffic_Calming</th>\n",
       "      <th>Traffic_Signal</th>\n",
       "      <th>Turning_Loop</th>\n",
       "      <th>Sunrise_Sunset</th>\n",
       "      <th>Civil_Twilight</th>\n",
       "      <th>Nautical_Twilight</th>\n",
       "      <th>Astronomical_Twilight</th>\n",
       "    </tr>\n",
       "  </thead>\n",
       "  <tbody>\n",
       "    <tr>\n",
       "      <th>0</th>\n",
       "      <td>A-1</td>\n",
       "      <td>Source2</td>\n",
       "      <td>3</td>\n",
       "      <td>2016-02-08 05:46:00</td>\n",
       "      <td>2016-02-08 11:00:00</td>\n",
       "      <td>39.865147</td>\n",
       "      <td>-84.058723</td>\n",
       "      <td>NaN</td>\n",
       "      <td>NaN</td>\n",
       "      <td>0.01</td>\n",
       "      <td>...</td>\n",
       "      <td>False</td>\n",
       "      <td>False</td>\n",
       "      <td>False</td>\n",
       "      <td>False</td>\n",
       "      <td>False</td>\n",
       "      <td>False</td>\n",
       "      <td>Night</td>\n",
       "      <td>Night</td>\n",
       "      <td>Night</td>\n",
       "      <td>Night</td>\n",
       "    </tr>\n",
       "    <tr>\n",
       "      <th>1</th>\n",
       "      <td>A-2</td>\n",
       "      <td>Source2</td>\n",
       "      <td>2</td>\n",
       "      <td>2016-02-08 06:07:59</td>\n",
       "      <td>2016-02-08 06:37:59</td>\n",
       "      <td>39.928059</td>\n",
       "      <td>-82.831184</td>\n",
       "      <td>NaN</td>\n",
       "      <td>NaN</td>\n",
       "      <td>0.01</td>\n",
       "      <td>...</td>\n",
       "      <td>False</td>\n",
       "      <td>False</td>\n",
       "      <td>False</td>\n",
       "      <td>False</td>\n",
       "      <td>False</td>\n",
       "      <td>False</td>\n",
       "      <td>Night</td>\n",
       "      <td>Night</td>\n",
       "      <td>Night</td>\n",
       "      <td>Day</td>\n",
       "    </tr>\n",
       "    <tr>\n",
       "      <th>2</th>\n",
       "      <td>A-3</td>\n",
       "      <td>Source2</td>\n",
       "      <td>2</td>\n",
       "      <td>2016-02-08 06:49:27</td>\n",
       "      <td>2016-02-08 07:19:27</td>\n",
       "      <td>39.063148</td>\n",
       "      <td>-84.032608</td>\n",
       "      <td>NaN</td>\n",
       "      <td>NaN</td>\n",
       "      <td>0.01</td>\n",
       "      <td>...</td>\n",
       "      <td>False</td>\n",
       "      <td>False</td>\n",
       "      <td>False</td>\n",
       "      <td>False</td>\n",
       "      <td>True</td>\n",
       "      <td>False</td>\n",
       "      <td>Night</td>\n",
       "      <td>Night</td>\n",
       "      <td>Day</td>\n",
       "      <td>Day</td>\n",
       "    </tr>\n",
       "    <tr>\n",
       "      <th>3</th>\n",
       "      <td>A-4</td>\n",
       "      <td>Source2</td>\n",
       "      <td>3</td>\n",
       "      <td>2016-02-08 07:23:34</td>\n",
       "      <td>2016-02-08 07:53:34</td>\n",
       "      <td>39.747753</td>\n",
       "      <td>-84.205582</td>\n",
       "      <td>NaN</td>\n",
       "      <td>NaN</td>\n",
       "      <td>0.01</td>\n",
       "      <td>...</td>\n",
       "      <td>False</td>\n",
       "      <td>False</td>\n",
       "      <td>False</td>\n",
       "      <td>False</td>\n",
       "      <td>False</td>\n",
       "      <td>False</td>\n",
       "      <td>Night</td>\n",
       "      <td>Day</td>\n",
       "      <td>Day</td>\n",
       "      <td>Day</td>\n",
       "    </tr>\n",
       "    <tr>\n",
       "      <th>4</th>\n",
       "      <td>A-5</td>\n",
       "      <td>Source2</td>\n",
       "      <td>2</td>\n",
       "      <td>2016-02-08 07:39:07</td>\n",
       "      <td>2016-02-08 08:09:07</td>\n",
       "      <td>39.627781</td>\n",
       "      <td>-84.188354</td>\n",
       "      <td>NaN</td>\n",
       "      <td>NaN</td>\n",
       "      <td>0.01</td>\n",
       "      <td>...</td>\n",
       "      <td>False</td>\n",
       "      <td>False</td>\n",
       "      <td>False</td>\n",
       "      <td>False</td>\n",
       "      <td>True</td>\n",
       "      <td>False</td>\n",
       "      <td>Day</td>\n",
       "      <td>Day</td>\n",
       "      <td>Day</td>\n",
       "      <td>Day</td>\n",
       "    </tr>\n",
       "  </tbody>\n",
       "</table>\n",
       "<p>5 rows × 46 columns</p>\n",
       "</div>"
      ],
      "text/plain": [
       "    ID   Source  Severity           Start_Time             End_Time  \\\n",
       "0  A-1  Source2         3  2016-02-08 05:46:00  2016-02-08 11:00:00   \n",
       "1  A-2  Source2         2  2016-02-08 06:07:59  2016-02-08 06:37:59   \n",
       "2  A-3  Source2         2  2016-02-08 06:49:27  2016-02-08 07:19:27   \n",
       "3  A-4  Source2         3  2016-02-08 07:23:34  2016-02-08 07:53:34   \n",
       "4  A-5  Source2         2  2016-02-08 07:39:07  2016-02-08 08:09:07   \n",
       "\n",
       "   Start_Lat  Start_Lng  End_Lat  End_Lng  Distance(mi)  ... Roundabout  \\\n",
       "0  39.865147 -84.058723      NaN      NaN          0.01  ...      False   \n",
       "1  39.928059 -82.831184      NaN      NaN          0.01  ...      False   \n",
       "2  39.063148 -84.032608      NaN      NaN          0.01  ...      False   \n",
       "3  39.747753 -84.205582      NaN      NaN          0.01  ...      False   \n",
       "4  39.627781 -84.188354      NaN      NaN          0.01  ...      False   \n",
       "\n",
       "  Station   Stop Traffic_Calming Traffic_Signal Turning_Loop Sunrise_Sunset  \\\n",
       "0   False  False           False          False        False          Night   \n",
       "1   False  False           False          False        False          Night   \n",
       "2   False  False           False           True        False          Night   \n",
       "3   False  False           False          False        False          Night   \n",
       "4   False  False           False           True        False            Day   \n",
       "\n",
       "  Civil_Twilight Nautical_Twilight Astronomical_Twilight  \n",
       "0          Night             Night                 Night  \n",
       "1          Night             Night                   Day  \n",
       "2          Night               Day                   Day  \n",
       "3            Day               Day                   Day  \n",
       "4            Day               Day                   Day  \n",
       "\n",
       "[5 rows x 46 columns]"
      ]
     },
     "execution_count": 4,
     "metadata": {},
     "output_type": "execute_result"
    }
   ],
   "source": [
    "df.head()"
   ]
  },
  {
   "cell_type": "code",
   "execution_count": 5,
   "metadata": {},
   "outputs": [
    {
     "data": {
      "text/plain": [
       "(7728394, 46)"
      ]
     },
     "execution_count": 5,
     "metadata": {},
     "output_type": "execute_result"
    }
   ],
   "source": [
    "df.shape"
   ]
  },
  {
   "cell_type": "code",
   "execution_count": 6,
   "metadata": {},
   "outputs": [
    {
     "data": {
      "text/plain": [
       "Index(['ID', 'Source', 'Severity', 'Start_Time', 'End_Time', 'Start_Lat',\n",
       "       'Start_Lng', 'End_Lat', 'End_Lng', 'Distance(mi)', 'Description',\n",
       "       'Street', 'City', 'County', 'State', 'Zipcode', 'Country', 'Timezone',\n",
       "       'Airport_Code', 'Weather_Timestamp', 'Temperature(F)', 'Wind_Chill(F)',\n",
       "       'Humidity(%)', 'Pressure(in)', 'Visibility(mi)', 'Wind_Direction',\n",
       "       'Wind_Speed(mph)', 'Precipitation(in)', 'Weather_Condition', 'Amenity',\n",
       "       'Bump', 'Crossing', 'Give_Way', 'Junction', 'No_Exit', 'Railway',\n",
       "       'Roundabout', 'Station', 'Stop', 'Traffic_Calming', 'Traffic_Signal',\n",
       "       'Turning_Loop', 'Sunrise_Sunset', 'Civil_Twilight', 'Nautical_Twilight',\n",
       "       'Astronomical_Twilight'],\n",
       "      dtype='object')"
      ]
     },
     "execution_count": 6,
     "metadata": {},
     "output_type": "execute_result"
    }
   ],
   "source": [
    "df.columns"
   ]
  },
  {
   "cell_type": "code",
   "execution_count": 7,
   "metadata": {},
   "outputs": [
    {
     "data": {
      "text/plain": [
       "46"
      ]
     },
     "execution_count": 7,
     "metadata": {},
     "output_type": "execute_result"
    }
   ],
   "source": [
    "len(df.columns)"
   ]
  },
  {
   "cell_type": "code",
   "execution_count": 8,
   "metadata": {},
   "outputs": [
    {
     "name": "stdout",
     "output_type": "stream",
     "text": [
      "<class 'pandas.core.frame.DataFrame'>\n",
      "RangeIndex: 7728394 entries, 0 to 7728393\n",
      "Data columns (total 46 columns):\n",
      " #   Column                 Dtype  \n",
      "---  ------                 -----  \n",
      " 0   ID                     object \n",
      " 1   Source                 object \n",
      " 2   Severity               int64  \n",
      " 3   Start_Time             object \n",
      " 4   End_Time               object \n",
      " 5   Start_Lat              float64\n",
      " 6   Start_Lng              float64\n",
      " 7   End_Lat                float64\n",
      " 8   End_Lng                float64\n",
      " 9   Distance(mi)           float64\n",
      " 10  Description            object \n",
      " 11  Street                 object \n",
      " 12  City                   object \n",
      " 13  County                 object \n",
      " 14  State                  object \n",
      " 15  Zipcode                object \n",
      " 16  Country                object \n",
      " 17  Timezone               object \n",
      " 18  Airport_Code           object \n",
      " 19  Weather_Timestamp      object \n",
      " 20  Temperature(F)         float64\n",
      " 21  Wind_Chill(F)          float64\n",
      " 22  Humidity(%)            float64\n",
      " 23  Pressure(in)           float64\n",
      " 24  Visibility(mi)         float64\n",
      " 25  Wind_Direction         object \n",
      " 26  Wind_Speed(mph)        float64\n",
      " 27  Precipitation(in)      float64\n",
      " 28  Weather_Condition      object \n",
      " 29  Amenity                bool   \n",
      " 30  Bump                   bool   \n",
      " 31  Crossing               bool   \n",
      " 32  Give_Way               bool   \n",
      " 33  Junction               bool   \n",
      " 34  No_Exit                bool   \n",
      " 35  Railway                bool   \n",
      " 36  Roundabout             bool   \n",
      " 37  Station                bool   \n",
      " 38  Stop                   bool   \n",
      " 39  Traffic_Calming        bool   \n",
      " 40  Traffic_Signal         bool   \n",
      " 41  Turning_Loop           bool   \n",
      " 42  Sunrise_Sunset         object \n",
      " 43  Civil_Twilight         object \n",
      " 44  Nautical_Twilight      object \n",
      " 45  Astronomical_Twilight  object \n",
      "dtypes: bool(13), float64(12), int64(1), object(20)\n",
      "memory usage: 2.0+ GB\n"
     ]
    }
   ],
   "source": [
    "df.info()"
   ]
  },
  {
   "cell_type": "code",
   "execution_count": 9,
   "metadata": {},
   "outputs": [
    {
     "data": {
      "text/html": [
       "<div>\n",
       "<style scoped>\n",
       "    .dataframe tbody tr th:only-of-type {\n",
       "        vertical-align: middle;\n",
       "    }\n",
       "\n",
       "    .dataframe tbody tr th {\n",
       "        vertical-align: top;\n",
       "    }\n",
       "\n",
       "    .dataframe thead th {\n",
       "        text-align: right;\n",
       "    }\n",
       "</style>\n",
       "<table border=\"1\" class=\"dataframe\">\n",
       "  <thead>\n",
       "    <tr style=\"text-align: right;\">\n",
       "      <th></th>\n",
       "      <th>Severity</th>\n",
       "      <th>Start_Lat</th>\n",
       "      <th>Start_Lng</th>\n",
       "      <th>End_Lat</th>\n",
       "      <th>End_Lng</th>\n",
       "      <th>Distance(mi)</th>\n",
       "      <th>Temperature(F)</th>\n",
       "      <th>Wind_Chill(F)</th>\n",
       "      <th>Humidity(%)</th>\n",
       "      <th>Pressure(in)</th>\n",
       "      <th>Visibility(mi)</th>\n",
       "      <th>Wind_Speed(mph)</th>\n",
       "      <th>Precipitation(in)</th>\n",
       "    </tr>\n",
       "  </thead>\n",
       "  <tbody>\n",
       "    <tr>\n",
       "      <th>count</th>\n",
       "      <td>7.728394e+06</td>\n",
       "      <td>7.728394e+06</td>\n",
       "      <td>7.728394e+06</td>\n",
       "      <td>4.325632e+06</td>\n",
       "      <td>4.325632e+06</td>\n",
       "      <td>7.728394e+06</td>\n",
       "      <td>7.564541e+06</td>\n",
       "      <td>5.729375e+06</td>\n",
       "      <td>7.554250e+06</td>\n",
       "      <td>7.587715e+06</td>\n",
       "      <td>7.551296e+06</td>\n",
       "      <td>7.157161e+06</td>\n",
       "      <td>5.524808e+06</td>\n",
       "    </tr>\n",
       "    <tr>\n",
       "      <th>mean</th>\n",
       "      <td>2.212384e+00</td>\n",
       "      <td>3.620119e+01</td>\n",
       "      <td>-9.470255e+01</td>\n",
       "      <td>3.626183e+01</td>\n",
       "      <td>-9.572557e+01</td>\n",
       "      <td>5.618423e-01</td>\n",
       "      <td>6.166329e+01</td>\n",
       "      <td>5.825105e+01</td>\n",
       "      <td>6.483104e+01</td>\n",
       "      <td>2.953899e+01</td>\n",
       "      <td>9.090376e+00</td>\n",
       "      <td>7.685490e+00</td>\n",
       "      <td>8.407210e-03</td>\n",
       "    </tr>\n",
       "    <tr>\n",
       "      <th>std</th>\n",
       "      <td>4.875313e-01</td>\n",
       "      <td>5.076079e+00</td>\n",
       "      <td>1.739176e+01</td>\n",
       "      <td>5.272905e+00</td>\n",
       "      <td>1.810793e+01</td>\n",
       "      <td>1.776811e+00</td>\n",
       "      <td>1.901365e+01</td>\n",
       "      <td>2.238983e+01</td>\n",
       "      <td>2.282097e+01</td>\n",
       "      <td>1.006190e+00</td>\n",
       "      <td>2.688316e+00</td>\n",
       "      <td>5.424983e+00</td>\n",
       "      <td>1.102246e-01</td>\n",
       "    </tr>\n",
       "    <tr>\n",
       "      <th>min</th>\n",
       "      <td>1.000000e+00</td>\n",
       "      <td>2.455480e+01</td>\n",
       "      <td>-1.246238e+02</td>\n",
       "      <td>2.456601e+01</td>\n",
       "      <td>-1.245457e+02</td>\n",
       "      <td>0.000000e+00</td>\n",
       "      <td>-8.900000e+01</td>\n",
       "      <td>-8.900000e+01</td>\n",
       "      <td>1.000000e+00</td>\n",
       "      <td>0.000000e+00</td>\n",
       "      <td>0.000000e+00</td>\n",
       "      <td>0.000000e+00</td>\n",
       "      <td>0.000000e+00</td>\n",
       "    </tr>\n",
       "    <tr>\n",
       "      <th>25%</th>\n",
       "      <td>2.000000e+00</td>\n",
       "      <td>3.339963e+01</td>\n",
       "      <td>-1.172194e+02</td>\n",
       "      <td>3.346207e+01</td>\n",
       "      <td>-1.177543e+02</td>\n",
       "      <td>0.000000e+00</td>\n",
       "      <td>4.900000e+01</td>\n",
       "      <td>4.300000e+01</td>\n",
       "      <td>4.800000e+01</td>\n",
       "      <td>2.937000e+01</td>\n",
       "      <td>1.000000e+01</td>\n",
       "      <td>4.600000e+00</td>\n",
       "      <td>0.000000e+00</td>\n",
       "    </tr>\n",
       "    <tr>\n",
       "      <th>50%</th>\n",
       "      <td>2.000000e+00</td>\n",
       "      <td>3.582397e+01</td>\n",
       "      <td>-8.776662e+01</td>\n",
       "      <td>3.618349e+01</td>\n",
       "      <td>-8.802789e+01</td>\n",
       "      <td>3.000000e-02</td>\n",
       "      <td>6.400000e+01</td>\n",
       "      <td>6.200000e+01</td>\n",
       "      <td>6.700000e+01</td>\n",
       "      <td>2.986000e+01</td>\n",
       "      <td>1.000000e+01</td>\n",
       "      <td>7.000000e+00</td>\n",
       "      <td>0.000000e+00</td>\n",
       "    </tr>\n",
       "    <tr>\n",
       "      <th>75%</th>\n",
       "      <td>2.000000e+00</td>\n",
       "      <td>4.008496e+01</td>\n",
       "      <td>-8.035368e+01</td>\n",
       "      <td>4.017892e+01</td>\n",
       "      <td>-8.024709e+01</td>\n",
       "      <td>4.640000e-01</td>\n",
       "      <td>7.600000e+01</td>\n",
       "      <td>7.500000e+01</td>\n",
       "      <td>8.400000e+01</td>\n",
       "      <td>3.003000e+01</td>\n",
       "      <td>1.000000e+01</td>\n",
       "      <td>1.040000e+01</td>\n",
       "      <td>0.000000e+00</td>\n",
       "    </tr>\n",
       "    <tr>\n",
       "      <th>max</th>\n",
       "      <td>4.000000e+00</td>\n",
       "      <td>4.900220e+01</td>\n",
       "      <td>-6.711317e+01</td>\n",
       "      <td>4.907500e+01</td>\n",
       "      <td>-6.710924e+01</td>\n",
       "      <td>4.417500e+02</td>\n",
       "      <td>2.070000e+02</td>\n",
       "      <td>2.070000e+02</td>\n",
       "      <td>1.000000e+02</td>\n",
       "      <td>5.863000e+01</td>\n",
       "      <td>1.400000e+02</td>\n",
       "      <td>1.087000e+03</td>\n",
       "      <td>3.647000e+01</td>\n",
       "    </tr>\n",
       "  </tbody>\n",
       "</table>\n",
       "</div>"
      ],
      "text/plain": [
       "           Severity     Start_Lat     Start_Lng       End_Lat       End_Lng  \\\n",
       "count  7.728394e+06  7.728394e+06  7.728394e+06  4.325632e+06  4.325632e+06   \n",
       "mean   2.212384e+00  3.620119e+01 -9.470255e+01  3.626183e+01 -9.572557e+01   \n",
       "std    4.875313e-01  5.076079e+00  1.739176e+01  5.272905e+00  1.810793e+01   \n",
       "min    1.000000e+00  2.455480e+01 -1.246238e+02  2.456601e+01 -1.245457e+02   \n",
       "25%    2.000000e+00  3.339963e+01 -1.172194e+02  3.346207e+01 -1.177543e+02   \n",
       "50%    2.000000e+00  3.582397e+01 -8.776662e+01  3.618349e+01 -8.802789e+01   \n",
       "75%    2.000000e+00  4.008496e+01 -8.035368e+01  4.017892e+01 -8.024709e+01   \n",
       "max    4.000000e+00  4.900220e+01 -6.711317e+01  4.907500e+01 -6.710924e+01   \n",
       "\n",
       "       Distance(mi)  Temperature(F)  Wind_Chill(F)   Humidity(%)  \\\n",
       "count  7.728394e+06    7.564541e+06   5.729375e+06  7.554250e+06   \n",
       "mean   5.618423e-01    6.166329e+01   5.825105e+01  6.483104e+01   \n",
       "std    1.776811e+00    1.901365e+01   2.238983e+01  2.282097e+01   \n",
       "min    0.000000e+00   -8.900000e+01  -8.900000e+01  1.000000e+00   \n",
       "25%    0.000000e+00    4.900000e+01   4.300000e+01  4.800000e+01   \n",
       "50%    3.000000e-02    6.400000e+01   6.200000e+01  6.700000e+01   \n",
       "75%    4.640000e-01    7.600000e+01   7.500000e+01  8.400000e+01   \n",
       "max    4.417500e+02    2.070000e+02   2.070000e+02  1.000000e+02   \n",
       "\n",
       "       Pressure(in)  Visibility(mi)  Wind_Speed(mph)  Precipitation(in)  \n",
       "count  7.587715e+06    7.551296e+06     7.157161e+06       5.524808e+06  \n",
       "mean   2.953899e+01    9.090376e+00     7.685490e+00       8.407210e-03  \n",
       "std    1.006190e+00    2.688316e+00     5.424983e+00       1.102246e-01  \n",
       "min    0.000000e+00    0.000000e+00     0.000000e+00       0.000000e+00  \n",
       "25%    2.937000e+01    1.000000e+01     4.600000e+00       0.000000e+00  \n",
       "50%    2.986000e+01    1.000000e+01     7.000000e+00       0.000000e+00  \n",
       "75%    3.003000e+01    1.000000e+01     1.040000e+01       0.000000e+00  \n",
       "max    5.863000e+01    1.400000e+02     1.087000e+03       3.647000e+01  "
      ]
     },
     "execution_count": 9,
     "metadata": {},
     "output_type": "execute_result"
    }
   ],
   "source": [
    "# Summary of the dataset\n",
    "df.describe()"
   ]
  },
  {
   "cell_type": "code",
   "execution_count": 10,
   "metadata": {},
   "outputs": [],
   "source": [
    "numerics=['int16','int32','int36','float16','float32','floa']"
   ]
  },
  {
   "cell_type": "code",
   "execution_count": 11,
   "metadata": {},
   "outputs": [
    {
     "data": {
      "text/plain": [
       "12840498"
      ]
     },
     "execution_count": 11,
     "metadata": {},
     "output_type": "execute_result"
    }
   ],
   "source": [
    "pd.isnull(df).sum().sum()"
   ]
  },
  {
   "cell_type": "markdown",
   "metadata": {},
   "source": [
    "# percentage of missing values per column"
   ]
  },
  {
   "cell_type": "code",
   "execution_count": 12,
   "metadata": {},
   "outputs": [
    {
     "data": {
      "text/html": [
       "<div>\n",
       "<style scoped>\n",
       "    .dataframe tbody tr th:only-of-type {\n",
       "        vertical-align: middle;\n",
       "    }\n",
       "\n",
       "    .dataframe tbody tr th {\n",
       "        vertical-align: top;\n",
       "    }\n",
       "\n",
       "    .dataframe thead th {\n",
       "        text-align: right;\n",
       "    }\n",
       "</style>\n",
       "<table border=\"1\" class=\"dataframe\">\n",
       "  <thead>\n",
       "    <tr style=\"text-align: right;\">\n",
       "      <th></th>\n",
       "      <th>ID</th>\n",
       "      <th>Source</th>\n",
       "      <th>Severity</th>\n",
       "      <th>Start_Time</th>\n",
       "      <th>End_Time</th>\n",
       "      <th>Start_Lat</th>\n",
       "      <th>Start_Lng</th>\n",
       "      <th>End_Lat</th>\n",
       "      <th>End_Lng</th>\n",
       "      <th>Distance(mi)</th>\n",
       "      <th>...</th>\n",
       "      <th>Roundabout</th>\n",
       "      <th>Station</th>\n",
       "      <th>Stop</th>\n",
       "      <th>Traffic_Calming</th>\n",
       "      <th>Traffic_Signal</th>\n",
       "      <th>Turning_Loop</th>\n",
       "      <th>Sunrise_Sunset</th>\n",
       "      <th>Civil_Twilight</th>\n",
       "      <th>Nautical_Twilight</th>\n",
       "      <th>Astronomical_Twilight</th>\n",
       "    </tr>\n",
       "  </thead>\n",
       "  <tbody>\n",
       "    <tr>\n",
       "      <th>0</th>\n",
       "      <td>False</td>\n",
       "      <td>False</td>\n",
       "      <td>False</td>\n",
       "      <td>False</td>\n",
       "      <td>False</td>\n",
       "      <td>False</td>\n",
       "      <td>False</td>\n",
       "      <td>True</td>\n",
       "      <td>True</td>\n",
       "      <td>False</td>\n",
       "      <td>...</td>\n",
       "      <td>False</td>\n",
       "      <td>False</td>\n",
       "      <td>False</td>\n",
       "      <td>False</td>\n",
       "      <td>False</td>\n",
       "      <td>False</td>\n",
       "      <td>False</td>\n",
       "      <td>False</td>\n",
       "      <td>False</td>\n",
       "      <td>False</td>\n",
       "    </tr>\n",
       "    <tr>\n",
       "      <th>1</th>\n",
       "      <td>False</td>\n",
       "      <td>False</td>\n",
       "      <td>False</td>\n",
       "      <td>False</td>\n",
       "      <td>False</td>\n",
       "      <td>False</td>\n",
       "      <td>False</td>\n",
       "      <td>True</td>\n",
       "      <td>True</td>\n",
       "      <td>False</td>\n",
       "      <td>...</td>\n",
       "      <td>False</td>\n",
       "      <td>False</td>\n",
       "      <td>False</td>\n",
       "      <td>False</td>\n",
       "      <td>False</td>\n",
       "      <td>False</td>\n",
       "      <td>False</td>\n",
       "      <td>False</td>\n",
       "      <td>False</td>\n",
       "      <td>False</td>\n",
       "    </tr>\n",
       "    <tr>\n",
       "      <th>2</th>\n",
       "      <td>False</td>\n",
       "      <td>False</td>\n",
       "      <td>False</td>\n",
       "      <td>False</td>\n",
       "      <td>False</td>\n",
       "      <td>False</td>\n",
       "      <td>False</td>\n",
       "      <td>True</td>\n",
       "      <td>True</td>\n",
       "      <td>False</td>\n",
       "      <td>...</td>\n",
       "      <td>False</td>\n",
       "      <td>False</td>\n",
       "      <td>False</td>\n",
       "      <td>False</td>\n",
       "      <td>False</td>\n",
       "      <td>False</td>\n",
       "      <td>False</td>\n",
       "      <td>False</td>\n",
       "      <td>False</td>\n",
       "      <td>False</td>\n",
       "    </tr>\n",
       "    <tr>\n",
       "      <th>3</th>\n",
       "      <td>False</td>\n",
       "      <td>False</td>\n",
       "      <td>False</td>\n",
       "      <td>False</td>\n",
       "      <td>False</td>\n",
       "      <td>False</td>\n",
       "      <td>False</td>\n",
       "      <td>True</td>\n",
       "      <td>True</td>\n",
       "      <td>False</td>\n",
       "      <td>...</td>\n",
       "      <td>False</td>\n",
       "      <td>False</td>\n",
       "      <td>False</td>\n",
       "      <td>False</td>\n",
       "      <td>False</td>\n",
       "      <td>False</td>\n",
       "      <td>False</td>\n",
       "      <td>False</td>\n",
       "      <td>False</td>\n",
       "      <td>False</td>\n",
       "    </tr>\n",
       "    <tr>\n",
       "      <th>4</th>\n",
       "      <td>False</td>\n",
       "      <td>False</td>\n",
       "      <td>False</td>\n",
       "      <td>False</td>\n",
       "      <td>False</td>\n",
       "      <td>False</td>\n",
       "      <td>False</td>\n",
       "      <td>True</td>\n",
       "      <td>True</td>\n",
       "      <td>False</td>\n",
       "      <td>...</td>\n",
       "      <td>False</td>\n",
       "      <td>False</td>\n",
       "      <td>False</td>\n",
       "      <td>False</td>\n",
       "      <td>False</td>\n",
       "      <td>False</td>\n",
       "      <td>False</td>\n",
       "      <td>False</td>\n",
       "      <td>False</td>\n",
       "      <td>False</td>\n",
       "    </tr>\n",
       "    <tr>\n",
       "      <th>...</th>\n",
       "      <td>...</td>\n",
       "      <td>...</td>\n",
       "      <td>...</td>\n",
       "      <td>...</td>\n",
       "      <td>...</td>\n",
       "      <td>...</td>\n",
       "      <td>...</td>\n",
       "      <td>...</td>\n",
       "      <td>...</td>\n",
       "      <td>...</td>\n",
       "      <td>...</td>\n",
       "      <td>...</td>\n",
       "      <td>...</td>\n",
       "      <td>...</td>\n",
       "      <td>...</td>\n",
       "      <td>...</td>\n",
       "      <td>...</td>\n",
       "      <td>...</td>\n",
       "      <td>...</td>\n",
       "      <td>...</td>\n",
       "      <td>...</td>\n",
       "    </tr>\n",
       "    <tr>\n",
       "      <th>7728389</th>\n",
       "      <td>False</td>\n",
       "      <td>False</td>\n",
       "      <td>False</td>\n",
       "      <td>False</td>\n",
       "      <td>False</td>\n",
       "      <td>False</td>\n",
       "      <td>False</td>\n",
       "      <td>False</td>\n",
       "      <td>False</td>\n",
       "      <td>False</td>\n",
       "      <td>...</td>\n",
       "      <td>False</td>\n",
       "      <td>False</td>\n",
       "      <td>False</td>\n",
       "      <td>False</td>\n",
       "      <td>False</td>\n",
       "      <td>False</td>\n",
       "      <td>False</td>\n",
       "      <td>False</td>\n",
       "      <td>False</td>\n",
       "      <td>False</td>\n",
       "    </tr>\n",
       "    <tr>\n",
       "      <th>7728390</th>\n",
       "      <td>False</td>\n",
       "      <td>False</td>\n",
       "      <td>False</td>\n",
       "      <td>False</td>\n",
       "      <td>False</td>\n",
       "      <td>False</td>\n",
       "      <td>False</td>\n",
       "      <td>False</td>\n",
       "      <td>False</td>\n",
       "      <td>False</td>\n",
       "      <td>...</td>\n",
       "      <td>False</td>\n",
       "      <td>False</td>\n",
       "      <td>False</td>\n",
       "      <td>False</td>\n",
       "      <td>False</td>\n",
       "      <td>False</td>\n",
       "      <td>False</td>\n",
       "      <td>False</td>\n",
       "      <td>False</td>\n",
       "      <td>False</td>\n",
       "    </tr>\n",
       "    <tr>\n",
       "      <th>7728391</th>\n",
       "      <td>False</td>\n",
       "      <td>False</td>\n",
       "      <td>False</td>\n",
       "      <td>False</td>\n",
       "      <td>False</td>\n",
       "      <td>False</td>\n",
       "      <td>False</td>\n",
       "      <td>False</td>\n",
       "      <td>False</td>\n",
       "      <td>False</td>\n",
       "      <td>...</td>\n",
       "      <td>False</td>\n",
       "      <td>False</td>\n",
       "      <td>False</td>\n",
       "      <td>False</td>\n",
       "      <td>False</td>\n",
       "      <td>False</td>\n",
       "      <td>False</td>\n",
       "      <td>False</td>\n",
       "      <td>False</td>\n",
       "      <td>False</td>\n",
       "    </tr>\n",
       "    <tr>\n",
       "      <th>7728392</th>\n",
       "      <td>False</td>\n",
       "      <td>False</td>\n",
       "      <td>False</td>\n",
       "      <td>False</td>\n",
       "      <td>False</td>\n",
       "      <td>False</td>\n",
       "      <td>False</td>\n",
       "      <td>False</td>\n",
       "      <td>False</td>\n",
       "      <td>False</td>\n",
       "      <td>...</td>\n",
       "      <td>False</td>\n",
       "      <td>False</td>\n",
       "      <td>False</td>\n",
       "      <td>False</td>\n",
       "      <td>False</td>\n",
       "      <td>False</td>\n",
       "      <td>False</td>\n",
       "      <td>False</td>\n",
       "      <td>False</td>\n",
       "      <td>False</td>\n",
       "    </tr>\n",
       "    <tr>\n",
       "      <th>7728393</th>\n",
       "      <td>False</td>\n",
       "      <td>False</td>\n",
       "      <td>False</td>\n",
       "      <td>False</td>\n",
       "      <td>False</td>\n",
       "      <td>False</td>\n",
       "      <td>False</td>\n",
       "      <td>False</td>\n",
       "      <td>False</td>\n",
       "      <td>False</td>\n",
       "      <td>...</td>\n",
       "      <td>False</td>\n",
       "      <td>False</td>\n",
       "      <td>False</td>\n",
       "      <td>False</td>\n",
       "      <td>False</td>\n",
       "      <td>False</td>\n",
       "      <td>False</td>\n",
       "      <td>False</td>\n",
       "      <td>False</td>\n",
       "      <td>False</td>\n",
       "    </tr>\n",
       "  </tbody>\n",
       "</table>\n",
       "<p>7728394 rows × 46 columns</p>\n",
       "</div>"
      ],
      "text/plain": [
       "            ID  Source  Severity  Start_Time  End_Time  Start_Lat  Start_Lng  \\\n",
       "0        False   False     False       False     False      False      False   \n",
       "1        False   False     False       False     False      False      False   \n",
       "2        False   False     False       False     False      False      False   \n",
       "3        False   False     False       False     False      False      False   \n",
       "4        False   False     False       False     False      False      False   \n",
       "...        ...     ...       ...         ...       ...        ...        ...   \n",
       "7728389  False   False     False       False     False      False      False   \n",
       "7728390  False   False     False       False     False      False      False   \n",
       "7728391  False   False     False       False     False      False      False   \n",
       "7728392  False   False     False       False     False      False      False   \n",
       "7728393  False   False     False       False     False      False      False   \n",
       "\n",
       "         End_Lat  End_Lng  Distance(mi)  ...  Roundabout  Station   Stop  \\\n",
       "0           True     True         False  ...       False    False  False   \n",
       "1           True     True         False  ...       False    False  False   \n",
       "2           True     True         False  ...       False    False  False   \n",
       "3           True     True         False  ...       False    False  False   \n",
       "4           True     True         False  ...       False    False  False   \n",
       "...          ...      ...           ...  ...         ...      ...    ...   \n",
       "7728389    False    False         False  ...       False    False  False   \n",
       "7728390    False    False         False  ...       False    False  False   \n",
       "7728391    False    False         False  ...       False    False  False   \n",
       "7728392    False    False         False  ...       False    False  False   \n",
       "7728393    False    False         False  ...       False    False  False   \n",
       "\n",
       "         Traffic_Calming  Traffic_Signal  Turning_Loop  Sunrise_Sunset  \\\n",
       "0                  False           False         False           False   \n",
       "1                  False           False         False           False   \n",
       "2                  False           False         False           False   \n",
       "3                  False           False         False           False   \n",
       "4                  False           False         False           False   \n",
       "...                  ...             ...           ...             ...   \n",
       "7728389            False           False         False           False   \n",
       "7728390            False           False         False           False   \n",
       "7728391            False           False         False           False   \n",
       "7728392            False           False         False           False   \n",
       "7728393            False           False         False           False   \n",
       "\n",
       "         Civil_Twilight  Nautical_Twilight  Astronomical_Twilight  \n",
       "0                 False              False                  False  \n",
       "1                 False              False                  False  \n",
       "2                 False              False                  False  \n",
       "3                 False              False                  False  \n",
       "4                 False              False                  False  \n",
       "...                 ...                ...                    ...  \n",
       "7728389           False              False                  False  \n",
       "7728390           False              False                  False  \n",
       "7728391           False              False                  False  \n",
       "7728392           False              False                  False  \n",
       "7728393           False              False                  False  \n",
       "\n",
       "[7728394 rows x 46 columns]"
      ]
     },
     "execution_count": 12,
     "metadata": {},
     "output_type": "execute_result"
    }
   ],
   "source": [
    "df.isna()"
   ]
  },
  {
   "cell_type": "code",
   "execution_count": 13,
   "metadata": {},
   "outputs": [
    {
     "data": {
      "text/plain": [
       "End_Lat                  3402762\n",
       "End_Lng                  3402762\n",
       "Precipitation(in)        2203586\n",
       "Wind_Chill(F)            1999019\n",
       "Wind_Speed(mph)           571233\n",
       "Visibility(mi)            177098\n",
       "Wind_Direction            175206\n",
       "Humidity(%)               174144\n",
       "Weather_Condition         173459\n",
       "Temperature(F)            163853\n",
       "Pressure(in)              140679\n",
       "Weather_Timestamp         120228\n",
       "Nautical_Twilight          23246\n",
       "Civil_Twilight             23246\n",
       "Sunrise_Sunset             23246\n",
       "Astronomical_Twilight      23246\n",
       "Airport_Code               22635\n",
       "Street                     10869\n",
       "Timezone                    7808\n",
       "Zipcode                     1915\n",
       "City                         253\n",
       "Description                    5\n",
       "Traffic_Signal                 0\n",
       "Roundabout                     0\n",
       "Station                        0\n",
       "Stop                           0\n",
       "Traffic_Calming                0\n",
       "Country                        0\n",
       "Turning_Loop                   0\n",
       "No_Exit                        0\n",
       "End_Time                       0\n",
       "Start_Time                     0\n",
       "Severity                       0\n",
       "Railway                        0\n",
       "Crossing                       0\n",
       "Junction                       0\n",
       "Give_Way                       0\n",
       "Bump                           0\n",
       "Amenity                        0\n",
       "Start_Lat                      0\n",
       "Start_Lng                      0\n",
       "Distance(mi)                   0\n",
       "Source                         0\n",
       "County                         0\n",
       "State                          0\n",
       "ID                             0\n",
       "dtype: int64"
      ]
     },
     "execution_count": 13,
     "metadata": {},
     "output_type": "execute_result"
    }
   ],
   "source": [
    "df.isna().sum().sort_values(ascending=False)"
   ]
  },
  {
   "cell_type": "code",
   "execution_count": 14,
   "metadata": {},
   "outputs": [
    {
     "data": {
      "text/plain": [
       "13"
      ]
     },
     "execution_count": 14,
     "metadata": {},
     "output_type": "execute_result"
    }
   ],
   "source": [
    "numeric_df = df.select_dtypes(include=['number']).columns\n",
    "len(numeric_df)"
   ]
  },
  {
   "cell_type": "code",
   "execution_count": 15,
   "metadata": {},
   "outputs": [
    {
     "data": {
      "text/plain": [
       "End_Lat                  4.402935e-01\n",
       "End_Lng                  4.402935e-01\n",
       "Precipitation(in)        2.851286e-01\n",
       "Wind_Chill(F)            2.586590e-01\n",
       "Wind_Speed(mph)          7.391355e-02\n",
       "Visibility(mi)           2.291524e-02\n",
       "Wind_Direction           2.267043e-02\n",
       "Humidity(%)              2.253301e-02\n",
       "Weather_Condition        2.244438e-02\n",
       "Temperature(F)           2.120143e-02\n",
       "Pressure(in)             1.820288e-02\n",
       "Weather_Timestamp        1.555666e-02\n",
       "Nautical_Twilight        3.007869e-03\n",
       "Civil_Twilight           3.007869e-03\n",
       "Sunrise_Sunset           3.007869e-03\n",
       "Astronomical_Twilight    3.007869e-03\n",
       "Airport_Code             2.928810e-03\n",
       "Street                   1.406372e-03\n",
       "Timezone                 1.010300e-03\n",
       "Zipcode                  2.477876e-04\n",
       "City                     3.273643e-05\n",
       "Description              6.469649e-07\n",
       "Traffic_Signal           0.000000e+00\n",
       "Roundabout               0.000000e+00\n",
       "Station                  0.000000e+00\n",
       "Stop                     0.000000e+00\n",
       "Traffic_Calming          0.000000e+00\n",
       "Country                  0.000000e+00\n",
       "Turning_Loop             0.000000e+00\n",
       "No_Exit                  0.000000e+00\n",
       "End_Time                 0.000000e+00\n",
       "Start_Time               0.000000e+00\n",
       "Severity                 0.000000e+00\n",
       "Railway                  0.000000e+00\n",
       "Crossing                 0.000000e+00\n",
       "Junction                 0.000000e+00\n",
       "Give_Way                 0.000000e+00\n",
       "Bump                     0.000000e+00\n",
       "Amenity                  0.000000e+00\n",
       "Start_Lat                0.000000e+00\n",
       "Start_Lng                0.000000e+00\n",
       "Distance(mi)             0.000000e+00\n",
       "Source                   0.000000e+00\n",
       "County                   0.000000e+00\n",
       "State                    0.000000e+00\n",
       "ID                       0.000000e+00\n",
       "dtype: float64"
      ]
     },
     "execution_count": 15,
     "metadata": {},
     "output_type": "execute_result"
    }
   ],
   "source": [
    "missing_percentages = df.isna().sum().sort_values(ascending=False) / len(df)\n",
    "missing_percentages"
   ]
  },
  {
   "cell_type": "code",
   "execution_count": 16,
   "metadata": {},
   "outputs": [
    {
     "data": {
      "text/plain": [
       "pandas.core.series.Series"
      ]
     },
     "execution_count": 16,
     "metadata": {},
     "output_type": "execute_result"
    }
   ],
   "source": [
    "type(missing_percentages)"
   ]
  },
  {
   "cell_type": "code",
   "execution_count": 17,
   "metadata": {},
   "outputs": [
    {
     "data": {
      "text/plain": [
       "<Axes: >"
      ]
     },
     "execution_count": 17,
     "metadata": {},
     "output_type": "execute_result"
    },
    {
     "data": {
      "image/png": "[encoded data removed]",
      "text/plain": [
       "<Figure size 432x288 with 1 Axes>"
      ]
     },
     "metadata": {
      "needs_background": "light"
     },
     "output_type": "display_data"
    }
   ],
   "source": [
    "missing_percentages[missing_percentages !=0].plot(kind='barh')"
   ]
  },
  {
   "cell_type": "markdown",
   "metadata": {},
   "source": [
    "# Exploratory Analysis & visualization "
   ]
  },
  {
   "cell_type": "raw",
   "metadata": {},
   "source": [
    "Columns we'll analyze:\n",
    "\n",
    "City\n",
    "Start Time\n",
    "Start Lat, Start Lng\n",
    "Severity\n",
    "Weather Condition\n"
   ]
  },
  {
   "cell_type": "code",
   "execution_count": 18,
   "metadata": {},
   "outputs": [
    {
     "data": {
      "text/plain": [
       "Index(['ID', 'Source', 'Severity', 'Start_Time', 'End_Time', 'Start_Lat',\n",
       "       'Start_Lng', 'End_Lat', 'End_Lng', 'Distance(mi)', 'Description',\n",
       "       'Street', 'City', 'County', 'State', 'Zipcode', 'Country', 'Timezone',\n",
       "       'Airport_Code', 'Weather_Timestamp', 'Temperature(F)', 'Wind_Chill(F)',\n",
       "       'Humidity(%)', 'Pressure(in)', 'Visibility(mi)', 'Wind_Direction',\n",
       "       'Wind_Speed(mph)', 'Precipitation(in)', 'Weather_Condition', 'Amenity',\n",
       "       'Bump', 'Crossing', 'Give_Way', 'Junction', 'No_Exit', 'Railway',\n",
       "       'Roundabout', 'Station', 'Stop', 'Traffic_Calming', 'Traffic_Signal',\n",
       "       'Turning_Loop', 'Sunrise_Sunset', 'Civil_Twilight', 'Nautical_Twilight',\n",
       "       'Astronomical_Twilight'],\n",
       "      dtype='object')"
      ]
     },
     "execution_count": 18,
     "metadata": {},
     "output_type": "execute_result"
    }
   ],
   "source": [
    "df.columns"
   ]
  },
  {
   "cell_type": "markdown",
   "metadata": {},
   "source": [
    "# City"
   ]
  },
  {
   "cell_type": "code",
   "execution_count": 19,
   "metadata": {},
   "outputs": [
    {
     "data": {
      "text/plain": [
       "0                Dayton\n",
       "1          Reynoldsburg\n",
       "2          Williamsburg\n",
       "3                Dayton\n",
       "4                Dayton\n",
       "               ...     \n",
       "7728389       Riverside\n",
       "7728390       San Diego\n",
       "7728391          Orange\n",
       "7728392     Culver City\n",
       "7728393        Highland\n",
       "Name: City, Length: 7728394, dtype: object"
      ]
     },
     "execution_count": 19,
     "metadata": {},
     "output_type": "execute_result"
    }
   ],
   "source": [
    "df.City"
   ]
  },
  {
   "cell_type": "code",
   "execution_count": 20,
   "metadata": {},
   "outputs": [
    {
     "data": {
      "text/plain": [
       "13679"
      ]
     },
     "execution_count": 20,
     "metadata": {},
     "output_type": "execute_result"
    }
   ],
   "source": [
    "cities = df.City.unique()\n",
    "len(cities)"
   ]
  },
  {
   "cell_type": "markdown",
   "metadata": {},
   "source": [
    "# Which 5 states have a highest number of accident?"
   ]
  },
  {
   "cell_type": "code",
   "execution_count": 21,
   "metadata": {},
   "outputs": [
    {
     "data": {
      "text/plain": [
       "Miami                      186917\n",
       "Houston                    169609\n",
       "Los Angeles                156491\n",
       "Charlotte                  138652\n",
       "Dallas                     130939\n",
       "                            ...  \n",
       "Walling                         1\n",
       "Sherrard                        1\n",
       "Aberdeen Proving Ground         1\n",
       "De Lancey                       1\n",
       "Check                           1\n",
       "Name: City, Length: 13678, dtype: int64"
      ]
     },
     "execution_count": 21,
     "metadata": {},
     "output_type": "execute_result"
    }
   ],
   "source": [
    "cities_by_accident = df.City.value_counts()\n",
    "cities_by_accident"
   ]
  },
  {
   "cell_type": "code",
   "execution_count": 22,
   "metadata": {},
   "outputs": [
    {
     "data": {
      "text/plain": [
       "Miami            186917\n",
       "Houston          169609\n",
       "Los Angeles      156491\n",
       "Charlotte        138652\n",
       "Dallas           130939\n",
       "Orlando          109733\n",
       "Austin            97359\n",
       "Raleigh           86079\n",
       "Nashville         72930\n",
       "Baton Rouge       71588\n",
       "Atlanta           68186\n",
       "Sacramento        66264\n",
       "San Diego         55504\n",
       "Phoenix           53974\n",
       "Minneapolis       51488\n",
       "Richmond          48845\n",
       "Oklahoma City     46092\n",
       "Jacksonville      42447\n",
       "Tucson            39304\n",
       "Columbia          38178\n",
       "Name: City, dtype: int64"
      ]
     },
     "execution_count": 22,
     "metadata": {},
     "output_type": "execute_result"
    }
   ],
   "source": [
    "cities_by_accident[:20]"
   ]
  },
  {
   "cell_type": "code",
   "execution_count": 23,
   "metadata": {},
   "outputs": [
    {
     "data": {
      "text/plain": [
       "pandas.core.series.Series"
      ]
     },
     "execution_count": 23,
     "metadata": {},
     "output_type": "execute_result"
    }
   ],
   "source": [
    "type(cities_by_accident)"
   ]
  },
  {
   "cell_type": "code",
   "execution_count": 24,
   "metadata": {},
   "outputs": [
    {
     "data": {
      "text/plain": [
       "<Axes: >"
      ]
     },
     "execution_count": 24,
     "metadata": {},
     "output_type": "execute_result"
    },
    {
     "data": {
      "image/png": "[encoded data removed]",
      "text/plain": [
       "<Figure size 432x288 with 1 Axes>"
      ]
     },
     "metadata": {
      "needs_background": "light"
     },
     "output_type": "display_data"
    }
   ],
   "source": [
    "cities_by_accident[:20].plot(kind='barh')"
   ]
  },
  {
   "cell_type": "code",
   "execution_count": 25,
   "metadata": {},
   "outputs": [
    {
     "data": {
      "text/html": [
       "<div>\n",
       "<style scoped>\n",
       "    .dataframe tbody tr th:only-of-type {\n",
       "        vertical-align: middle;\n",
       "    }\n",
       "\n",
       "    .dataframe tbody tr th {\n",
       "        vertical-align: top;\n",
       "    }\n",
       "\n",
       "    .dataframe thead th {\n",
       "        text-align: right;\n",
       "    }\n",
       "</style>\n",
       "<table border=\"1\" class=\"dataframe\">\n",
       "  <thead>\n",
       "    <tr style=\"text-align: right;\">\n",
       "      <th></th>\n",
       "      <th>City</th>\n",
       "    </tr>\n",
       "  </thead>\n",
       "  <tbody>\n",
       "    <tr>\n",
       "      <th>Miami</th>\n",
       "      <td>186917</td>\n",
       "    </tr>\n",
       "    <tr>\n",
       "      <th>Houston</th>\n",
       "      <td>169609</td>\n",
       "    </tr>\n",
       "    <tr>\n",
       "      <th>Los Angeles</th>\n",
       "      <td>156491</td>\n",
       "    </tr>\n",
       "    <tr>\n",
       "      <th>Charlotte</th>\n",
       "      <td>138652</td>\n",
       "    </tr>\n",
       "    <tr>\n",
       "      <th>Dallas</th>\n",
       "      <td>130939</td>\n",
       "    </tr>\n",
       "    <tr>\n",
       "      <th>...</th>\n",
       "      <td>...</td>\n",
       "    </tr>\n",
       "    <tr>\n",
       "      <th>Walling</th>\n",
       "      <td>1</td>\n",
       "    </tr>\n",
       "    <tr>\n",
       "      <th>Sherrard</th>\n",
       "      <td>1</td>\n",
       "    </tr>\n",
       "    <tr>\n",
       "      <th>Aberdeen Proving Ground</th>\n",
       "      <td>1</td>\n",
       "    </tr>\n",
       "    <tr>\n",
       "      <th>De Lancey</th>\n",
       "      <td>1</td>\n",
       "    </tr>\n",
       "    <tr>\n",
       "      <th>Check</th>\n",
       "      <td>1</td>\n",
       "    </tr>\n",
       "  </tbody>\n",
       "</table>\n",
       "<p>13678 rows × 1 columns</p>\n",
       "</div>"
      ],
      "text/plain": [
       "                           City\n",
       "Miami                    186917\n",
       "Houston                  169609\n",
       "Los Angeles              156491\n",
       "Charlotte                138652\n",
       "Dallas                   130939\n",
       "...                         ...\n",
       "Walling                       1\n",
       "Sherrard                      1\n",
       "Aberdeen Proving Ground       1\n",
       "De Lancey                     1\n",
       "Check                         1\n",
       "\n",
       "[13678 rows x 1 columns]"
      ]
     },
     "execution_count": 25,
     "metadata": {},
     "output_type": "execute_result"
    }
   ],
   "source": [
    "dg=pd.DataFrame(cities_by_accident)\n",
    "dg"
   ]
  },
  {
   "cell_type": "code",
   "execution_count": 26,
   "metadata": {},
   "outputs": [
    {
     "data": {
      "text/plain": [
       "True"
      ]
     },
     "execution_count": 26,
     "metadata": {},
     "output_type": "execute_result"
    }
   ],
   "source": [
    "'New York' in df.City.unique()"
   ]
  },
  {
   "cell_type": "code",
   "execution_count": 69,
   "metadata": {},
   "outputs": [
    {
     "data": {
      "text/plain": [
       "21699"
      ]
     },
     "execution_count": 69,
     "metadata": {},
     "output_type": "execute_result"
    }
   ],
   "source": [
    "cities_by_accident['New York']"
   ]
  },
  {
   "cell_type": "code",
   "execution_count": 27,
   "metadata": {},
   "outputs": [],
   "source": [
    "sns.set_style(\"darkgrid\")"
   ]
  },
  {
   "cell_type": "code",
   "execution_count": 28,
   "metadata": {},
   "outputs": [
    {
     "data": {
      "text/plain": [
       "<Axes: xlabel='City', ylabel='Count'>"
      ]
     },
     "execution_count": 28,
     "metadata": {},
     "output_type": "execute_result"
    },
    {
     "data": {
      "image/png": "[encoded data removed]",
      "text/plain": [
       "<Figure size 432x288 with 1 Axes>"
      ]
     },
     "metadata": {},
     "output_type": "display_data"
    }
   ],
   "source": [
    "sns.histplot(cities_by_accident, log_scale=True)"
   ]
  },
  {
   "cell_type": "code",
   "execution_count": 29,
   "metadata": {},
   "outputs": [
    {
     "data": {
      "text/plain": [
       "Adell                      1\n",
       "Basile                     1\n",
       "South Heights              1\n",
       "Panama City Beaches        1\n",
       "De Ruyter                  1\n",
       "                          ..\n",
       "Walling                    1\n",
       "Sherrard                   1\n",
       "Aberdeen Proving Ground    1\n",
       "De Lancey                  1\n",
       "Check                      1\n",
       "Name: City, Length: 1023, dtype: int64"
      ]
     },
     "execution_count": 29,
     "metadata": {},
     "output_type": "execute_result"
    }
   ],
   "source": [
    "#cities which only have 1 accident \n",
    "cities_by_accident[cities_by_accident == 1]"
   ]
  },
  {
   "cell_type": "code",
   "execution_count": 30,
   "metadata": {},
   "outputs": [
    {
     "data": {
      "text/plain": [
       "Washington Crossing        9\n",
       "Anton Chico                9\n",
       "Cherry Log                 9\n",
       "Lusk                       9\n",
       "East Brookfield            9\n",
       "                          ..\n",
       "Walling                    1\n",
       "Sherrard                   1\n",
       "Aberdeen Proving Ground    1\n",
       "De Lancey                  1\n",
       "Check                      1\n",
       "Name: City, Length: 4238, dtype: int64"
      ]
     },
     "execution_count": 30,
     "metadata": {},
     "output_type": "execute_result"
    }
   ],
   "source": [
    "#cities which have < 10 accident \n",
    "cities_by_accident[cities_by_accident < 10]"
   ]
  },
  {
   "cell_type": "markdown",
   "metadata": {},
   "source": [
    "# Start Time"
   ]
  },
  {
   "cell_type": "code",
   "execution_count": 31,
   "metadata": {},
   "outputs": [
    {
     "data": {
      "text/plain": [
       "0          2016-02-08 05:46:00\n",
       "1          2016-02-08 06:07:59\n",
       "2          2016-02-08 06:49:27\n",
       "3          2016-02-08 07:23:34\n",
       "4          2016-02-08 07:39:07\n",
       "                  ...         \n",
       "7728389    2019-08-23 18:03:25\n",
       "7728390    2019-08-23 19:11:30\n",
       "7728391    2019-08-23 19:00:21\n",
       "7728392    2019-08-23 19:00:21\n",
       "7728393    2019-08-23 18:52:06\n",
       "Name: Start_Time, Length: 7728394, dtype: object"
      ]
     },
     "execution_count": 31,
     "metadata": {},
     "output_type": "execute_result"
    }
   ],
   "source": [
    "df.Start_Time"
   ]
  },
  {
   "cell_type": "code",
   "execution_count": 32,
   "metadata": {},
   "outputs": [
    {
     "data": {
      "text/plain": [
       "6131796"
      ]
     },
     "execution_count": 32,
     "metadata": {},
     "output_type": "execute_result"
    }
   ],
   "source": [
    "StartTime = df.Start_Time.unique()\n",
    "len(StartTime)"
   ]
  },
  {
   "cell_type": "markdown",
   "metadata": {},
   "source": [
    "# What time of the day are accidents most frequent in?"
   ]
  },
  {
   "cell_type": "code",
   "execution_count": 33,
   "metadata": {},
   "outputs": [],
   "source": [
    "df['Start_Time'] = pd.to_datetime(df['Start_Time'], errors='coerce')"
   ]
  },
  {
   "cell_type": "code",
   "execution_count": 34,
   "metadata": {
    "scrolled": false
   },
   "outputs": [
    {
     "name": "stderr",
     "output_type": "stream",
     "text": [
      "<ipython-input-34-5144257e80bb>:4: UserWarning: \n",
      "\n",
      "`distplot` is a deprecated function and will be removed in seaborn v0.14.0.\n",
      "\n",
      "Please adapt your code to use either `displot` (a figure-level function with\n",
      "similar flexibility) or `histplot` (an axes-level function for histograms).\n",
      "\n",
      "For a guide to updating your code to use the new functions, please see\n",
      "https://gist.github.com/mwaskom/de44147ed2974457ad6372750bbe5751\n",
      "\n",
      "  sns.distplot(df.Start_Time.dt.hour, bins=24, kde=False, norm_hist=True)\n"
     ]
    },
    {
     "data": {
      "text/plain": [
       "<Axes: xlabel='Start_Time'>"
      ]
     },
     "execution_count": 34,
     "metadata": {},
     "output_type": "execute_result"
    },
    {
     "data": {
      "image/png": "[encoded data removed]",
      "text/plain": [
       "<Figure size 432x288 with 1 Axes>"
      ]
     },
     "metadata": {},
     "output_type": "display_data"
    }
   ],
   "source": [
    "import seaborn as sns\n",
    "sns.set_style(\"darkgrid\")\n",
    "\n",
    "sns.distplot(df.Start_Time.dt.hour, bins=24, kde=False, norm_hist=True)"
   ]
  },
  {
   "cell_type": "raw",
   "metadata": {},
   "source": [
    "1) A high percentage of accidents occur between 6 am to 10 am (probably people in a hurry to get to work)\n",
    "2) Next highest percentage is 3 pm to 6 pm"
   ]
  },
  {
   "cell_type": "code",
   "execution_count": 35,
   "metadata": {},
   "outputs": [
    {
     "name": "stderr",
     "output_type": "stream",
     "text": [
      "<ipython-input-35-26215538a2a5>:2: UserWarning: \n",
      "\n",
      "`distplot` is a deprecated function and will be removed in seaborn v0.14.0.\n",
      "\n",
      "Please adapt your code to use either `displot` (a figure-level function with\n",
      "similar flexibility) or `histplot` (an axes-level function for histograms).\n",
      "\n",
      "For a guide to updating your code to use the new functions, please see\n",
      "https://gist.github.com/mwaskom/de44147ed2974457ad6372750bbe5751\n",
      "\n",
      "  sns.distplot(df.Start_Time.dt.dayofweek, bins=7, kde=False, norm_hist=True)\n"
     ]
    },
    {
     "data": {
      "text/plain": [
       "<Axes: xlabel='Start_Time'>"
      ]
     },
     "execution_count": 35,
     "metadata": {},
     "output_type": "execute_result"
    },
    {
     "data": {
      "image/png": "[encoded data removed]",
      "text/plain": [
       "<Figure size 432x288 with 1 Axes>"
      ]
     },
     "metadata": {},
     "output_type": "display_data"
    }
   ],
   "source": [
    "# Days of week\n",
    "sns.distplot(df.Start_Time.dt.dayofweek, bins=7, kde=False, norm_hist=True)"
   ]
  },
  {
   "cell_type": "markdown",
   "metadata": {},
   "source": [
    "Is the distribution of accidents by hour the same on weekends as on weekdays."
   ]
  },
  {
   "cell_type": "code",
   "execution_count": 36,
   "metadata": {},
   "outputs": [
    {
     "name": "stderr",
     "output_type": "stream",
     "text": [
      "<ipython-input-36-2524821a4071>:2: UserWarning: \n",
      "\n",
      "`distplot` is a deprecated function and will be removed in seaborn v0.14.0.\n",
      "\n",
      "Please adapt your code to use either `displot` (a figure-level function with\n",
      "similar flexibility) or `histplot` (an axes-level function for histograms).\n",
      "\n",
      "For a guide to updating your code to use the new functions, please see\n",
      "https://gist.github.com/mwaskom/de44147ed2974457ad6372750bbe5751\n",
      "\n",
      "  sns.distplot(df.Start_Time.dt.month,bins=12,kde=False,norm_hist=True)\n"
     ]
    },
    {
     "data": {
      "text/plain": [
       "<Axes: xlabel='Start_Time'>"
      ]
     },
     "execution_count": 36,
     "metadata": {},
     "output_type": "execute_result"
    },
    {
     "data": {
      "image/png": "[encoded data removed]",
      "text/plain": [
       "<Figure size 432x288 with 1 Axes>"
      ]
     },
     "metadata": {},
     "output_type": "display_data"
    }
   ],
   "source": [
    "# Month\n",
    "sns.distplot(df.Start_Time.dt.month,bins=12,kde=False,norm_hist=True)"
   ]
  },
  {
   "cell_type": "markdown",
   "metadata": {},
   "source": [
    "Weekdays have higher number of accidents compared to weekends"
   ]
  },
  {
   "cell_type": "code",
   "execution_count": 37,
   "metadata": {},
   "outputs": [
    {
     "name": "stderr",
     "output_type": "stream",
     "text": [
      "<ipython-input-37-5d3935792627>:2: UserWarning: \n",
      "\n",
      "`distplot` is a deprecated function and will be removed in seaborn v0.14.0.\n",
      "\n",
      "Please adapt your code to use either `displot` (a figure-level function with\n",
      "similar flexibility) or `histplot` (an axes-level function for histograms).\n",
      "\n",
      "For a guide to updating your code to use the new functions, please see\n",
      "https://gist.github.com/mwaskom/de44147ed2974457ad6372750bbe5751\n",
      "\n",
      "  sns.distplot(df.Start_Time.dt.year, bins=8, kde=False, norm_hist=True)\n"
     ]
    },
    {
     "data": {
      "text/plain": [
       "<Axes: xlabel='Start_Time'>"
      ]
     },
     "execution_count": 37,
     "metadata": {},
     "output_type": "execute_result"
    },
    {
     "data": {
      "image/png": "[encoded data removed]",
      "text/plain": [
       "<Figure size 432x288 with 1 Axes>"
      ]
     },
     "metadata": {},
     "output_type": "display_data"
    }
   ],
   "source": [
    "## Year\n",
    "sns.distplot(df.Start_Time.dt.year, bins=8, kde=False, norm_hist=True)"
   ]
  },
  {
   "cell_type": "code",
   "execution_count": 38,
   "metadata": {},
   "outputs": [
    {
     "name": "stderr",
     "output_type": "stream",
     "text": [
      "<ipython-input-38-4590fef53bb1>:4: UserWarning: \n",
      "\n",
      "`distplot` is a deprecated function and will be removed in seaborn v0.14.0.\n",
      "\n",
      "Please adapt your code to use either `displot` (a figure-level function with\n",
      "similar flexibility) or `histplot` (an axes-level function for histograms).\n",
      "\n",
      "For a guide to updating your code to use the new functions, please see\n",
      "https://gist.github.com/mwaskom/de44147ed2974457ad6372750bbe5751\n",
      "\n",
      "  sns.distplot(sundays_start_time.dt.hour, bins=24, kde=False, norm_hist=True)\n"
     ]
    },
    {
     "data": {
      "text/plain": [
       "<Axes: xlabel='Start_Time'>"
      ]
     },
     "execution_count": 38,
     "metadata": {},
     "output_type": "execute_result"
    },
    {
     "data": {
      "image/png": "[encoded data removed]",
      "text/plain": [
       "<Figure size 432x288 with 1 Axes>"
      ]
     },
     "metadata": {},
     "output_type": "display_data"
    }
   ],
   "source": [
    "# Accidents distribution of Sunday\n",
    "\n",
    "sundays_start_time = df.Start_Time[df.Start_Time.dt.dayofweek == 6]\n",
    "sns.distplot(sundays_start_time.dt.hour, bins=24, kde=False, norm_hist=True)"
   ]
  },
  {
   "cell_type": "markdown",
   "metadata": {},
   "source": [
    "On Sundays, the peak occurs between 10 am and 3 pm, unlike weekdays"
   ]
  },
  {
   "cell_type": "code",
   "execution_count": 39,
   "metadata": {},
   "outputs": [
    {
     "name": "stderr",
     "output_type": "stream",
     "text": [
      "<ipython-input-39-bdd88018308b>:3: UserWarning: \n",
      "\n",
      "`distplot` is a deprecated function and will be removed in seaborn v0.14.0.\n",
      "\n",
      "Please adapt your code to use either `displot` (a figure-level function with\n",
      "similar flexibility) or `histplot` (an axes-level function for histograms).\n",
      "\n",
      "For a guide to updating your code to use the new functions, please see\n",
      "https://gist.github.com/mwaskom/de44147ed2974457ad6372750bbe5751\n",
      "\n",
      "  sns.distplot(monday_start_time.dt.hour, bins=24, kde=False, norm_hist=True)\n"
     ]
    },
    {
     "data": {
      "text/plain": [
       "<Axes: xlabel='Start_Time'>"
      ]
     },
     "execution_count": 39,
     "metadata": {},
     "output_type": "execute_result"
    },
    {
     "data": {
      "image/png": "[encoded data removed]",
      "text/plain": [
       "<Figure size 432x288 with 1 Axes>"
      ]
     },
     "metadata": {},
     "output_type": "display_data"
    }
   ],
   "source": [
    "# Accidents distribution of Monday\n",
    "monday_start_time = df.Start_Time[df.Start_Time.dt.dayofweek == 0]\n",
    "sns.distplot(monday_start_time.dt.hour, bins=24, kde=False, norm_hist=True)"
   ]
  },
  {
   "cell_type": "code",
   "execution_count": 40,
   "metadata": {},
   "outputs": [
    {
     "name": "stderr",
     "output_type": "stream",
     "text": [
      "<ipython-input-40-adbdc11facd8>:2: UserWarning: \n",
      "\n",
      "`distplot` is a deprecated function and will be removed in seaborn v0.14.0.\n",
      "\n",
      "Please adapt your code to use either `displot` (a figure-level function with\n",
      "similar flexibility) or `histplot` (an axes-level function for histograms).\n",
      "\n",
      "For a guide to updating your code to use the new functions, please see\n",
      "https://gist.github.com/mwaskom/de44147ed2974457ad6372750bbe5751\n",
      "\n",
      "  sns.distplot(df_2019.Start_Time.dt.month, bins=12, kde=False, norm_hist=True)\n"
     ]
    },
    {
     "data": {
      "text/plain": [
       "<Axes: xlabel='Start_Time'>"
      ]
     },
     "execution_count": 40,
     "metadata": {},
     "output_type": "execute_result"
    },
    {
     "data": {
      "image/png": "[encoded data removed]",
      "text/plain": [
       "<Figure size 432x288 with 1 Axes>"
      ]
     },
     "metadata": {},
     "output_type": "display_data"
    }
   ],
   "source": [
    "df_2019 = df[df.Start_Time.dt.year == 2019]\n",
    "sns.distplot(df_2019.Start_Time.dt.month, bins=12, kde=False, norm_hist=True)"
   ]
  },
  {
   "cell_type": "raw",
   "metadata": {},
   "source": [
    "1) Much data is missing for 2016. Maybe even 2017.\n",
    "2) There seems to be some issue with the Source 3"
   ]
  },
  {
   "cell_type": "code",
   "execution_count": 41,
   "metadata": {},
   "outputs": [
    {
     "data": {
      "text/plain": [
       "<Axes: ylabel='Source'>"
      ]
     },
     "execution_count": 41,
     "metadata": {},
     "output_type": "execute_result"
    },
    {
     "data": {
      "image/png": "[encoded data removed]",
      "text/plain": [
       "<Figure size 432x288 with 1 Axes>"
      ]
     },
     "metadata": {},
     "output_type": "display_data"
    }
   ],
   "source": [
    "df.Source.value_counts().plot(kind='pie')"
   ]
  },
  {
   "cell_type": "markdown",
   "metadata": {},
   "source": [
    "# Start Latitude & Longitude"
   ]
  },
  {
   "cell_type": "code",
   "execution_count": 42,
   "metadata": {},
   "outputs": [
    {
     "data": {
      "text/plain": [
       "0          39.865147\n",
       "1          39.928059\n",
       "2          39.063148\n",
       "3          39.747753\n",
       "4          39.627781\n",
       "             ...    \n",
       "7728389    34.002480\n",
       "7728390    32.766960\n",
       "7728391    33.775450\n",
       "7728392    33.992460\n",
       "7728393    34.133930\n",
       "Name: Start_Lat, Length: 7728394, dtype: float64"
      ]
     },
     "execution_count": 42,
     "metadata": {},
     "output_type": "execute_result"
    }
   ],
   "source": [
    "df.Start_Lat"
   ]
  },
  {
   "cell_type": "code",
   "execution_count": 44,
   "metadata": {},
   "outputs": [
    {
     "data": {
      "text/plain": [
       "0          -84.058723\n",
       "1          -82.831184\n",
       "2          -84.032608\n",
       "3          -84.205582\n",
       "4          -84.188354\n",
       "              ...    \n",
       "7728389   -117.379360\n",
       "7728390   -117.148060\n",
       "7728391   -117.847790\n",
       "7728392   -118.403020\n",
       "7728393   -117.230920\n",
       "Name: Start_Lng, Length: 7728394, dtype: float64"
      ]
     },
     "execution_count": 44,
     "metadata": {},
     "output_type": "execute_result"
    }
   ],
   "source": [
    "df.Start_Lng"
   ]
  },
  {
   "cell_type": "code",
   "execution_count": 45,
   "metadata": {},
   "outputs": [],
   "source": [
    "sample_df = df.sample(int(0.1 * len(df)))"
   ]
  },
  {
   "cell_type": "code",
   "execution_count": 46,
   "metadata": {},
   "outputs": [
    {
     "data": {
      "text/plain": [
       "<Axes: xlabel='Start_Lng', ylabel='Start_Lat'>"
      ]
     },
     "execution_count": 46,
     "metadata": {},
     "output_type": "execute_result"
    },
    {
     "data": {
      "image/png": "[encoded data removed]",
      "text/plain": [
       "<Figure size 432x288 with 1 Axes>"
      ]
     },
     "metadata": {},
     "output_type": "display_data"
    }
   ],
   "source": [
    "sns.scatterplot(x=sample_df.Start_Lng, y=sample_df.Start_Lat, size=0.001)"
   ]
  },
  {
   "cell_type": "code",
   "execution_count": 51,
   "metadata": {},
   "outputs": [
    {
     "name": "stdout",
     "output_type": "stream",
     "text": [
      "Requirement already satisfied: folium in c:\\users\\nikunj\\anaconda3\\lib\\site-packages (0.18.0)\n",
      "Requirement already satisfied: requests in c:\\users\\nikunj\\anaconda3\\lib\\site-packages (from folium) (2.25.0)\n",
      "Requirement already satisfied: xyzservices in c:\\users\\nikunj\\anaconda3\\lib\\site-packages (from folium) (2024.9.0)\n",
      "Requirement already satisfied: branca>=0.6.0 in c:\\users\\nikunj\\anaconda3\\lib\\site-packages (from folium) (0.8.0)\n",
      "Requirement already satisfied: numpy in c:\\users\\nikunj\\anaconda3\\lib\\site-packages (from folium) (1.21.0)\n",
      "Requirement already satisfied: jinja2>=2.9 in c:\\users\\nikunj\\anaconda3\\lib\\site-packages (from folium) (3.1.4)\n",
      "Requirement already satisfied: jinja2>=2.9 in c:\\users\\nikunj\\anaconda3\\lib\\site-packages (from folium) (3.1.4)\n",
      "Requirement already satisfied: MarkupSafe>=2.0 in c:\\users\\nikunj\\anaconda3\\lib\\site-packages (from jinja2>=2.9->folium) (2.1.5)\n",
      "Requirement already satisfied: urllib3<1.27,>=1.21.1 in c:\\users\\nikunj\\anaconda3\\lib\\site-packages (from requests->folium) (1.25.11)\n",
      "Requirement already satisfied: chardet<4,>=3.0.2 in c:\\users\\nikunj\\anaconda3\\lib\\site-packages (from requests->folium) (3.0.4)\n",
      "Requirement already satisfied: idna<3,>=2.5 in c:\\users\\nikunj\\anaconda3\\lib\\site-packages (from requests->folium) (2.10)\n",
      "Requirement already satisfied: certifi>=2017.4.17 in c:\\users\\nikunj\\anaconda3\\lib\\site-packages (from requests->folium) (2020.12.5)\n"
     ]
    }
   ],
   "source": [
    "!pip install folium\n",
    "import folium"
   ]
  },
  {
   "cell_type": "code",
   "execution_count": 52,
   "metadata": {},
   "outputs": [
    {
     "data": {
      "text/plain": [
       "(39.865147, -84.058723)"
      ]
     },
     "execution_count": 52,
     "metadata": {},
     "output_type": "execute_result"
    }
   ],
   "source": [
    "# Assuming df is your DataFrame\n",
    "lat, lon = df.Start_Lat[0], df.Start_Lng[0]\n",
    "lat, lon"
   ]
  },
  {
   "cell_type": "code",
   "execution_count": 54,
   "metadata": {},
   "outputs": [
    {
     "name": "stdout",
     "output_type": "stream",
     "text": [
      "Start_Lat     38.551689\n",
      "Start_Lng   -121.699516\n",
      "Name: 774, dtype: float64\n",
      "Start_Lat    35.625801\n",
      "Start_Lng   -80.526810\n",
      "Name: 1449270, dtype: float64\n",
      "Start_Lat    36.137260\n",
      "Start_Lng   -86.699615\n",
      "Name: 2925868, dtype: float64\n",
      "Start_Lat     34.012565\n",
      "Start_Lng   -117.821110\n",
      "Name: 6245942, dtype: float64\n",
      "Start_Lat     34.038330\n",
      "Start_Lng   -118.439468\n",
      "Name: 570292, dtype: float64\n",
      "Start_Lat    40.760637\n",
      "Start_Lng   -73.956520\n",
      "Name: 4712762, dtype: float64\n",
      "Start_Lat    40.209961\n",
      "Start_Lng   -75.384987\n",
      "Name: 1803543, dtype: float64\n",
      "Start_Lat    33.89674\n",
      "Start_Lng   -84.26608\n",
      "Name: 7442514, dtype: float64\n",
      "Start_Lat     34.957420\n",
      "Start_Lng   -120.558205\n",
      "Name: 6917251, dtype: float64\n",
      "Start_Lat    42.405309\n",
      "Start_Lng   -71.026979\n",
      "Name: 7668386, dtype: float64\n",
      "Start_Lat    29.709736\n",
      "Start_Lng   -95.400864\n",
      "Name: 3298752, dtype: float64\n",
      "Start_Lat     41.099758\n",
      "Start_Lng   -114.957565\n",
      "Name: 1526870, dtype: float64\n",
      "Start_Lat    33.902973\n",
      "Start_Lng   -84.273773\n",
      "Name: 2199008, dtype: float64\n",
      "Start_Lat    30.159968\n",
      "Start_Lng   -81.747226\n",
      "Name: 6579243, dtype: float64\n",
      "Start_Lat    40.795814\n",
      "Start_Lng   -73.976993\n",
      "Name: 4422863, dtype: float64\n",
      "Start_Lat     38.559817\n",
      "Start_Lng   -122.234896\n",
      "Name: 6415501, dtype: float64\n",
      "Start_Lat     46.186455\n",
      "Start_Lng   -123.840729\n",
      "Name: 2521659, dtype: float64\n",
      "Start_Lat    34.039364\n",
      "Start_Lng   -81.093620\n",
      "Name: 2504311, dtype: float64\n",
      "Start_Lat    39.665075\n",
      "Start_Lng   -75.211147\n",
      "Name: 6387286, dtype: float64\n",
      "Start_Lat    34.105434\n",
      "Start_Lng   -86.866295\n",
      "Name: 1841642, dtype: float64\n",
      "Start_Lat    37.552055\n",
      "Start_Lng   -77.442627\n",
      "Name: 1517279, dtype: float64\n",
      "Start_Lat    42.467461\n",
      "Start_Lng   -83.755112\n",
      "Name: 2408355, dtype: float64\n",
      "Start_Lat    30.052408\n",
      "Start_Lng   -95.185574\n",
      "Name: 6007038, dtype: float64\n",
      "Start_Lat     39.72546\n",
      "Start_Lng   -105.02535\n",
      "Name: 7619992, dtype: float64\n",
      "Start_Lat     43.619400\n",
      "Start_Lng   -116.356154\n",
      "Name: 4906341, dtype: float64\n",
      "Start_Lat    43.724148\n",
      "Start_Lng   -73.821671\n",
      "Name: 2675933, dtype: float64\n",
      "Start_Lat     32.29209\n",
      "Start_Lng   -106.79558\n",
      "Name: 7443080, dtype: float64\n",
      "Start_Lat     33.81513\n",
      "Start_Lng   -117.91529\n",
      "Name: 3532239, dtype: float64\n",
      "Start_Lat    35.032593\n",
      "Start_Lng   -80.969412\n",
      "Name: 4593549, dtype: float64\n",
      "Start_Lat     40.538533\n",
      "Start_Lng   -112.017991\n",
      "Name: 7674539, dtype: float64\n",
      "Start_Lat     37.505433\n",
      "Start_Lng   -121.934385\n",
      "Name: 6673011, dtype: float64\n",
      "Start_Lat     37.878901\n",
      "Start_Lng   -121.278288\n",
      "Name: 7207997, dtype: float64\n",
      "Start_Lat    28.143881\n",
      "Start_Lng   -82.665031\n",
      "Name: 466728, dtype: float64\n",
      "Start_Lat    33.853041\n",
      "Start_Lng   -78.687575\n",
      "Name: 5395293, dtype: float64\n",
      "Start_Lat     45.550396\n",
      "Start_Lng   -122.508453\n",
      "Name: 3149942, dtype: float64\n",
      "Start_Lat    34.704081\n",
      "Start_Lng   -84.526647\n",
      "Name: 5556063, dtype: float64\n",
      "Start_Lat    40.866158\n",
      "Start_Lng   -73.872047\n",
      "Name: 1127381, dtype: float64\n",
      "Start_Lat     34.326328\n",
      "Start_Lng   -118.504318\n",
      "Name: 7004604, dtype: float64\n",
      "Start_Lat     33.916325\n",
      "Start_Lng   -118.291702\n",
      "Name: 2161901, dtype: float64\n",
      "Start_Lat     38.475349\n",
      "Start_Lng   -121.423851\n",
      "Name: 3302431, dtype: float64\n",
      "Start_Lat     39.377090\n",
      "Start_Lng   -123.106887\n",
      "Name: 4400114, dtype: float64\n",
      "Start_Lat     39.751072\n",
      "Start_Lng   -104.982872\n",
      "Name: 3241005, dtype: float64\n",
      "Start_Lat     35.526745\n",
      "Start_Lng   -118.663260\n",
      "Name: 4467416, dtype: float64\n",
      "Start_Lat     37.426568\n",
      "Start_Lng   -121.884400\n",
      "Name: 3542677, dtype: float64\n",
      "Start_Lat     34.810771\n",
      "Start_Lng   -120.447975\n",
      "Name: 3683853, dtype: float64\n",
      "Start_Lat     34.016495\n",
      "Start_Lng   -118.159515\n",
      "Name: 7302237, dtype: float64\n",
      "Start_Lat    35.335388\n",
      "Start_Lng   -80.754166\n",
      "Name: 1226319, dtype: float64\n",
      "Start_Lat    38.838488\n",
      "Start_Lng   -77.219061\n",
      "Name: 4725713, dtype: float64\n",
      "Start_Lat     37.250437\n",
      "Start_Lng   -121.916680\n",
      "Name: 4561257, dtype: float64\n",
      "Start_Lat     40.630558\n",
      "Start_Lng   -111.280740\n",
      "Name: 7521630, dtype: float64\n",
      "Start_Lat     33.941310\n",
      "Start_Lng   -117.874939\n",
      "Name: 6205361, dtype: float64\n",
      "Start_Lat     37.634174\n",
      "Start_Lng   -122.414825\n",
      "Name: 28932, dtype: float64\n",
      "Start_Lat    43.075890\n",
      "Start_Lng   -83.674217\n",
      "Name: 1729578, dtype: float64\n",
      "Start_Lat     47.546570\n",
      "Start_Lng   -122.325012\n",
      "Name: 1260327, dtype: float64\n",
      "Start_Lat    33.833266\n",
      "Start_Lng   -84.332696\n",
      "Name: 5918254, dtype: float64\n",
      "Start_Lat     33.877019\n",
      "Start_Lng   -118.142686\n",
      "Name: 7339811, dtype: float64\n",
      "Start_Lat    41.23604\n",
      "Start_Lng   -95.95379\n",
      "Name: 7016748, dtype: float64\n",
      "Start_Lat    40.125588\n",
      "Start_Lng   -76.599003\n",
      "Name: 4014174, dtype: float64\n",
      "Start_Lat    40.887577\n",
      "Start_Lng   -74.131824\n",
      "Name: 3916911, dtype: float64\n",
      "Start_Lat    40.102718\n",
      "Start_Lng   -83.091156\n",
      "Name: 224336, dtype: float64\n",
      "Start_Lat    40.795528\n",
      "Start_Lng   -80.105309\n",
      "Name: 2481661, dtype: float64\n",
      "Start_Lat     43.80559\n",
      "Start_Lng   -117.66862\n",
      "Name: 7104750, dtype: float64\n",
      "Start_Lat     34.15952\n",
      "Start_Lng   -118.46386\n",
      "Name: 3530826, dtype: float64\n",
      "Start_Lat     33.76604\n",
      "Start_Lng   -117.95540\n",
      "Name: 3597479, dtype: float64\n",
      "Start_Lat    28.152567\n",
      "Start_Lng   -82.406216\n",
      "Name: 5050717, dtype: float64\n",
      "Start_Lat    39.351519\n",
      "Start_Lng   -76.493966\n",
      "Name: 7711072, dtype: float64\n",
      "Start_Lat    28.710711\n",
      "Start_Lng   -81.513603\n",
      "Name: 1520440, dtype: float64\n",
      "Start_Lat    32.82870\n",
      "Start_Lng   -96.87312\n",
      "Name: 7000852, dtype: float64\n",
      "Start_Lat     34.07229\n",
      "Start_Lng   -117.93104\n",
      "Name: 7473349, dtype: float64\n",
      "Start_Lat     47.412098\n",
      "Start_Lng   -122.220478\n",
      "Name: 5738417, dtype: float64\n",
      "Start_Lat    44.975719\n",
      "Start_Lng   -93.288033\n",
      "Name: 1145821, dtype: float64\n",
      "Start_Lat    34.100566\n",
      "Start_Lng   -84.726562\n",
      "Name: 4390040, dtype: float64\n",
      "Start_Lat    39.301008\n",
      "Start_Lng   -84.305675\n",
      "Name: 4592784, dtype: float64\n",
      "Start_Lat     34.117799\n",
      "Start_Lng   -117.761561\n",
      "Name: 3665776, dtype: float64\n",
      "Start_Lat    25.840371\n",
      "Start_Lng   -80.322412\n",
      "Name: 3885747, dtype: float64\n",
      "Start_Lat     38.110703\n",
      "Start_Lng   -121.175713\n",
      "Name: 1365772, dtype: float64\n",
      "Start_Lat     37.501080\n",
      "Start_Lng   -121.959465\n",
      "Name: 20759, dtype: float64\n",
      "Start_Lat    40.737487\n",
      "Start_Lng   -73.851095\n",
      "Name: 4928608, dtype: float64\n",
      "Start_Lat    40.467416\n",
      "Start_Lng   -74.297578\n",
      "Name: 4554713, dtype: float64\n",
      "Start_Lat     42.245768\n",
      "Start_Lng   -122.773772\n",
      "Name: 5832224, dtype: float64\n",
      "Start_Lat    33.418812\n",
      "Start_Lng   -82.078934\n",
      "Name: 149596, dtype: float64\n",
      "Start_Lat     37.865199\n",
      "Start_Lng   -121.667654\n",
      "Name: 7351141, dtype: float64\n",
      "Start_Lat    42.127681\n",
      "Start_Lng   -72.608390\n",
      "Name: 7374446, dtype: float64\n",
      "Start_Lat    42.33633\n",
      "Start_Lng   -83.09046\n",
      "Name: 7090416, dtype: float64\n",
      "Start_Lat    34.191582\n",
      "Start_Lng   -79.773354\n",
      "Name: 1436903, dtype: float64\n",
      "Start_Lat    35.298809\n",
      "Start_Lng   -80.800461\n",
      "Name: 1273398, dtype: float64\n",
      "Start_Lat    41.170932\n",
      "Start_Lng   -73.192752\n",
      "Name: 6401933, dtype: float64\n",
      "Start_Lat    33.097912\n",
      "Start_Lng   -97.225753\n",
      "Name: 5180766, dtype: float64\n",
      "Start_Lat    40.969208\n",
      "Start_Lng   -96.388434\n",
      "Name: 5521992, dtype: float64\n",
      "Start_Lat     39.536549\n",
      "Start_Lng   -119.802788\n",
      "Name: 542251, dtype: float64\n",
      "Start_Lat    33.470818\n",
      "Start_Lng   -81.976158\n",
      "Name: 2527759, dtype: float64\n",
      "Start_Lat     37.987055\n",
      "Start_Lng   -122.526820\n",
      "Name: 5438788, dtype: float64\n",
      "Start_Lat    35.837973\n",
      "Start_Lng   -78.673812\n",
      "Name: 4056969, dtype: float64\n",
      "Start_Lat    35.788668\n",
      "Start_Lng   -78.642892\n",
      "Name: 5457605, dtype: float64\n",
      "Start_Lat    43.01820\n",
      "Start_Lng   -85.75714\n",
      "Name: 3635523, dtype: float64\n",
      "Start_Lat    40.422814\n",
      "Start_Lng   -78.435459\n",
      "Name: 4731348, dtype: float64\n",
      "Start_Lat    42.811687\n",
      "Start_Lng   -85.663521\n",
      "Name: 183688, dtype: float64\n",
      "Start_Lat    39.94860\n",
      "Start_Lng   -82.22228\n",
      "Name: 3467326, dtype: float64\n",
      "Start_Lat     39.673234\n",
      "Start_Lng   -123.500560\n",
      "Name: 4216023, dtype: float64\n",
      "Start_Lat    25.80927\n",
      "Start_Lng   -80.31627\n",
      "Name: 4321378, dtype: float64\n"
     ]
    }
   ],
   "source": [
    "# Use the items() method instead of iteritems()\n",
    "for index, row in df[['Start_Lat', 'Start_Lng']].sample(100).iterrows():\n",
    "    print(row)"
   ]
  },
  {
   "cell_type": "code",
   "execution_count": 55,
   "metadata": {},
   "outputs": [
    {
     "data": {
      "text/plain": [
       "<zip at 0x16d854b1e40>"
      ]
     },
     "execution_count": 55,
     "metadata": {},
     "output_type": "execute_result"
    }
   ],
   "source": [
    "zip(list(df.Start_Lat), list(df.Start_Lng))"
   ]
  },
  {
   "cell_type": "code",
   "execution_count": 56,
   "metadata": {},
   "outputs": [],
   "source": [
    "from folium.plugins import HeatMap"
   ]
  },
  {
   "cell_type": "code",
   "execution_count": 57,
   "metadata": {},
   "outputs": [],
   "source": [
    "sample_df = df.sample(int(0.001 * len(df)))\n",
    "lat_lon_pairs = list(zip(list(sample_df.Start_Lat), list(sample_df.Start_Lng)))"
   ]
  },
  {
   "cell_type": "code",
   "execution_count": 58,
   "metadata": {},
   "outputs": [
    {
     "data": {
      "text/html": [
       "<div style=\"width:100%;\"><div style=\"position:relative;width:100%;height:0;padding-bottom:60%;\"><span style=\"color:#565656\">Make this Notebook Trusted to load map: File -> Trust Notebook</span><iframe srcdoc=\"&lt;!DOCTYPE html&gt;\n",
       "&lt;html&gt;\n",
       "&lt;head&gt;\n",
       "    \n",
       "    &lt;meta http-equiv=&quot;content-type&quot; content=&quot;text/html; charset=UTF-8&quot; /&gt;\n",
       "    \n",
       "        &lt;script&gt;\n",
       "            L_NO_TOUCH = false;\n",
       "            L_DISABLE_3D = false;\n",
       "        &lt;/script&gt;\n",
       "    \n",
       "    &lt;style&gt;html, body {width: 100%;height: 100%;margin: 0;padding: 0;}&lt;/style&gt;\n",
       "    &lt;style&gt;#map {position:absolute;top:0;bottom:0;right:0;left:0;}&lt;/style&gt;\n",
       "    &lt;script src=&quot;https://cdn.jsdelivr.net/npm/leaflet@1.9.3/dist/leaflet.js&quot;&gt;&lt;/script&gt;\n",
       "    &lt;script src=&quot;https://code.jquery.com/jquery-3.7.1.min.js&quot;&gt;&lt;/script&gt;\n",
       "    &lt;script src=&quot;https://cdn.jsdelivr.net/npm/bootstrap@5.2.2/dist/js/bootstrap.bundle.min.js&quot;&gt;&lt;/script&gt;\n",
       "    &lt;script src=&quot;https://cdnjs.cloudflare.com/ajax/libs/Leaflet.awesome-markers/2.0.2/leaflet.awesome-markers.js&quot;&gt;&lt;/script&gt;\n",
       "    &lt;link rel=&quot;stylesheet&quot; href=&quot;https://cdn.jsdelivr.net/npm/leaflet@1.9.3/dist/leaflet.css&quot;/&gt;\n",
       "    &lt;link rel=&quot;stylesheet&quot; href=&quot;https://cdn.jsdelivr.net/npm/bootstrap@5.2.2/dist/css/bootstrap.min.css&quot;/&gt;\n",
       "    &lt;link rel=&quot;stylesheet&quot; href=&quot;https://netdna.bootstrapcdn.com/bootstrap/3.0.0/css/bootstrap-glyphicons.css&quot;/&gt;\n",
       "    &lt;link rel=&quot;stylesheet&quot; href=&quot;https://cdn.jsdelivr.net/npm/@fortawesome/fontawesome-free@6.2.0/css/all.min.css&quot;/&gt;\n",
       "    &lt;link rel=&quot;stylesheet&quot; href=&quot;https://cdnjs.cloudflare.com/ajax/libs/Leaflet.awesome-markers/2.0.2/leaflet.awesome-markers.css&quot;/&gt;\n",
       "    &lt;link rel=&quot;stylesheet&quot; href=&quot;https://cdn.jsdelivr.net/gh/python-visualization/folium/folium/templates/leaflet.awesome.rotate.min.css&quot;/&gt;\n",
       "    \n",
       "            &lt;meta name=&quot;viewport&quot; content=&quot;width=device-width,\n",
       "                initial-scale=1.0, maximum-scale=1.0, user-scalable=no&quot; /&gt;\n",
       "            &lt;style&gt;\n",
       "                #map_c5dc4ad699d9a877ffc0f38c22d1b54c {\n",
       "                    position: relative;\n",
       "                    width: 100.0%;\n",
       "                    height: 100.0%;\n",
       "                    left: 0.0%;\n",
       "                    top: 0.0%;\n",
       "                }\n",
       "                .leaflet-container { font-size: 1rem; }\n",
       "            &lt;/style&gt;\n",
       "        \n",
       "    &lt;script src=&quot;https://cdn.jsdelivr.net/gh/python-visualization/folium@main/folium/templates/leaflet_heat.min.js&quot;&gt;&lt;/script&gt;\n",
       "&lt;/head&gt;\n",
       "&lt;body&gt;\n",
       "    \n",
       "    \n",
       "            &lt;div class=&quot;folium-map&quot; id=&quot;map_c5dc4ad699d9a877ffc0f38c22d1b54c&quot; &gt;&lt;/div&gt;\n",
       "        \n",
       "&lt;/body&gt;\n",
       "&lt;script&gt;\n",
       "    \n",
       "    \n",
       "            var map_c5dc4ad699d9a877ffc0f38c22d1b54c = L.map(\n",
       "                &quot;map_c5dc4ad699d9a877ffc0f38c22d1b54c&quot;,\n",
       "                {\n",
       "                    center: [0.0, 0.0],\n",
       "                    crs: L.CRS.EPSG3857,\n",
       "                    zoom: 1,\n",
       "                    zoomControl: true,\n",
       "                    preferCanvas: false,\n",
       "                }\n",
       "            );\n",
       "\n",
       "            \n",
       "\n",
       "        \n",
       "    \n",
       "            var tile_layer_5f46a3254b45077ee8a23df6d8ef8e28 = L.tileLayer(\n",
       "                &quot;https://tile.openstreetmap.org/{z}/{x}/{y}.png&quot;,\n",
       "                {&quot;attribution&quot;: &quot;\\u0026copy; \\u003ca href=\\&quot;https://www.openstreetmap.org/copyright\\&quot;\\u003eOpenStreetMap\\u003c/a\\u003e contributors&quot;, &quot;detectRetina&quot;: false, &quot;maxNativeZoom&quot;: 19, &quot;maxZoom&quot;: 19, &quot;minZoom&quot;: 0, &quot;noWrap&quot;: false, &quot;opacity&quot;: 1, &quot;subdomains&quot;: &quot;abc&quot;, &quot;tms&quot;: false}\n",
       "            );\n",
       "        \n",
       "    \n",
       "            tile_layer_5f46a3254b45077ee8a23df6d8ef8e28.addTo(map_c5dc4ad699d9a877ffc0f38c22d1b54c);\n",
       "        \n",
       "    \n",
       "            var heat_map_2a256793b1e39a49e592a5514899632e = L.heatLayer(\n",
       "                [[38.709863, -77.19711], [33.774529, -84.390468], [33.99557, -118.17683], [35.225769, -80.85073100000002], [40.80141, -111.92046], [42.979693, -78.497849], [40.782135, -73.558052], [35.110683, -90.028091], [39.875904, -75.102295], [33.76691, -117.808551], [40.623886, -111.903191], [33.385674, -111.857498], [35.220365, -80.813137], [25.926031, -80.15397], [30.172636, -82.673025], [32.708103, -117.01194], [25.808144, -80.240279], [38.25824, -85.74101999999998], [29.953062, -90.092792], [42.32215, -88.164677], [27.338491, -82.446732], [33.431831, -112.297909], [32.420693, -93.79746], [37.437958, -122.166674], [30.474701, -91.117332], [43.002022, -83.77269], [42.88409, -75.201971], [38.693054, -77.218338], [30.259390000000003, -92.015724], [37.920652, -122.06232], [33.684254, -85.261841], [40.85333, -73.96132800000002], [34.053749, -118.222099], [41.223808, -96.005684], [26.546656, -81.839287], [40.815646, -73.963962], [40.803413, -73.915939], [45.25956, -122.76941], [40.109711, -76.502403], [25.510307, -80.41259000000002], [42.90184, -83.602417], [40.665436, -73.992988], [34.073071, -118.2192], [42.973485, -85.683403], [32.156056, -97.146997], [35.667507, -97.528336], [32.89457, -96.700492], [33.393028, -111.891296], [26.550041, -80.070625], [41.664879, -71.07309000000002], [34.126069, -117.96462], [34.815964, -82.44175], [34.544638, -114.354538], [37.569326, -77.45365], [41.902164, -88.101997], [32.888519, -80.010826], [33.704308000000005, -84.40372099999998], [42.20834, -89.231064], [47.614075, -122.322121], [42.39204, -71.034477], [34.096433000000005, -117.30168700000002], [30.690558000000006, -88.02390799999998], [33.20642352088353, -97.15732455207272], [38.145844, -85.71141800000002], [39.277786, -76.551674], [42.974020242486105, -77.1213304992813], [37.040176, -120.256851], [32.849785, -117.031555], [34.044483, -81.11749300000002], [34.701406, -82.477523], [43.006829023156136, -83.70488762815616], [35.363312, -97.547638], [33.94521, -118.080879], [37.843702, -81.23313399999998], [34.067440000000005, -117.56364], [36.375898, -94.097678], [40.887889, -76.93990699999998], [25.74585, -80.22178000000002], [38.496086, -121.419532], [27.89381, -82.68807], [43.05878, -76.10308], [41.196976, -124.110021], [39.293804, -76.622566], [42.00539000000001, -88.14471999999998], [39.921954, -105.106604], [41.047386, -73.80378], [40.59498667697623, -74.23452258074649], [30.15994, -81.6326], [39.706093, -121.32361000000002], [38.2334, -122.259936], [36.158374, -86.771912], [34.02816, -118.20691], [42.237056, -83.732074], [35.558999776670646, -82.63683199843102], [38.989769, -121.487638], [41.806069, -87.723589], [25.760891, -80.393987], [35.226601, -80.747292], [33.912918, -118.140831], [41.86771, -72.66255], [25.585038, -80.33191], [44.52170200000001, -121.994809], [40.91164000000001, -73.875771], [37.977891, -87.59451999999997], [32.77389, -117.20776], [33.928236, -118.254273], [40.642075, -74.289047], [35.75526, -78.800568], [25.88941, -80.16368], [44.045696, -123.022156], [35.47879000000001, -97.65433], [30.761916, -86.574314], [33.89131500000001, -118.36165], [32.397472, -90.180756], [33.79479, -118.086991], [47.075203, -118.410419], [36.02295756, -87.26825595], [30.640711, -88.395065], [25.828938, -80.240944], [39.852798, -85.144363], [35.194228, -80.884523], [42.437599, -122.757507], [34.132560999999995, -81.307091], [38.023254, -121.966583], [47.018555402531526, -114.5376527303956], [35.416031, -97.565529], [28.449861, -81.47447700000002], [40.040543, -78.504044], [39.859961, -77.134597], [36.617584, -119.340424], [25.92184, -80.21123], [41.50816, -73.681664], [39.202732, -76.63153100000002], [34.024799, -117.751122], [40.43175, -111.82171], [34.127609, -117.918166], [32.44997620567107, -93.87003064110812], [28.51895, -82.57146], [37.448165, -77.42318399999998], [30.686111, -88.039703], [38.907804, -77.986811], [42.280041, -83.441765], [40.760609, -73.964348], [26.10097, -80.16851], [38.25824, -85.74101999999998], [31.022464000000006, -87.530546], [42.80263400000001, -76.097941], [37.74219, -121.52587], [40.380098, -123.375075], [32.9047, -80.02470799999998], [38.237656, -85.623215], [40.040795, -76.301772], [33.373034999999994, -82.031944], [25.7307, -80.317718], [38.795013, -77.14505], [33.58613, -84.38033100000001], [41.801838, -87.63155400000002], [47.25202, -113.543361], [38.835886, -77.45195], [44.787731, -93.288588], [32.713563, -96.758783], [36.149651, -86.85991700000002], [29.705151, -95.53112], [38.247185, -85.700722], [34.032024, -81.198166], [28.53094, -81.38601], [39.634071, -76.27085100000002], [38.698713, -121.319352], [33.63872, -112.35014], [40.663326, -75.382774], [41.967831, -87.755623], [40.446461, -122.420792], [40.080574, -76.349648], [32.375065, -111.127385], [45.010841, -93.45742], [35.210331, -80.810089], [25.774999, -80.320222], [42.64516, -87.95276], [39.128086, -121.582787], [27.996149, -82.455261], [37.333841, -119.648349], [35.20985, -80.75717900000002], [33.593506, -117.721712], [47.664986, -122.322037], [28.553156, -81.382469], [32.746876, -117.1565], [40.586455, -122.375142], [34.832985, -82.445966], [39.189484, -94.590034], [39.782822, -84.182327], [29.782207, -95.36832], [42.927081, -85.621987], [34.72084, -82.92164], [33.883481, -118.02582], [38.858135, -77.84431500000002], [28.183409, -81.740189], [33.658213, -117.779243], [33.319817, -111.984215], [33.894901000000004, -81.579453], [43.771258, -118.168355], [42.11775, -123.674594], [38.97654, -94.713829], [38.50903, -122.447772], [34.156655, -118.641257], [40.192474, -75.52153100000002], [33.91639, -80.317577], [36.835957, -76.105612], [30.47162100000001, -91.089096], [40.742815, -73.730621], [30.332411, -95.319519], [34.155877000000004, -117.83661], [38.709973, -77.221645], [37.992416, -122.125092], [37.495338, -77.022964], [38.549348, -121.47404], [38.981631, -76.876937], [33.462015, -112.127946], [29.153877, -82.25187], [41.099754, -73.951324], [38.101052, -121.306405], [40.042351, -82.909378], [41.289642, -87.301102], [42.735867, -83.379684], [35.801379, -78.621994], [28.268112, -82.67441600000002], [34.864540000000005, -82.258408], [35.137543, -82.105133], [33.87815, -117.88049], [26.047638, -80.162453], [32.7822, -96.77025], [34.104172, -117.506203], [38.019501, -121.96595], [27.48485100000001, -82.46891], [27.792439, -82.66066], [39.9526, -83.01118000000002], [37.011723, -76.446678], [32.193409, -112.438202], [32.260546999999995, -86.35935], [41.71969, -87.76844], [34.291733, -118.411583], [38.2741, -122.049232], [40.015041, -75.29966], [35.785011, -78.687027], [40.73107123, -74.12536740000002], [34.581432, -118.133881], [33.625384999999994, -112.333267], [34.17927145941648, -118.39520573559572], [32.271963, -110.979525], [28.396782, -81.375456], [34.024733000000005, -117.735811], [34.473851, -92.735318], [33.623002, -79.00330100000002], [43.36716, -123.33017], [40.355978, -76.716442], [40.31305432, -78.89040828], [32.70768, -96.82957], [40.744186, -73.77172900000002], [40.46530900000001, -76.34033199999998], [29.7222, -95.500982], [25.883535, -80.213829], [35.075521, -90.03965699999998], [26.374270000000006, -80.11654], [40.02966, -76.32309000000002], [33.459954, -112.064546], [40.683027, -74.276386], [30.353737, -91.027617], [37.72476, -121.325741], [35.312585, -80.75976899999998], [29.812735, -95.410324], [28.547199, -81.223412], [33.752983, -117.847633], [46.33356, -93.84794], [44.992347, -123.078047], [28.57358, -81.37586999999998], [44.815763, -93.044152], [32.834808, -96.673218], [40.78491, -73.94109], [44.29146, -121.46208], [42.353249, -71.02870899999998], [40.73127, -74.050842], [34.878384999999994, -117.118092], [34.435029, -118.380478], [40.03334, -83.123657], [40.742481, -73.660103], [39.160137, -84.551514], [40.770989, -112.115701], [26.148475, -80.258663], [45.091469, -93.188316], [45.543998, -122.872825], [37.34301, -77.221298], [25.763863, -80.303919], [30.321768, -97.713905], [29.573353000000004, -95.386014], [40.780174, -73.00380200000002], [33.98751, -117.36321], [35.249763, -80.856438], [25.731226, -80.41975], [37.32876, -121.89563], [25.788606, -80.206725], [29.688772, -95.332016], [38.021404, -121.941925], [29.223246000000003, -82.169657], [45.035823, -92.852743], [36.308645, -86.681549], [34.258049, -81.464721], [32.78215, -96.811897], [32.991859000000005, -96.784576], [36.09597, -86.742531], [42.97533, -73.861801], [40.8049, -73.83165], [37.68882, -122.135452], [25.725119, -80.383987], [32.243443, -110.909668], [27.908331, -82.40193199999999], [34.242824, -118.472883], [33.460701, -112.341003], [37.757866, -75.61976999999997], [37.753995, -122.208003], [33.942867, -118.027626], [26.433509, -81.810823], [34.111622, -80.89550799999998], [37.690151, -122.095268], [34.560993, -86.985199], [38.496109, -121.408813], [29.8703, -81.336548], [34.951254129243125, -92.06067681268664], [41.589739, -81.474346], [41.30669, -112.024761], [36.776337, -76.250846], [32.758072, -96.809082], [40.698277, -73.518547], [39.96146, -75.182671], [29.72576, -95.486686], [31.802163, -106.301743], [40.89447, -74.486474], [29.542444, -98.575546], [36.989108, -76.426506], [35.332031, -82.432886], [39.218, -121.641576], [39.126313, -94.56707], [45.134254, -93.238999], [25.67062300000001, -80.424423], [37.714728, -121.710007], [34.002026, -117.834892], [38.369335, -120.64186200000002], [39.944046, -76.733643], [40.845206, -73.91149300000002], [44.896172, -94.333176], [27.9654, -82.42026], [33.97599, -81.075829], [33.764633, -80.964104], [25.67778, -80.3181], [35.75383400000001, -78.636101], [29.47987, -98.657982], [39.799252, -86.03478199999998], [32.272220000000004, -110.94381], [34.688673, -117.339216], [34.137196, -117.902385], [25.506487, -80.42883], [30.380863, -91.09684], [35.565689, -97.674042], [34.066252, -117.501889], [38.240593, -85.815605], [44.738251, -92.869392], [33.416585999999995, -80.671748], [43.61938118913832, -116.3545811170752], [33.55865900000001, -86.523949], [29.741726, -95.443632], [39.790756, -84.241546], [40.925515, -104.932178], [40.273744, -79.602701], [34.055962, -118.451484], [36.116449, -86.773335], [35.086971000000005, -106.635506], [26.381, -80.111136], [35.124722, -90.071342], [35.251399, -111.898944], [29.766022, -95.455803], [40.69649, -112.08701], [40.358415, -76.71233000000002], [30.525858000000003, -82.95159100000002], [34.069817, -118.261299], [39.505947, -119.780502], [34.338656, -119.407877], [28.980751, -82.135849], [38.694824, -95.685692], [25.447784, -80.475673], [32.134453, -110.891991], [39.18649, -121.816406], [40.847923, -73.942825], [39.13297, -104.86343], [32.998740999999995, -80.229897], [37.1997, -121.992719], [35.25307775, -80.9788835], [28.512996, -81.374302], [41.068291, -78.368324], [38.165975, -79.01134300000002], [27.20943, -80.3337], [33.234882, -84.219105], [34.176970000000004, -118.16333], [43.203129, -83.480437], [30.476886, -91.122744], [38.469489, -121.356325], [28.203215000000004, -80.71075400000002], [32.206478000000004, -110.832382], [32.455105, -93.756653], [29.84751, -95.3941], [40.45443, -76.230591], [39.799244, -105.053238], [38.575833, -90.377607], [42.9453527925351, -78.76629710159891], [35.90937, -78.482117], [35.91311599999999, -78.982128], [40.474745, -74.862955], [36.728434, -119.583095], [28.51903, -82.23732], [45.528525, -122.653563], [41.58876, -73.907692], [28.447931, -81.470943], [39.11354899387783, -94.56459402992932], [33.749153, -84.38284300000002], [33.638672, -112.342117], [32.7603, -97.1623], [32.988841, -81.29224], [28.536732, -81.380085], [37.70134, -121.8448], [38.9019, -94.335301], [33.63984704001598, -81.74155354460841], [38.929339, -77.51910699999998], [33.593925, -112.260506], [30.011108, -90.013092], [39.816456, -104.985321], [45.05785, -92.893661], [39.618141, -84.19976], [43.137512, -89.29615799999998], [41.306829, -74.029838], [39.89870667438555, -75.17106413805402], [38.980751, -76.329033], [39.487808, -121.530586], [35.101383, -80.880898], [33.859936, -118.309151], [34.730889000000005, -92.40047], [33.374882, -117.56057], [35.249531, -77.089238], [35.820005, -78.711026], [29.053319, -82.41924200000003], [35.39349, -97.266243], [35.751369, -78.631157], [32.882197999999995, -96.741658], [33.911204999999995, -84.370491], [28.36966, -81.54076500000002], [36.152027, -86.781487], [33.393484, -117.199018], [40.638996, -74.021487], [34.067317, -117.544458], [35.794281, -78.68833199999997], [41.266069, -77.050321], [28.261381, -82.188183], [36.04538, -86.713249], [32.310544, -90.899344], [39.335885, -120.305866], [40.83649000000001, -73.87673000000002], [41.9015, -87.92034], [38.340778, -77.491455], [45.11567700000001, -93.188568], [45.423456, -117.307387], [38.481636, -121.371918], [34.148209, -118.083794], [37.733063, -121.628895], [45.03243300000001, -93.089668], [35.031154, -85.24260100000002], [30.320667, -81.68587], [37.102376, -121.585744], [41.888134, -88.106812], [33.325534999999995, -86.782593], [37.941257, -122.484779], [46.16574168183247, -123.030964135537], [40.835168, -75.673103], [39.3466007707627, -76.493436097734], [39.78052, -86.21602], [40.280979, -83.067543], [28.036472, -82.040031], [40.104118, -75.23391], [38.9099586, -92.2936213], [40.62075, -103.172684], [38.866857, -77.142476], [25.8588, -80.20801999999998], [28.42010100000001, -81.474068], [32.16283, -110.840881], [40.17239928226389, -75.37828087770758], [25.56144118296833, -80.36306977233713], [40.73909, -74.216492], [44.16056, -121.25876], [34.063085, -117.48873], [25.59612000000001, -80.359297], [47.232151, -122.439133], [40.241901, -76.336902], [43.015755, -85.684021], [40.786238, -73.8041], [39.116617, -78.194707], [32.748058, -117.018181], [25.843215, -80.241726], [38.692873, -121.44647], [39.077455, -121.533748], [39.84145, -83.08869200000002], [37.500589, -77.530438], [33.711597, -84.217415], [34.030599, -80.943764], [35.689636, -78.580017], [40.824598, -73.87142800000002], [28.036654, -82.088713], [33.90462, -117.459901], [35.479786, -97.465324], [31.272399, -81.562102], [28.25814500000001, -81.615963], [47.15824, -122.36291], [42.637493, -73.540764], [28.031058, -82.454836], [45.533363, -122.631943], [32.109544, -110.841058], [28.566837, -81.207672], [39.015895, -77.00814100000002], [44.88310933091696, -93.0147278304433], [30.700618028494358, -86.74589037853838], [33.999982, -81.113352], [29.37541400000001, -98.459351], [25.734914, -80.33587299999998], [34.067756, -117.53949], [29.718241, -95.505981], [44.263668, -92.650866], [39.870857, -75.323685], [32.264801, -110.952316], [34.012234, -118.418549], [45.402242, -94.65359], [39.791203, -84.206289], [33.875919, -118.163544], [39.426041, -88.378815], [37.590803, -120.955959], [40.681969, -73.615089], [42.254742, -88.020416], [36.04584000000001, -95.96483], [34.788635, -82.440063], [29.081429, -82.185176], [35.02165, -82.50295], [33.872725, -117.924329], [32.72664, -117.15645], [30.172409, -97.629433], [32.844570000000004, -116.882095], [38.698391, -90.450562], [30.38455, -91.168999], [35.835075, -78.582481], [44.628805, -123.987328], [31.813919, -106.452248], [25.686949, -80.365868], [41.502407, -90.569183], [33.906078, -118.193718], [33.95669, -117.30653], [25.718972, -80.455409], [33.8414, -112.143814], [39.919674, -86.157913], [34.007008, -117.964394], [35.100006, -80.778755], [30.43407082543166, -81.6557872291486], [47.589668, -122.251968], [34.77497, -118.44894], [30.382683, -81.672836], [44.778603, -93.217094], [34.655819, -82.28939100000002], [30.461088, -87.296525], [39.748211, -84.14136500000002], [47.496922, -122.194084], [42.210449, -70.99614], [34.271058000000004, -77.820196], [34.407337, -118.579842], [37.02073931676378, -104.49232935855628], [36.811481, -121.643347], [33.846582, -118.215418], [40.227413, -75.644631], [37.605721, -120.993546], [33.976890999999995, -84.08961500000002], [30.688271000000004, -88.12635], [41.422213, -78.739087], [37.552697, -77.451497], [33.429586, -84.86269899999998], [39.08578, -94.59224], [36.983591, -121.383634], [40.70174, -73.991264], [33.305622, -111.899064], [34.072292, -118.054612], [30.467269, -91.174399], [34.168785, -118.501099], [39.49424000000001, -121.688644], [40.203892, -105.102562], [37.606005, -122.385483], [38.325497, -85.623207], [39.80016, -105.02442], [34.087375, -117.68089], [30.688005, -88.12640400000002], [40.65108, -74.011163], [32.717499, -96.785568], [42.437921, -123.289378], [35.262192, -80.919037], [25.941521, -80.189497], [36.75339817983268, -119.72483038845192], [33.786846999999995, -84.493166], [29.396162, -98.498009], [39.10488, -94.76593], [26.813582181802683, -80.09785294494581], [34.11753, -117.85069], [42.625214, -71.177841], [26.10384821879337, -80.27030825576655], [34.839432, -82.43034399999998], [34.299027, -117.457492], [32.978851, -79.814743], [42.28162, -71.08695999999998], [34.365183, -118.503648], [47.60323, -122.330276], [45.339314, -122.640854], [28.100117, -81.973839], [34.64415, -81.921013], [41.624233, -73.874207], [39.070372, -94.515852], [34.960348, -82.28560999999998], [30.390139, -97.652521], [42.301073, -79.650942], [41.139324, -74.169876], [43.793537, -71.80484799999998], [34.001262, -117.351893], [33.739118, -117.074841], [42.960495, -83.632896], [40.567002, -74.325488], [41.99827552, -121.51948571], [44.855152, -93.147453], [32.797195, -117.149361], [32.909514, -96.732513], [46.753628000000006, -116.558571], [44.85823, -93.33297], [32.894884999999995, -96.803854], [25.812197, -80.21010600000002], [33.775199, -84.57867399999998], [34.293819, -118.470198], [48.010857, -122.191322], [37.516472, -77.395725], [42.359583, -87.883157], [32.225819, -110.87529], [45.50828900000001, -122.778992], [32.803181, -116.962433], [36.892635, -121.604607], [39.43764567356377, -76.81963562928762], [39.403764, -77.46122], [41.109798, -73.402788], [44.86195, -93.308769], [39.086407, -94.59214], [33.99715, -117.931252], [39.21584, -77.53463], [40.225235, -74.010054], [35.522308, -97.706932], [40.541538, -122.352226], [30.62846, -88.117867], [47.629761, -122.341011], [45.62078, -123.406524], [33.81266, -118.16513], [45.429417, -123.138129], [28.493789000000003, -81.46001600000002], [30.35263, -97.59245], [26.3996207712822, -80.0901710983272], [33.967724, -112.128662], [38.8741, -76.97742], [38.790172, -77.173518], [41.390369, -73.59796899999998], [35.088139, -89.845688], [34.06819, -81.171681], [29.95496392, -90.09009004], [36.90890192967935, -84.1319811340135], [32.66795, -97.223442], [37.773006, -121.177032], [33.241132, -81.438311], [41.803837, -124.143229], [29.80664849267098, -95.37311911537468], [26.865388, -80.129077], [42.98487782457836, -85.67757725674781], [39.951996, -83.012335], [34.056576, -118.241417], [28.56736, -81.286006], [37.833195, -122.29438], [29.723911, -95.491295], [27.94487, -82.53448], [36.169849, -86.809729], [32.581471, -93.893297], [29.616035, -95.216179], [35.347895, -80.84576899999998], [39.018546, -76.97162], [28.45103, -81.35937], [39.245079, -119.937347], [32.732537, -117.154791], [32.885582, -96.700478], [36.231422, -86.773476], [27.984942, -82.787772], [40.022789, -75.03613299999998], [38.496158, -121.429183], [27.521729, -82.537287], [39.189419, -94.617773], [44.07291054704631, -90.52250504450548], [26.703644, -81.894539], [29.334044, -81.059326], [46.675522, -122.975716], [39.922375, -76.888504], [41.87128, -87.85967], [34.11783, -80.88589499999998], [48.472631, -114.358533], [33.371648, -111.96814], [40.72871, -74.10408000000002], [30.347937, -91.027687], [35.34825900000001, -80.732887], [31.464853, -106.05271100000002], [39.77186, -86.04996], [33.713108, -84.499954], [33.544189, -86.753632], [38.84334000000001, -78.29853], [30.400452, -91.084038], [46.645561, -122.959534], [39.756405, -84.234261], [33.771341, -84.233376], [34.052589000000005, -84.370995], [40.627884, -111.904427], [40.264725, -75.668084], [44.86178040483064, -93.2990849013648], [33.33445, -111.972061], [42.94825, -85.630753], [40.710738, -73.992716], [34.052528, -118.259361], [41.750829, -87.915589], [32.929282, -96.759908], [29.706858, -95.30825], [33.743271, -84.370323], [36.141792, -86.713977], [40.700291, -111.938934], [36.153469, -86.721497], [30.233147, -97.765289], [33.935608, -118.049558], [37.164307, -121.990486], [28.524355, -81.285522], [29.963357, -90.073928], [35.561855, -82.54101800000002], [39.30731, -94.665477], [32.746559000000005, -97.319366], [34.333424, -79.509811], [36.110798, -86.743249], [40.80592, -73.970451], [38.815973, -77.137638], [39.49352145176175, -76.23598694764979], [34.009627, -81.153076], [41.697707, -77.071668], [45.416593, -122.743858], [39.65831, -104.844017], [39.158491, -84.438549], [29.961014, -95.547508], [45.311759, -94.488231], [40.715817, -73.81430300000002], [25.769754, -80.330901], [29.484085, -98.402954], [41.786064, -72.380455], [42.527527, -88.97509000000002], [32.727684, -96.651841], [41.411377, -81.615723], [39.744165, -102.255692], [34.27942, -119.30768], [34.201728, -118.189248], [32.767517, -96.835632], [40.428497, -79.973564], [27.356962, -82.518066], [37.143429, -121.984901], [37.320629, -121.995506], [32.898823, -96.716751], [33.27021, -80.56671899999998], [32.943096000000004, -96.814377], [26.16664500000001, -80.159766], [39.44210800000001, -76.348764], [29.716619, -95.557983], [35.029411, -82.10054000000002], [30.608607530447927, -86.98143124538906], [34.831409, -82.299149], [34.056171, -118.256004], [38.911575, -94.524139], [40.083889, -75.385612], [33.781532, -84.390869], [25.972845, -80.20515999999998], [40.986009, -78.184901], [26.201544, -80.202905], [34.002345, -117.832926], [37.59462, -120.96026], [25.916856, -80.210484], [41.669704, -72.833702], [27.937549, -82.126687], [38.401618, -122.82558], [36.299774, -86.696625], [41.520784, -72.771245], [41.86210300000001, -88.10659], [43.118034, -87.91804499999998], [27.912935, -82.70490699999998], [38.436001, -120.554932], [41.908344, -88.155411], [41.78387100000001, -72.66497], [36.01182100000001, -83.84610500000002], [40.699127, -73.988632], [40.557863, -85.658568], [35.933491, -119.910362], [25.889278, -80.209335], [33.002556, -80.08901999999998], [39.077217, -121.546283], [39.728161, -104.272409], [38.87706, -76.9635], [41.806129, -87.936989], [41.66338, -87.73983], [29.724955, -95.390259], [30.436927, -91.084538], [36.856288, -76.430449], [37.83312, -122.294587], [45.467979, -122.579071], [33.928539, -98.522911], [30.244278, -97.765099], [39.333693, -78.30790400000002], [33.917124, -118.035238], [40.799824, -73.929906], [34.069706, -117.54506200000002], [26.59679, -81.87185699999998], [41.422199, -81.843018], [39.966934, -83.02291899999999], [34.206921, -118.219101], [33.775738, -117.853043], [42.676991, -84.412722], [32.73424, -97.40907], [29.558896, -95.145397], [36.099152, -80.01809], [46.963173, -96.746174], [34.069309000000004, -117.54506], [25.686308, -80.41669], [34.045387, -117.310837], [33.946999, -117.299232], [42.156486, -79.468784], [38.819085, -76.914542], [30.366196, -97.896034], [32.678391, -96.682579], [35.615234, -97.584358], [30.23835200000001, -81.595775], [29.953756, -90.083061], [37.619483, -120.952997], [40.097575, -86.508604], [29.435278000000004, -98.495544], [37.35739, -122.1172], [32.801586, -96.82666], [26.15485, -81.345108], [33.731503000000004, -117.834396], [33.235565, -87.576691], [33.978382, -81.194824], [36.833823, -121.439158], [34.976144, -81.982523], [33.650402, -78.9813], [40.025295, -75.228973], [39.45251584034227, -76.64293169938735], [33.901737, -84.27226999999998], [34.065559, -81.168716], [37.403263, -77.682259], [27.99218, -82.36998], [45.30661, -118.04741], [41.536442, -83.462891], [30.249544, -93.013771], [37.861172, -122.03298999999998], [35.307388, -78.436639], [46.330214, -94.146577], [29.74078, -95.45813], [38.201396, -122.620117], [29.679892, -95.342682], [37.251514, -121.838058], [28.306407, -81.463598], [25.890733, -80.163416], [33.036999, -83.926133], [37.890781, -122.111122], [41.099754, -73.951324], [34.156890000000004, -118.37925], [33.967651000000004, -118.162393], [35.16179680807513, -89.89714264826824], [40.663691, -73.82162], [42.43, -71.695877], [29.78409000000001, -95.456726], [39.399876, -76.66407], [32.781219, -96.540382], [45.919467, -112.423712], [37.156448, -93.295582], [38.36974, -122.712789], [42.254358, -88.021005], [41.982517, -88.138435], [43.17762000000001, -87.91870899999998], [33.929256, -81.04255699999999], [44.91038203218026, -120.68703532161383], [40.829995, -74.138705], [45.07011, -93.28598], [42.470066, -71.245186], [39.696587, -104.829193], [44.47119, -94.37154], [34.15489, -118.288794], [37.410344, -77.651364], [35.115394, -81.053034], [43.61709000000001, -111.949994], [33.824909000000005, -84.233932], [33.876209, -118.15998799999998], [34.040482, -117.724358], [35.817811, -78.598529], [38.252408, -87.392421], [29.613489, -95.432182], [29.773291, -95.247322], [42.33514, -88.11203], [36.302658, -119.734944], [29.851793, -95.346474], [39.29184, -120.68302], [32.35767, -88.730267], [39.487148, -118.875748], [33.78326, -118.207504], [41.046959, -73.803459], [29.382635, -98.467613], [33.002708, -80.668991], [48.05426, -122.262466], [40.983616, -75.62958499999998], [39.569131, -106.118096], [42.275429, -71.796547], [43.032124, -87.957756], [35.84824919683528, -120.76511979045506], [39.349953, -76.496826], [30.290655, -81.629631], [34.717937, -120.200702], [33.914048, -118.183135], [33.520168, -81.923019], [37.700954, -121.829563], [38.756235, -77.083715], [36.150677, -120.631271], [27.936367, -82.310249], [34.231907, -117.202035], [38.272416, -81.783527], [39.063161, -74.833303], [33.916172, -118.223541], [39.795624, -86.274658], [37.316051, -121.829041], [34.015106, -117.090469], [33.241589000000005, -84.806496], [37.550911, -77.42858100000002], [42.254211, -71.03922299999998], [33.944, -84.357964], [34.048171, -117.550129], [36.785748, -76.398476], [34.064575, -118.000208], [33.662809, -117.789324], [35.792931, -78.613098], [37.380512, -121.959015], [28.579952, -81.374893], [39.878751, -75.10297800000002], [32.50053, -93.715431], [39.93029236774478, -86.16453766781729], [41.936085, -121.450547], [39.819389, -84.189224], [38.133286, -122.223679], [40.271141, -75.613449], [29.419727, -98.502044], [34.438002000000004, -119.846539], [34.234821000000004, -118.290932], [28.449935, -81.478525], [32.70772, -117.14772], [29.030030965666626, -82.15877652129099], [45.055237, -122.70962], [37.783173322497454, -121.22897028865228], [32.700928000000005, -96.753098], [29.51849341, -98.39547515], [41.737805, -72.739037], [34.067816, -117.516838], [40.13541, -75.185486], [39.144699, -84.457115], [38.50627100000001, -121.784943], [30.4182, -91.176582], [40.757763, -73.862801], [38.611160516554776, -90.20388007120988], [41.106731, -73.42018], [28.44372153, -81.64203286], [37.838272, -122.296768], [37.717384, -122.17513999999998], [35.257, -80.841585], [38.402271, -121.859772], [40.63306400000001, -111.889267], [33.864891, -78.64539599999998], [30.441219, -91.139359], [35.27303338034023, -80.83211302718719], [25.764969, -80.303967], [43.103035, -77.50473000000002], [37.209715, -121.722876], [35.079712, -89.93006899999996], [33.912631, -117.284418], [25.582037, -80.36573800000002], [34.242882, -86.86721800000002], [29.939013, -95.315666], [30.131895, -98.01033], [33.488752000000005, -112.151654], [37.64079, -121.40491000000002], [35.553227, -120.70351399999998], [35.105228000000004, -106.67083], [34.922515999999995, -81.986824], [36.118801, -95.963387], [39.939027, -75.267967], [35.80631599999999, -80.185298], [41.894466, -87.65601600000002], [34.037961, -118.273908], [43.15308, -77.611389], [25.56187000000001, -80.342807], [39.34874, -119.791222], [35.656925, -78.84639], [33.627663, -78.99871800000003], [38.887569, -77.021912], [40.74675, -73.76444000000002], [34.510769, -82.687691], [40.166716, -76.16404399999998], [43.548321, -71.407547], [32.284808, -95.304505], [34.08277631, -118.22727799], [32.920662, -96.750656], [37.146991, -93.426915], [30.443613, -91.178818], [28.533457, -81.384125], [42.454521, -83.21582], [39.580091, -77.868874], [30.44714, -97.800217], [37.316190004170814, -121.97091221751226], [37.137293, -93.257991], [25.81282, -80.207146], [42.278214, -89.080139], [25.847283, -80.241715], [34.358051, -117.636269], [25.782781, -80.360922], [39.77496, -86.14215899999998], [39.139664, -77.60619399999999], [33.835999, -84.368011], [25.681951, -80.314748], [32.796532, -81.159363], [27.979605, -82.45384200000002], [33.876918, -118.187818], [38.698241, -75.17161], [40.164471, -75.135262], [30.10154600000001, -81.833325], [31.79292, -106.37185], [40.041557, -111.543159], [30.430056, -91.05674], [36.792622, -121.667], [44.973492, -93.40062], [45.448828000000006, -94.443156], [38.91624, -77.39999], [41.538418, -87.962051], [28.809855, -81.33886], [29.749744, -95.371945], [34.11113, -118.180359], [37.527805, -121.998678], [43.094108, -77.39256400000002], [37.695946, -122.112155], [33.493697999999995, -112.416412], [26.203227, -80.144478], [45.080026, -123.611895], [34.086275, -118.30246], [45.210597, -93.583935], [37.31545300000001, -121.908616], [36.15181, -86.75930799999998], [32.836914, -96.914864], [33.996424, -118.148259], [39.109537, -120.950192], [37.59649157506181, -77.46611237489], [37.627369, -122.081245], [35.860279, -80.07268499999998], [37.325764, -121.893219], [41.224747, -96.024849], [29.478958, -82.602262], [33.951605, -118.368984], [27.938841, -82.77504], [34.610253, -117.81208], [33.983576, -118.280912], [39.855945, -75.383386], [32.962034, -96.788426], [33.93331, -84.35795999999998], [41.82366, -88.02826999999998], [33.923969, -118.300339], [38.055283, -105.093345], [25.898338, -80.20976999999998], [38.663925, -121.272102], [33.75412, -84.37841800000002], [29.97549891457569, -90.06328940348595], [39.093506, -123.21635], [40.914558, -73.99736800000002], [33.619818, -84.430868], [29.832497, -95.491104], [32.71808982, -117.10864663], [40.129452, -82.740311], [32.861397, -116.922127], [38.105843, -77.529915], [34.038937, -118.583832], [39.912847, -75.362314], [34.590888, -79.701492], [36.880285, -94.411765], [44.968317, -93.088585], [37.76600718480221, -122.40364909113693], [40.7594, -124.16728], [34.036833, -117.149979], [38.670273, -77.25183100000002], [35.847038, -78.58009799999998], [42.9969, -71.42315], [39.19942800000001, -112.181368], [44.990669, -93.089333], [28.392641, -82.52869399999999], [33.382523, -111.966949], [42.789932, -74.015999], [33.76591, -117.941955], [45.25046500000001, -93.024422], [41.37279, -81.51416999999998], [28.494227, -81.426183], [29.91252, -81.41063299999998], [26.789296000000004, -82.27016], [33.732815, -117.989278], [41.014942, -74.617981], [32.817524, -96.639076], [25.598677, -80.351502], [28.407413, -81.40464], [42.504404, -76.360034], [39.212845, -76.533636], [41.811878, -87.947197], [35.377163, -97.526588], [40.957012, -73.741775], [41.365231, -89.126175], [39.694283, -75.686768], [27.995848, -82.357773], [25.897434, -80.236324], [35.786455, -78.717906], [34.625981, -82.09796700000003], [37.529819, -77.32710300000002], [43.511534929068034, -93.35429549172709], [41.19242, -80.15860500000002], [43.111628, -77.77628299999998], [29.775307, -95.294678], [28.816711, -81.335112], [36.151749, -95.985977], [40.132389, -82.809738], [44.937687, -93.349182], [39.72617, -121.809181], [33.776878, -79.021149], [42.40204, -82.97069], [34.230228000000004, -79.68476899999997], [36.1349, -85.48458000000002], [33.044090000000004, -80.120201], [40.476419, -78.421876], [32.896834000000005, -96.78807], [40.170898, -76.39988699999998], [34.071999, -80.915413], [32.452671, -93.865601], [30.267599, -97.724907], [25.784545, -80.276667], [46.802891, -123.007095], [33.011957, -80.113651], [25.996241, -80.16617600000002], [32.908857, -79.90091899999999], [34.791222, -81.907197], [36.96434, -121.762627], [38.358597, -121.933977], [25.731967, -80.384599], [28.065973, -82.56749], [35.0878, -80.84506999999998], [25.848932, -80.207596], [40.045959, -75.44577], [33.936077000000004, -118.092997], [34.063984000000005, -117.290139], [39.18353, -104.85036], [33.315723, -97.179642], [34.972118, -82.75131999999998], [36.906374, -119.792501], [33.852213620978105, -118.28454852047784], [41.846661, -87.957726], [29.704597, -95.557411], [32.978489, -86.693321], [34.209529, -118.222695], [47.580029, -122.182228], [33.760464, -84.493477], [37.527489, -122.51342], [38.323538, -76.547527], [40.701736, -73.991577], [47.46777, -122.217903], [45.512573, -118.431365], [36.157906, -86.790863], [35.249897, -80.749313], [38.122086, -122.275703], [42.430031, -83.21923100000002], [38.817713, -76.938312], [42.878401, -78.878649], [33.88298, -118.026983], [42.50956893, -73.79082084], [38.38707700000001, -122.71859], [45.584558, -92.993265], [43.604905, -116.362636], [39.806058, -86.064133], [33.846844, -118.092814], [42.1706, -75.13886], [47.463776, -122.245476], [34.069901, -117.963203], [38.42328300000001, -122.797302], [28.479233, -81.44975], [37.710956, -120.907669], [34.072044, -117.907516], [42.365592, -83.13391800000002], [38.933342, -77.429726], [40.020866, -79.082718], [40.757118, -73.97189], [39.903124, -76.704329], [26.622379, -80.06732199999998], [25.683394, -80.41639599999998], [42.549519, -71.849159], [47.602749, -122.183609], [35.237072, -80.736176], [33.766796, -84.526344], [45.48615, -122.757388], [40.822581, -73.886551], [38.631051778609134, -75.73801875078325], [32.753948, -117.010796], [30.42847, -91.171342], [26.542843, -81.852616], [40.694138, -73.54377], [34.090089, -118.475626], [28.037007, -82.088132], [35.735699, -78.862572], [33.876591, -118.171927], [45.310921, -95.634743], [34.18575, -118.47387], [40.115533, -80.430875], [34.017823, -117.533089], [25.671618, -80.389403], [32.779025, -117.101136], [32.66988, -96.93186], [33.90442, -84.238561], [34.193905, -118.474332], [40.743855, -73.73268900000002], [34.111893, -117.302452], [33.919155, -118.104518], [32.674702, -96.822992], [27.441442, -82.459602], [36.64167, -119.736778], [40.616676, -122.36442], [32.571896, -86.184804], [37.742188, -121.525635], [35.124233000000004, -78.753609], [40.746658, -73.96934499999998], [42.162601, -71.736488], [28.605028000000004, -81.286958], [32.26128, -110.960999], [42.341541, -83.06732199999998], [38.708511, -121.309776], [25.941189, -80.188746], [34.278183, -118.502144], [29.686828, -98.122297], [42.593948, -71.31707], [34.240131, -77.946602], [32.443402, -93.720697], [33.604484796363806, -117.69012808743624], [39.094718, -120.950591], [34.78995680792432, -89.96688008265512], [30.313299, -81.770538], [35.368672, -118.945287], [33.831534999999995, -118.255791], [40.44587731342103, -74.42495942080295], [34.805618, -82.295197], [40.739337, -73.792005], [42.86063, -85.703438], [35.13553, -80.89189], [25.996298, -80.157758], [33.9982, -117.936382], [32.675417, -117.10836], [34.156918, -118.448685], [39.400649, -112.498861], [37.52942, -77.48538], [30.448425, -97.791702], [37.190914, -121.993423], [40.629982, -73.886627], [30.425435, -97.701986], [28.32736, -82.501549], [37.542881, -77.324501], [25.74753, -80.337365], [38.474298, -121.419046], [33.664043, -84.395798], [38.707818, -121.376899], [36.17380900000001, -86.76281], [40.701443, -73.961205], [32.745562, -117.119806], [38.496254, -121.297806], [29.863575, -95.43102], [34.597262, -82.617708], [43.141171, -77.440857], [32.737917, -96.888167], [35.056923, -80.769661], [43.0429, -76.17126], [47.452406, -122.824953], [35.572319, -80.558296], [33.877289000000005, -118.343826], [38.510319, -121.466949], [37.545135, -77.462021], [37.950451, -122.056305], [45.81179, -95.11373], [28.509007, -81.41926600000002], [32.266869, -86.35507199999998], [37.387425, -79.90272900000002], [26.587439, -80.069122], [41.542551, -74.012463], [38.33575129, -123.04993272], [34.077461, -117.996772], [33.420941, -82.05589499999998], [42.172337, -72.33168], [34.595642, -82.1054], [34.155045, -118.310867], [40.853494, -73.963786], [39.106782, -77.548603], [30.185762, -81.513479], [34.819679, -82.276329], [33.919094, -84.35773499999998], [33.040192, -80.138847], [39.172979, -94.549046], [40.641726, -74.206422], [30.410427, -81.564766], [36.127325, -86.844258], [32.271446000000005, -80.915104], [40.922652, -122.408943], [40.72450300000001, -74.007032], [33.462978, -112.267792], [25.94156384455709, -80.1895844932547], [39.14219, -103.489343], [45.761715, -119.198001], [33.947441, -79.690811], [37.420475, -121.067329], [47.147018, -122.504494], [33.725986, -84.393849], [34.216515, -80.773441], [28.357297, -81.491558], [34.190128, -82.224701], [47.638664, -122.32264], [30.20997, -97.713699], [29.705293, -95.519353], [38.811508, -77.218216], [43.038559, -83.635559], [35.95433, -80.53575], [38.775481, -76.214893], [36.128036, -96.005783], [41.21204, -111.979073], [32.922962, -96.718018], [40.105694, -88.490891], [34.15053, -118.46828], [33.766376, -84.527321], [42.23481, -121.559864], [35.22247, -80.84746], [35.35244, -118.936005], [32.794537, -96.723038], [36.08532, -115.0337], [42.974998, -83.633247], [35.046623, -82.495918], [34.129874, -79.932008], [39.131678, -94.67662], [40.114368, -75.41851], [40.976444, -117.725552], [33.971825, -118.3778], [40.07946, -75.33161199999998], [36.752856, -119.786866], [25.50981, -80.41869200000002], [30.457397, -91.058223], [34.9729, -86.88324], [38.854092, -77.22039000000002], [38.161098, -85.88160699999997], [34.273415, -118.569733], [27.88624, -82.669275], [33.45970988, -112.51041770000002], [39.928856, -75.146385], [34.902073, -82.129616], [37.27936, -121.864529], [33.466, -112.169144], [42.25278, -71.03825], [44.29242253, -92.68316388], [40.16364455203932, -75.48535466158157], [30.453441, -91.273433], [41.800743, -71.402214], [30.476868, -97.807228], [39.020073, -76.94062], [40.047595, -75.000252], [38.89914, -111.65987], [33.709126, -78.914825], [40.84584, -73.9302], [32.836512, -96.632743], [42.308756, -87.87409], [35.815622, -78.695983], [29.719625, -95.50116], [40.04351, -76.286324], [33.814209000000005, -118.176323], [29.752083, -95.375153], [39.440109, -121.497123], [25.437019, -80.47493], [33.912338, -84.37912800000002], [34.34461, -118.50483], [25.87919, -80.323615], [33.713486, -84.272713], [36.177761, -95.937172], [43.85741, -84.89952], [39.227421, -76.846657], [30.423119, -87.24111500000002], [37.738865, -122.142387], [35.368542, -97.530029], [37.70697, -121.72838], [37.524392, -77.418233], [40.829455, -73.847748], [33.505981, -86.694038], [30.689631, -88.037362], [44.8857, -93.00431], [37.744808, -121.725456], [39.849648, -105.0532], [33.013859000000004, -80.714348], [27.996487, -82.546097], [33.461696999999994, -112.114128], [41.342357, -76.9704], [39.73254, -84.121964], [39.905791, -86.07097399999998], [42.214035, -71.5467], [25.761734, -80.342119], [38.192188, -85.72803499999998], [38.721126, -94.676221], [25.919364, -80.244351], [39.468863, -77.989891], [42.101349, -80.10225600000003], [37.70362, -120.334307], [40.86809992770736, -74.00402426684377], [40.888102, -73.11030600000002], [41.874, -72.6624], [33.909725, -117.558815], [28.634132, -81.415031], [42.415543, -83.218876], [34.5597, -82.627769], [34.820467, -82.317638], [25.625151, -80.41441400000002], [33.853416, -117.810341], [35.219555, -80.75292900000002], [34.466474, -117.349426], [42.773678, -71.118599], [47.23979, -122.402991], [32.338, -108.67413], [33.532222999999995, -86.824303], [27.996709000000006, -82.572209], [40.349576, -114.244497], [34.08569, -118.21636200000002], [32.554346, -93.793491], [42.932434, -78.765087], [32.920906, -96.750961], [34.146961, -118.370216], [39.557715, -86.045924], [41.939193, -87.708202], [41.72711, -87.62476], [33.912116999999995, -118.073502], [38.775168, -76.887513], [36.12212, -95.904572], [40.701736, -73.991577], [35.45883900000001, -97.618858], [26.165329, -80.18030300000002], [40.714793, -74.29016899999998], [34.0675, -117.549468], [25.560063, -80.362755], [32.769215, -96.805885], [41.57825, -87.66069], [40.51659, -111.890991], [36.62684083, -82.17326045], [35.600524, -82.540735], [40.70302, -73.96015], [33.960091, -118.280327], [29.206536, -82.184675], [40.707687, -74.000076], [33.391006, -111.967479], [34.221405, -118.35981], [34.04081, -118.17076000000002], [39.165213, -78.163714], [40.727989, -73.832809], [33.441340000000004, -111.86548], [37.926247, -122.06002], [30.460911, -91.123947], [35.608025, -97.583778], [35.345539, -80.722475], [39.78367, -104.77222], [25.78099, -80.4183], [40.113056, -75.201012], [36.09177232, -86.68527245], [37.802109, -122.298759], [37.550037, -77.43634499999997], [32.798599, -96.683324], [38.635914, -90.391922], [41.934224, -71.319648], [29.68837000000001, -95.570274], [34.081681, -117.715619], [32.632202, -80.72179399999997], [30.423187, -91.138741], [45.61295, -122.67813999999998], [25.925642, -80.210613], [38.197601, -120.68578], [39.786802, -84.21171700000002], [34.894772, -81.623817], [37.985668, -122.315582], [27.916412, -82.749825], [45.51468, -122.5653], [32.764069, -117.161346], [25.918699, -80.210411], [38.331308, -77.047262], [30.321875, -97.679355], [35.68614, -78.61754], [27.26458, -82.526507], [37.04351, -121.577827], [33.171932, -96.640923], [30.367392, -97.694588], [35.125679, -80.995293], [45.37542, -122.75555], [34.509327, -80.998085], [32.496681, -93.75985], [42.350185, -83.099335], [42.890701, -78.888634], [38.64090085, -121.47466063], [34.039364, -81.09362], [28.494283000000006, -81.453172], [42.157305, -76.30755699999997], [36.35262700000001, -119.412497], [36.591431, -121.880325], [33.49093, -112.112957], [37.844982, -122.251251], [25.626145, -80.41645], [38.872237, -121.130519], [38.510334, -121.460068], [35.219971, -80.85662099999998], [47.40717530227944, -122.62522101343808], [39.875347, -83.004547], [40.70505, -74.152491], [26.93054, -80.14881], [41.67515, -87.601178], [30.639629, -88.224731], [41.044912, -73.563784], [25.88282, -80.236964], [33.10399, -96.676995], [40.369877, -73.994789], [39.755829, -84.220901], [32.338921, -86.227058], [39.19771, -77.26347], [37.704407, -122.394241], [44.919158, -93.275374], [40.833149, -74.826424], [43.65154623964476, -93.98098826363572], [34.69663, -82.92489300000003], [42.159365, -88.04718299999998], [34.970887899232046, -110.09237408585504], [27.069035, -82.095412], [28.560558, -81.268304], [41.933937, -71.318993], [36.861332, -121.583015], [34.950104, -82.12355], [35.17270300000001, -80.859627], [36.674072, -80.709457], [40.670157, -73.997775], [28.83932, -82.05024], [40.431856, -76.44497700000002], [39.649929, -74.87355], [25.889456, -80.20476500000002], [25.814079, -80.19753299999998], [34.756108000000005, -92.262466], [33.876087, -118.129308], [42.222542, -83.411507], [33.698451, -117.861378], [39.699593, -86.297188], [37.718043, -121.66644], [38.564968, -122.558045], [30.322414, -92.034142], [41.268121, -111.97768], [40.333553, -75.378426], [45.635562, -122.56108600000002], [30.43001, -91.05687], [44.86191, -93.30487], [38.757458, -121.259654], [29.732812, -95.501165], [40.737286, -73.851784], [35.441404, -119.092171], [28.263713, -81.432015], [38.832157, -84.68695799999998], [36.03696, -80.38214], [34.67107, -86.757828], [29.677772, -82.399378], [28.440165000000004, -81.403749], [32.583903, -117.094293], [29.715608000000003, -81.662713], [36.08371, -86.76358], [40.884652, -121.656994], [35.558311, -97.656219], [27.46456, -82.62211500000002], [34.325839, -119.290306], [25.884154, -80.35106999999998], [33.641962, -111.977479], [25.948502, -80.148765], [39.971251, -75.46742900000002], [27.812274, -82.675517], [28.513045, -81.420702], [35.827312, -78.620384], [37.321661, -121.925902], [33.897884000000005, -117.274895], [40.53168, -74.34983000000003], [25.915067, -80.179567], [33.425244, -80.45535], [40.818138, -77.939865], [34.465738, -112.520564], [34.084785, -80.225383], [42.238876, -83.341545], [38.952873, -123.098473], [28.465563, -81.38458299999998], [28.545392, -81.310572], [32.866602, -117.206302], [44.927143, -93.069496], [35.231393, -80.845828], [37.85097800000001, -122.299583], [39.858219, -82.82811], [40.71165, -73.82261], [34.054319, -81.12139], [32.643096, -96.857019], [37.769993, -121.328232], [30.197161, -92.068581], [35.845172, -78.325645], [28.563335, -81.27777900000002], [36.828843355003215, -118.877445458799], [41.804611, -71.510666], [30.440248, -91.208923], [34.068493, -117.97396100000002], [39.840721, -86.355537], [41.41262, -81.608712], [25.788719, -80.203537], [41.755267381468975, -72.64983057941127], [41.874432, -87.837463], [38.795853, -77.138046], [32.816254, -96.810677], [28.014376, -82.329285], [33.930997, -118.280952], [33.875389, -118.193047], [32.693196, -117.102454], [41.9057, -83.36896999999998], [35.75299859029888, -78.63154292069133], [33.859325, -118.290604], [29.965179, -95.336487], [34.058250188665106, -118.24420809689406], [42.898739, -75.643059], [25.643516, -80.350286], [33.988809, -117.896434], [25.902502, -80.31415600000003], [33.65215, -117.408892], [29.790813, -95.563225], [34.670696, -82.897796], [30.172424, -97.62944], [34.07003, -117.962227], [35.56155800000001, -97.573166], [42.338905, -71.262665], [35.76755900000001, -78.574387], [35.462269, -97.493988], [44.894055, -122.932614], [33.950104, -117.385585], [33.75692, -118.290706], [25.764292, -80.267999], [38.990659, -77.036272], [47.475158, -122.203592], [38.014286, -122.269974], [33.821548, -84.359383], [42.956486, -85.58998100000002], [37.619965, -122.075989], [30.264942, -97.738976], [39.8212, -85.764472], [40.82001500000001, -73.89035], [39.010368, -78.29647800000002], [25.761068, -80.47718], [32.765961, -117.128319], [27.89381, -82.708191], [41.872135, -87.645363], [42.324776, -71.065163], [33.122266, -117.102788], [29.74556, -95.36248], [38.364891, -122.712387], [38.223156, -122.256989], [32.80201, -96.83], [26.767282, -81.929519], [41.147312, -96.138885], [43.074791, -75.284851], [45.661125, -110.654296], [43.553089, -71.735199], [37.67297, -77.57513], [40.85318, -73.96068000000002], [45.174123, -93.526853], [38.550727, -121.380234], [43.05126, -76.1488], [41.456188, -88.19603000000002], [40.75106, -74.978699], [34.880400895906064, -82.20561861952683], [39.99215, -76.02126], [40.69980200000001, -111.902306], [40.354198, -78.948413], [44.94889000000001, -93.10283], [28.567415000000004, -81.21289], [36.897385, -76.23396899999999], [38.640106, -112.607105], [39.978352, -83.000389], [34.17054, -118.501099], [32.759370000000004, -97.011], [33.923961, -118.245337], [32.658314000000004, -97.174187], [39.895508, -83.85368299999998], [40.763939, -73.00550799999998], [40.399971, -111.536049], [42.27539, -73.873018], [41.014804, -76.303166], [35.795895, -78.51001], [42.270973, -88.07680500000002], [34.989376, -81.965919], [35.31420900000001, -80.81600999999998], [33.928989, -81.037312], [25.81228, -80.22870999999998], [40.00853, -75.280396], [32.880936, -96.897942], [33.759471999999995, -84.378876], [42.205631, -71.065086], [36.20636, -86.775902], [38.27203400000001, -122.670059], [44.298847, -88.423073], [40.765597, -73.717596], [41.516716, -74.16575300000002], [34.59878, -83.04551], [31.805574, -85.987923], [40.646858, -74.575478], [33.096249, -96.679746], [44.850472, -120.045499], [38.614341, -121.151584], [36.170231, -86.74022099999998], [30.740711, -88.108078], [42.96279787996787, -123.85266423166344], [37.867235, -122.201026], [37.5415, -122.28527], [30.75401, -81.65109], [37.254694, -121.792405], [38.997253, -122.872044], [34.36797, -79.35804300000002], [33.38887810691171, -86.66769862133661], [37.461704, -122.14283], [45.65144419648336, -110.94295620865373], [44.97393, -93.249649], [30.387175, -91.06308], [29.858688, -95.504951], [41.94725800000001, -71.022133], [39.657127, -104.844803], [33.34838748, -84.12423491], [44.89147, -122.99371], [38.303935, -121.318354], [40.78621500000001, -73.795229], [36.039357, -86.785636], [37.34642, -121.921654], [32.890253, -117.206022], [27.967484, -82.56068499999998], [41.289887, -123.565912], [37.63892, -77.555839], [39.921089, -83.061371], [35.122629, -85.275356], [32.690422, -96.63028], [29.592017, -95.190237], [33.188862, -87.301201], [37.359451, -77.437943], [44.905071, -91.854462], [26.841705, -80.13101999999998], [30.046224, -89.961299], [34.099449, -117.872597], [41.035675, -73.816696], [35.575841, -82.58296], [40.71802, -73.99995], [27.388185, -82.468051], [43.662232, -123.323379], [37.841924, -122.259968], [32.79347, -96.72633], [32.342271999999994, -90.158563], [36.00556500000001, -95.886641], [34.023933, -117.335358], [34.210767, -77.98322900000002], [34.421585, -118.431244], [34.065128, -80.956673], [40.319443, -79.34572800000002], [32.825423, -96.696854], [30.243439, -81.76272], [28.035068, -80.624098], [41.175472, -111.810629], [38.663857, -121.225815], [45.021359, -92.959573], [36.765189, -119.740877], [37.764612, -121.411081], [34.028574, -118.448356], [28.34478, -81.36385], [38.672404, -121.261561], [29.800051, -95.513611], [41.97372100000001, -88.15029100000002], [32.835436, -113.357477], [42.33422, -87.87165], [35.33581500000001, -119.013069], [40.160744, -75.477699], [32.584697, -83.38635], [34.154171000000005, -118.34507], [29.802832, -95.482895], [40.78250900000001, -73.433998], [34.154182, -118.46823899999998], [36.045601, -86.609489], [34.142792, -118.185677], [40.18845200000001, -75.620913], [35.80268, -78.59364000000002], [25.895833, -80.32458100000002], [36.752856, -119.786866], [33.970734, -81.007141], [36.773774, -76.254758], [39.820923, -85.769867], [44.861698, -93.461911], [39.72562, -105.025047], [37.838181, -122.296638], [37.976341, -122.312332], [42.300434, -121.93382], [33.42955, -112.08599], [42.228336, -71.181923], [37.914585, -122.317551], [39.196743, -84.664169], [40.04977, -75.56492], [42.978608, -85.677757], [26.71508, -81.808374], [41.288438, -72.626538], [38.660753, -121.272302], [42.319982, -124.41502], [34.184213, -118.91658], [25.767743, -80.3364], [43.614613, -116.261143], [42.705373, -73.853158], [25.911413, -80.324954], [34.447298, -77.88205699999997], [32.664327, -96.12651], [25.81711, -80.20644], [40.049995, -76.3069], [34.393559, -118.076446], [29.399347, -98.422417], [40.08305900000001, -75.161975], [32.39745300000001, -90.180638], [34.247198, -117.208264], [40.10687, -74.89535], [28.448675, -81.26469399999998], [25.829374, -80.32200999999998], [39.857059, -105.053234], [37.40782, -77.56496], [39.80679, -105.01207], [32.178003000000004, -110.939402], [32.782089, -96.769913], [27.265536, -82.527373], [34.017723, -118.279289], [33.952328, -84.130157], [34.349358, -106.876328], [34.117756, -117.84606200000002], [39.282646, -76.644867], [28.596143, -81.415813], [41.108776, -73.405991], [42.032604, -87.74733], [32.982231, -96.930359], [42.577023, -71.15226700000002], [37.319458, -121.832687], [32.852734000000005, -79.98790699999998], [38.80951500000001, -77.08869], [42.76845574, -73.76191735], [33.364154, -117.0772], [30.234757, -97.589449], [32.80553, -117.151067], [40.337868, -74.100838], [30.474517, -91.167149], [47.7939, -122.21484], [36.972309, -121.430801], [25.717491, -80.32220600000002], [29.84812, -95.323807], [37.273075, -121.946716], [35.20868400000001, -118.905257], [36.046362, -95.882562], [41.597691, -93.718437], [30.486576, -91.119934], [33.754395, -84.378357], [47.59778, -122.99212], [40.666781, -73.835973], [33.752441999999995, -84.71249499999998], [34.402809999999995, -117.57919], [33.787895, -117.830826], [36.156767, -86.77534200000002], [34.113882000000004, -119.083156], [34.257575, -117.326981], [25.810541, -80.169673], [33.77440810187447, -118.10372471753072], [33.512951, -111.926064], [40.665708, -73.996112], [38.567722, -90.393822], [37.527412, -122.359474], [41.263958, -73.683937], [36.141483, -86.776531], [35.693237, -78.581886], [38.616689, -121.420464], [42.351097, -83.04805], [32.71253, -117.169148], [37.653132, -120.957492], [34.143398, -117.257716], [39.622295, -84.226547], [34.557472, -117.512364], [28.418281, -81.422935], [33.385427, -111.94483], [40.744186, -73.77172900000002], [35.873132, -78.589874], [40.71015, -73.82059100000002], [43.01178400000001, -83.687164], [34.991428000000006, -81.94657099999998], [35.163378, -80.87602199999998], [39.976189, -82.873993], [35.107433, -90.029266], [32.849598, -96.752869], [25.86938, -80.32311999999997], [43.996281, -88.577011], [42.435589, -82.921677], [29.700302, -95.517952], [41.792885, -87.9244], [40.856491, -74.013349], [34.453526000000004, -77.60512299999998], [38.30846, -77.502701], [38.31491589527933, -81.55276894530509], [33.688016999999995, -117.871462], [42.79978300000001, -82.647947], [30.618944, -86.963264], [37.800811, -122.374987], [45.693439, -122.552811], [39.899624, -75.174927], [39.94726, -104.98803999999998], [33.46575, -117.136138], [45.01995, -123.08434], [30.555132, -85.15692299999998], [42.485198, -83.43207199999998], [25.748028, -80.320137], [38.82757, -77.95299399999998], [28.141116, -81.894681], [30.46162, -97.817696], [38.708679, -120.889442], [33.760464, -84.493477], [37.744831, -122.40416100000002], [33.939336, -118.011108], [34.029205, -118.012451], [40.531111, -74.157321], [47.620098, -122.348495], [37.829666, -122.001038], [35.175934000000005, -80.79827900000002], [37.711071, -78.92783399999998], [33.617412, -117.731109], [34.227814, -117.413872], [36.285839, -82.32311999999997], [33.951283000000004, -80.49740899999998], [34.081615, -118.035332], [40.27422, -75.563272], [43.542393, -116.162985], [41.259315, -96.00103], [42.225891, -83.21377], [37.731977, -122.420475], [33.458348, -80.73005699999999], [32.504044, -90.117196], [41.904968, -89.020927], [35.948032, -78.687294], [43.022411, -83.697739], [26.30025, -80.195871], [34.527424, -82.734787], [42.423248, -122.851654], [28.981958, -81.987373], [33.961315, -118.282757], [28.592342, -81.451454], [36.162441, -95.794441], [34.205184, -117.414554], [32.912239, -96.736794], [38.7198, -121.29566], [48.187904, -122.202721], [33.538349, -112.203056], [40.088154, -75.163742], [33.169369, -87.503906], [35.507809, -97.583389], [30.216019, -81.513931], [33.683331, -117.85685], [29.97942, -81.64923399999998], [41.502491, -81.478004], [42.49462, -82.93205], [37.507759, -77.492897], [33.995743989782355, -117.8744280332667], [33.596504, -112.116905], [33.457658, -112.335081], [40.845737, -73.931702], [37.511147, -121.937866], [42.98316, -73.85644], [28.514236, -81.48700500000002], [27.446166, -82.483786], [34.5788, -82.690758], [42.35107, -71.092682], [43.268096, -73.651689], [40.51211, -75.503661], [34.923076, -82.082267], [34.869759, -82.21093], [38.297981, -122.417343], [43.105869, -72.427307], [40.71944000000001, -74.23394], [34.354808, -117.437859], [38.449659, -123.11506], [36.833456754508816, -76.13303303682262], [35.973557, -78.687141], [33.446957, -112.108307], [33.407563, -111.891053], [42.47835, -87.853995], [36.047081, -86.647987], [45.138222, -92.999603], [32.1633, -110.94342], [34.463299, -82.170723], [30.479052000000006, -91.136651], [35.168641, -82.135603], [39.947544, -75.187363], [30.390072, -81.667763], [25.751387, -80.204712], [29.73151, -95.474007], [32.654695000000004, -96.877011], [44.86193, -93.30573], [33.941799, -118.360252], [25.820841, -80.288062], [35.773811, -78.715919], [29.631057, -95.148985], [27.447403, -82.53520300000002], [33.882111, -117.54953], [25.669662, -80.449451], [42.959095, -83.722412], [47.164212, -121.903052], [35.828529, -78.58528100000002], [25.980631, -80.351997], [37.847736, -122.027786], [33.879464, -117.558118], [33.884346, -112.034714], [39.470168, -121.453264], [43.121899, -76.159538], [33.186211, -117.296432], [36.1411893366044, -86.66323542553585], [29.659739, -82.420381], [38.781714, -76.052452], [34.01976, -118.154266], [42.290443181789925, -79.67957854232942], [33.74326, -84.37018], [34.1651, -118.4893], [38.853226, -76.910271], [34.054226, -118.004364], [37.742787, -121.563886], [34.022761, -98.926311], [40.064788, -75.141876], [28.181709, -82.438927], [47.663136, -122.300903], [43.005939, -77.66655], [39.118469, -94.564529], [40.837418, -73.880608], [36.931446, -121.476539], [37.932522, -122.403534], [25.924589, -80.319765], [34.066051, -117.328072], [38.489537, -121.90808], [39.047916, -94.678621], [38.02626, -87.64149499999998], [38.232731, -85.62801400000002], [36.15816, -86.62557], [35.694198, -78.574366], [34.018609999999995, -117.4761], [32.791203, -96.737915], [38.628187, -77.292389], [45.323495, -118.24576], [37.74055900000001, -121.58578500000002], [32.807041, -96.682739], [29.496576, -98.400558], [32.59914000000001, -97.319359], [40.087555, -105.102874], [43.174221, -77.568336], [36.791176, -119.709143], [32.983295, -96.82891], [35.065887, -81.033302], [45.51468, -122.5653], [28.598155, -81.41686999999997], [38.57380270939553, -121.5811121457978], [34.702499, -83.001007], [38.800976, -77.068657], [47.69898, -122.32998], [38.969212, -77.622711], [38.749747, -121.484453], [33.804733, -79.016853], [28.45051, -81.46427], [25.808751, -80.321481], [34.136679, -117.470904], [38.979195, -76.322983], [30.434674, -87.27359], [40.141754, -75.312576], [42.74512100000001, -83.420952], [25.581926, -80.366272], [38.763191, -121.258049], [37.631405, -121.019234], [47.906494, -122.21212], [32.85593, -96.648865], [37.808491, -122.367348], [41.11869, -74.16035500000002], [37.574173, -77.459862], [25.777893, -80.30240400000002], [41.714603, -87.636719], [34.840043, -82.42669699999998], [27.96458, -82.41532], [34.449539, -118.355217], [35.777813, -78.560852], [40.555202, -79.812141], [38.105228, -79.05986800000002], [29.99157071099285, -90.05363345103237], [32.970173, -83.825197], [45.293744, -118.037034], [26.651928, -81.94098199999998], [30.25134000000001, -81.52354], [33.89085, -84.46281], [38.157654, -85.718246], [40.295723, -83.141211], [27.960785, -82.77937299999998], [30.315590000000004, -81.75619], [34.756001, -117.163361], [44.984973, -122.73613], [34.207547, -118.21773600000002], [45.526291, -122.537743], [34.122869, -117.967633], [28.56703, -81.209618], [32.63075300000001, -80.882019], [34.069232, -118.361409], [32.912025, -96.735428], [43.10684323290297, -77.50664591752286], [40.2673, -76.682243], [38.874641, -76.99118299999998], [39.84262800000001, -86.157021], [40.77198, -73.91958000000002], [27.594971, -81.822136], [37.643875, -121.013321], [41.844468, -87.63184100000002], [34.025941, -118.275212], [46.696583, -92.360762], [42.01263, -93.57136], [41.483753, -81.58844], [29.97647000000001, -90.03967800000002], [41.632141, -72.873695], [32.74964, -96.806904], [42.9716, -85.726995], [36.716461, -111.27449], [36.181332, -86.749443], [38.428131, -122.767769], [36.953751, -121.846497], [34.633565000000004, -92.463255], [29.714378000000004, -95.278351], [38.505337, -121.785492], [26.16535, -80.191528], [40.47533869724047, -77.38927245103173], [32.42215, -111.327042], [38.049407, -122.67787], [41.90586500000001, -87.965073], [40.213772, -75.33003199999997], [47.302959, -122.225655], [45.631451, -121.216443], [33.1835067270604, -117.23207116071111], [41.904104, -87.96479000000002], [40.835294, -73.867611], [38.788223, -90.42189], [29.749647, -95.365631], [30.198290000000004, -97.683998], [46.84487700440005, -92.45721459344644], [37.187584, -120.971495], [36.300317, -119.640148], [33.88564467413957, -117.8806507581812], [41.249699, -76.968498], [30.430641, -91.11348], [37.700892, -121.822675], [35.462189, -97.618767], [35.058193, -80.812454], [38.047388, -78.905755], [34.119152, -118.152573], [34.538246, -111.91951], [33.334942, -111.890511], [40.094921, -82.81989300000002], [36.567638, -121.778572], [29.733, -95.571724], [32.19221, -86.11706], [37.358604, -121.84024], [34.001853999999994, -117.834564], [34.053136, -118.002236], [37.964146, -122.318352], [35.72282, -78.584061], [36.003963, -79.066074], [32.23591500000001, -110.978541], [40.69903, -73.50950999999998], [33.989193, -118.225235], [41.642314, -75.655852], [36.04628, -95.859299], [39.219334, -76.65844], [40.43965458850651, -79.75571036300774], [47.11855300000001, -122.557037], [37.834919, -122.483894], [41.01965546588411, -87.27100253063549], [33.459511, -112.306107], [34.138199, -80.94624300000002], [38.833205, -77.450826], [34.040581, -118.170204], [37.65289, -77.611345], [25.882836, -80.20898000000003], [35.794273, -78.61286899999998], [34.17524, -79.808603], [32.827434999999994, -96.885971], [30.428258000000003, -97.670694], [30.442304, -91.007456], [37.752506, -122.40301], [32.881015000000005, -96.878294], [33.552376, -117.187103], [28.55319, -81.367511], [40.379627, -79.925504], [28.322155, -82.5087], [34.960873, -114.597905], [47.99833, -92.83083], [35.165321, -89.861588], [35.053391, -80.84999499999998], [35.202145, -80.78619300000003], [27.924111, -82.795384], [38.336327, -85.817459], [36.842658, -76.136957], [38.598961, -121.383026], [42.916444, -85.583752], [34.858978, -82.259773], [29.66788, -95.554893], [29.69037, -95.45889], [35.849052, -78.601585], [42.566292, -70.922394], [33.041129999999995, -80.134392], [28.568381, -81.207821], [27.821137, -82.678503], [34.121037, -117.828758], [33.878525, -117.657997], [29.575504, -98.594666], [38.078971, -121.150817], [34.686363, -82.40011], [25.886633, -80.243276], [33.974655, -118.280991], [28.357378000000004, -81.494599], [40.755764, -73.838321], [34.492337, -117.748156], [25.682907, -80.41640799999998], [33.910967, -118.168965], [44.247597, -121.023103], [36.961468, -121.816343], [26.616169, -80.17363], [36.139107, -86.880516], [25.486837, -80.428513], [41.073749, -122.3569], [33.625595000000004, -112.099691], [42.13163495043692, -122.49486565531494], [41.37015, -73.619327], [40.889908, -74.684258], [38.832707, -77.115525], [39.937321, -76.875343], [39.82447, -104.96561], [43.083608, -115.610791], [34.025409, -81.463362], [38.120224, -122.230255], [41.69698, -70.156532], [30.380669, -97.684256], [34.104626, -80.829453], [35.737045, -78.650246], [44.39579000000001, -122.141327], [40.094692, -75.362854], [43.073315, -77.625206], [40.78406500000001, -73.65218399999998], [33.461458, -112.076658], [39.953495, -75.59689], [38.78688, -77.284481], [41.157269, -76.873077], [29.847208, -95.403008], [40.103257, -77.178844], [30.476563, -91.112686], [40.95587, -73.87099], [28.078702000000003, -81.979294], [28.650572, -81.804484], [29.707315, -95.487872], [40.71826, -111.87391], [33.940686, -118.36825], [44.970482, -93.351021], [30.517121000000003, -97.687361], [33.565659000000004, -112.289818], [38.963741, -77.18061800000002], [32.922169, -96.818954], [26.334938, -81.759125], [33.873273, -117.69066], [41.306648, -96.100639], [35.387375, -119.044631], [34.01206, -118.418163], [34.394115, -118.571053], [35.098011, -82.42115], [40.731728, -73.872238], [33.91653400000001, -118.285713], [38.11503, -79.01553299999998], [37.787174, -122.180275], [37.813068, -121.992851], [38.955363, -78.18467700000002], [37.602692, -122.382004], [34.03706, -118.30533], [30.503398, -87.229249], [35.485104, -97.583321], [40.83528, -73.86706], [28.146066, -81.464409], [40.1881921289435, -75.36967635118786], [29.948653000000004, -90.092713], [32.750347, -117.155373], [35.790401, -78.740044], [36.753686, -119.78011], [35.058890000000005, -80.76980999999998], [34.902641, -82.096802], [36.779507, -119.736389], [39.530392, -75.37763199999998], [41.861187, -87.9589], [25.769601, -80.369146], [32.76265, -96.77243], [42.38612, -83.020172], [40.677618, -111.902008], [30.41272, -91.145681], [41.669674, -72.833527], [41.29697, -72.70407900000002], [34.029034, -118.202791], [42.012878, -88.21727800000002], [41.537757, -72.761346], [39.26632, -76.56263], [35.368671, -80.82579799999998], [30.352490000000003, -81.554132], [35.060045, -118.917441], [40.809204, -74.16629], [34.383485, -79.357883], [39.018748, -76.990044], [37.54068, -121.924683], [40.163138, -75.105935], [39.628799, -77.80866999999998], [34.982559, -120.570557], [33.912393, -84.38713100000002], [29.675676, -95.546043], [26.378762, -81.80521800000002], [40.68413, -73.49540999999998], [38.577676, -77.31774399999998], [40.903395, -74.494171], [39.806869, -84.22319], [33.876488, -117.51941], [42.490594, -83.420322], [39.763206, -84.20211], [36.15353, -96.189697], [41.764923, -72.692139], [38.315006, -85.581932], [35.339448, -118.99654], [36.549013, -119.598444], [38.310016, -121.226348], [33.732929, -117.989456], [33.998082000000004, -117.931097], [35.516766, -82.969269], [40.715469, -74.137337], [28.383763, -81.50589000000002], [43.003042, -83.693823], [30.429045, -97.759377], [34.152145000000004, -118.12146], [39.883423, -86.046112], [35.163059999999994, -80.80148], [34.045442, -118.317722], [44.950386, -93.274246], [41.640907, -79.005264], [37.334148, -122.014379], [40.006654, -75.1936], [42.478111, -87.953064], [29.559113, -95.558604], [37.593056, -122.235123], [34.037167, -117.321332], [35.17812, -80.780243], [25.680822, -80.335386], [38.911162, -76.932757], [34.707005, -86.672043], [39.418612718394186, -77.43362545930178], [37.185795, -120.488197], [29.779163, -95.547783], [34.081596000000005, -117.722253], [35.404823, -80.84129300000002], [41.957394, -88.070778], [33.943192, -117.083572], [40.337985, -79.894988], [26.166977, -80.159317], [43.107159, -89.338799], [28.578421, -82.376808], [30.753777000000003, -88.094269], [33.181090000000005, -117.33119], [37.995351, -122.285608], [35.608505, -97.546623], [33.669327, -117.820381], [39.767477, -104.796327], [32.99116, -96.997722], [33.567509, -112.177628], [38.527992, -106.96304], [33.653248, -84.397171], [28.185825, -82.206323], [29.003906, -82.150093], [36.151634, -86.768509], [38.728941, -121.285918], [34.22229, -83.515984], [36.09034000000001, -86.626518], [35.920856, -119.28256299999998], [33.991883, -117.354933], [36.327498, -119.344059], [33.943196, -117.871878], [34.068741, -117.361252], [30.015624, -90.06078199999997], [37.145716, -121.985048], [35.795254, -78.515259], [36.007117, -83.811083], [35.262142, -80.87841800000002], [33.954644, -84.125395], [32.8841, -96.69725], [38.821102, -76.920934], [33.45035900000001, -112.080208], [27.497944, -82.503136], [42.280061, -87.911711], [32.656739, -96.775403], [40.594787, -86.971674], [27.996738, -82.581886], [42.36339926699465, -79.52484726867903], [42.300671, -71.072052], [41.06096, -73.8553], [27.79072, -82.357201], [33.799454, -84.39664499999998], [33.85884404166289, -117.87653088513431], [30.344091, -97.705406], [30.460022, -81.678223], [32.923908000000004, -96.764305], [38.85978, -104.75715], [25.770064, -80.31330799999998], [37.163059, -93.244759], [34.635991, -117.223987], [41.573971509735216, -87.45753407436632], [39.130306, -94.49884], [38.096966, -78.464471], [30.483518, -84.381251], [37.79911637288189, -122.22078680933843], [33.814658, -117.975807], [25.86293, -80.32267], [29.775285, -95.584858], [35.861435, -78.845215], [40.1961, -76.9819], [35.989518, -83.90377600000002], [36.54983, -119.59975], [42.18934, -83.729341], [36.754791, -121.609734], [34.145790000000005, -80.02903], [42.170087, -121.699584], [42.27495074251998, -83.67628455122147], [33.913038, -118.18012], [32.774609327159986, -96.8117487425956], [39.797871, -123.542351], [33.70452, -117.953242], [36.072163, -86.636253], [41.112537, -87.835449], [39.957956, -75.18033100000002], [44.9485, -92.9859], [40.72469829999999, -74.13304925], [34.95668, -81.995972], [40.96517443637389, -78.11243891678755], [32.790556, -96.891068], [37.075546, -113.584929], [28.33398900000001, -82.206285], [46.629563, -97.511386], [35.31420100000001, -80.935707], [35.76639, -78.73574], [33.88284, -118.34995], [38.637115, -121.522743], [32.67617, -97.023361], [33.66892, -112.07623], [32.264578, -95.333541], [34.03167, -118.02194], [30.453993, -97.666656], [35.46364000000001, -97.57746], [37.961465, -122.507954], [36.749985, -119.862045], [34.712616, -81.031258], [33.345741, -86.538208], [32.817459, -96.63903], [39.824291467476726, -77.23104357682594], [34.189643, -79.83633499999998], [35.090561, -89.939278], [35.201731, -80.760635], [33.907312, -81.223177], [35.918568, -84.088432], [29.627295, -95.387085], [41.78299000000001, -71.423927], [34.117142, -80.75412], [47.46295900000001, -122.265045], [26.229312, -80.12678199999998], [34.4988191126132, -81.84646010359837], [33.789928, -118.207939], [35.064171, -80.770105], [40.767989, -77.081717], [41.387287, -89.68718], [38.656773, -121.071888], [41.29528, -73.677406], [29.866838, -95.540726], [38.705372, -77.224007], [39.046078, -94.652987], [40.605621, -111.938744], [40.72565, -112.03667], [29.818039, -95.453606], [31.216631, -105.761097], [25.888174, -80.164039], [34.526009, -82.7117], [25.928436, -80.248711], [33.900058, -117.473263], [38.673227, -121.640901], [30.492567, -91.159203], [28.207199, -82.66623], [40.701359, -73.615318], [41.20573, -73.19084000000002], [25.499473, -80.42533], [44.970257, -93.298909], [39.12269000000001, -84.58314], [37.680882, -95.252007], [33.437881, -111.653419], [34.163135, -80.394355], [34.002681, -117.37946], [40.740772, -73.820644], [38.57848048191747, -121.30780577601764], [35.21946, -80.825073], [35.77101500000001, -78.722], [35.387493, -119.122881], [38.020271, -78.430435], [29.660978000000004, -95.558136], [28.999984, -81.91341700000002], [35.703327, -78.533798], [36.15234, -121.129402], [36.141048, -86.71929899999998], [40.59297, -73.90811], [34.069706, -118.046448], [37.646047, -98.740797], [29.821688, -95.208099], [41.186119, -74.03810899999998], [30.444689, -86.925636], [33.90193, -118.193829], [36.111228, -95.849018], [39.609394, -104.893471], [39.09446, -77.514943], [44.178612, -93.949115], [32.321541, -95.307785], [41.53019000000001, -73.812065], [44.630935, -123.996172], [25.747537, -80.337062], [33.60246777518462, -112.00963854736322], [34.034721000000005, -118.342751], [41.52082, -74.01019000000002], [46.896717, -95.899889], [25.924549, -80.312752], [35.641826, -81.525796], [25.558585, -80.362725], [34.13565, -117.966602], [27.933935, -82.401923], [42.520009, -83.75733699999998], [32.792107, -96.774803], [43.490335, -123.48501], [30.484541, -91.086243], [29.70669, -95.25019], [38.970947, -77.147419], [33.924703, -80.475126], [40.714493, -73.952789], [43.214264, -71.540673], [34.070351, -118.353233], [32.337151, -80.932404], [33.523232, -82.034798], [42.669704, -83.014618], [30.450101, -91.138971], [45.774689, -95.389832], [47.700733, -117.449066], [35.092289, -81.98410799999998], [32.031487, -81.11958299999998], [41.425525, -81.76655], [33.66016, -79.012672], [30.346772, -84.98666300000002], [40.929488, -74.590132], [33.858344, -118.096283], [40.238506, -76.801455], [40.485252, -74.400047], [32.250376, -110.92816100000002], [40.24218, -75.57385], [42.956188, -85.68425], [46.397549, -92.774806], [34.031612, -118.190453], [38.302711, -122.303444], [42.953896, -76.98111], [35.057233571839056, -90.6875145431009], [37.892862, -122.125001], [33.920272, -117.288368], [39.646042, -106.311553], [37.589695, -77.469383], [33.928226, -84.176018], [38.522406, -121.767291], [28.510101, -81.397041], [33.75217795355915, -117.8469407552822], [35.844048, -78.614098], [28.02249500000001, -82.455688], [39.280554055980296, -76.55323862992977], [38.133259, -122.223679], [40.78987100000001, -73.82253299999998], [30.29493, -97.719772], [33.837825, -117.87621], [45.63521, -106.586305], [38.418839, -120.559152], [39.009329, -122.907818], [26.51453, -81.89871], [29.876204, -97.930099], [40.76065, -111.939111], [40.60018, -73.50864], [40.090515, -75.395859], [37.715942, -121.705704], [45.48929, -122.67619], [29.659714, -82.413977], [37.08366, -121.10143], [25.821447, -80.248828], [30.18771, -97.762833], [45.656915902873706, -122.5704395765182], [44.970098, -93.400686], [36.297047, -82.47525], [26.104059, -80.169083], [35.817875, -88.252533], [34.078369, -117.74156200000002], [28.260918, -81.327895], [37.390763, -121.99424], [37.378239, -122.067566], [39.926476, -77.74511], [35.61479, -97.42483], [40.302799, -120.52378799999998], [34.878052000000004, -82.225166], [37.332775, -121.863401], [33.954121, -118.08661200000002], [40.033437, -82.911559], [35.846597, -78.64429399999999], [42.383633851802905, -83.32740426023804], [36.468961, -86.682218], [25.890023, -80.191946], [35.134602, -80.76436600000002], [46.370254, -102.485629], [37.317448, -121.939453], [35.530045, -97.574547], [36.162571, -95.890152], [30.234699, -97.875771], [34.752644000000004, -92.35069], [38.15485, -122.4223], [38.839947, -76.866858], [39.230183, -77.283737], [33.911961, -84.207985], [33.74136, -84.413986], [29.054628000000005, -81.316727], [35.166229, -82.470589], [32.936863, -117.11158], [41.472076, -93.559151], [35.838375, -78.674278], [32.676624, -96.857162], [34.10714, -118.187019], [33.707190999999995, -117.087451], [40.346699, -79.986328], [33.981875, -118.260248], [35.072594, -89.849327], [38.81019600000001, -94.501663], [40.471294, -112.350601], [36.114849, -86.925949], [40.52643, -104.99265], [34.857681, -80.890015], [33.876443, -118.190253], [28.487003, -81.41590500000002], [34.242119, -79.39286], [42.028156, -91.673027], [33.046368, -97.009079], [33.4593021868064, -112.76741623824708], [42.406078, -83.161507], [34.305981, -81.583763], [35.6884, -78.57135], [40.583508, -73.970558], [25.807463, -80.295181], [34.322732, -117.398436], [45.530922, -122.579025], [35.293587, -80.727524], [33.519033, -81.78558199999998], [25.706672, -80.286521], [25.755791, -80.200868], [32.669209, -97.223351], [25.948324, -80.35206], [29.366691, -82.22623399999998], [33.875739, -86.654375], [42.35660900000001, -73.600479], [39.895829, -74.944357], [34.031296000000005, -81.121185], [47.537052, -122.278046], [30.392048, -91.198078], [45.45914053895255, -94.1269218917173], [37.212994, -76.588013], [37.572994, -120.939102], [33.885699, -118.317819], [25.686308, -80.41669], [28.11669, -80.70585], [37.581024, -77.469349], [41.836578, -88.10172299999998], [45.55999, -123.89221], [44.573223, -93.298561], [25.764359, -80.287897], [38.226898, -121.432281], [32.95953, -96.821098], [38.236191, -122.526588], [34.22169, -118.362073], [41.394893, -81.44048599999998], [36.726994, -79.937836], [36.139942, -85.278702], [35.447778, -92.519727], [40.398988, -103.359375], [35.13863, -90.0241], [30.195492, -85.761505], [40.347023, -111.764004], [35.528422, -82.59930200000002], [33.974472, -118.227718], [25.82311749446, -80.20638585052392], [35.017427000000005, -85.28391500000002], [36.147972, -86.777496], [30.14953, -97.84259], [44.85615, -93.3501], [25.928483, -80.192297], [41.59545064, -87.68095136], [43.145159, -78.51606600000002], [42.93885111788301, -121.82766079844556], [40.82655, -73.56369000000002], [39.41292, -105.75863], [41.860618, -124.117773], [35.844533, -78.58007099999998], [29.685557, -95.383903], [25.187097, -80.39152800000002], [45.036544, -93.342642], [26.15401625620769, -81.60761475524134], [45.6777513025013, -118.85103106442044], [29.876877, -95.56308], [34.1177, -117.848211], [29.772137, -95.365829], [33.776792, -84.605636], [36.080495, -79.95975200000002], [38.201885, -85.689438], [36.020641, -78.905754], [46.142918, -94.584297], [42.390266, -122.408596], [34.145610999999995, -117.302864], [47.08279, -122.670143], [30.141794, -81.767586], [34.06933, -118.235847], [32.550793, -82.978317], [38.69924, -90.44591], [34.161032438115306, -118.38089346829231], [35.377129, -97.530113], [32.734123, -96.664154], [47.504234, -94.90651], [33.511038, -79.883158], [43.65530800000001, -123.913632], [38.0110108850574, -78.47633957825431], [42.417439, -123.00962], [41.842625, -87.657196], [40.253197, -75.91209599999998], [40.989498, -73.677086], [45.78252911545857, -119.31947350445118], [30.434305, -97.669556], [35.380986, -119.372323], [41.147129, -96.158333], [33.737973, -84.500606], [41.90957, -88.03811], [26.165884, -80.16024], [40.018478, -75.91372700000002], [33.461591, -112.42648], [30.495444, -87.202431], [38.189518, -85.72558599999998], [33.027641, -117.22979], [43.11578, -76.216187], [35.266174, -80.73164399999997], [35.48396229727037, -82.55836129149169], [34.830711, -86.700287], [33.878949, -118.346429], [39.41417, -76.588926], [27.9646, -82.41212], [30.38159000000001, -91.139526], [44.999504, -93.283379], [42.518791, -70.927948], [32.359563, -111.0859], [29.499254, -95.111694], [47.49699, -92.40783], [34.801155, -82.67746700000002], [47.619907, -122.32222], [25.930028, -80.188337], [33.791664000000004, -117.8903], [27.408381, -80.400337], [33.984801000000004, -80.477979], [37.707207, -122.122948], [30.373377, -97.726532], [36.769275, -119.782792], [40.95972418765564, -73.74063134158257], [39.577723, -81.454544], [34.999340000000004, -120.435959], [27.821206, -82.664854], [38.21434, -122.137939], [33.92126, -117.288704], [41.237194, -96.215477], [33.914103999999995, -118.10495], [43.90236, -70.070109], [33.752990999999994, -117.847645], [32.13371, -110.99889], [34.029945, -118.442192], [33.971515999999994, -117.911577], [34.156978, -118.448332], [37.603428, -122.064142], [37.561024, -122.27766499999998], [34.064735, -118.158241], [34.77108, -118.803673], [32.965629, -117.094459], [34.11853, -117.84169], [40.753624, -73.744217], [25.91278911, -80.31230092], [35.30908200000001, -80.71869699999998], [40.89335561, -74.12013173], [34.22203659994973, -119.13062453213152], [29.865746, -95.48687], [35.223202, -80.625924], [39.778023, -84.863495], [35.899525, -84.553089], [38.637076, -121.383059], [45.204976, -93.389797], [29.756136, -95.36174], [36.162185, -86.76106300000002], [33.740497999999995, -117.833717], [38.89959, -111.6606], [37.67888904, -97.32581019], [43.15889, -77.80534399999998], [41.408531, -73.786781], [25.928419, -80.20604300000002], [39.38361, -120.080734], [41.30374000000001, -73.03442], [47.139431, -122.434578], [37.59441, -77.509041], [33.452, -82.046425], [33.868515, -118.00248], [43.199157, -89.349032], [28.541044, -81.285614], [34.14628, -118.075089], [39.035972, -84.596698], [40.840284, -77.83058100000002], [37.242939, -77.39402], [42.05604, -88.01859], [41.212093, -96.091324], [34.466522, -112.520964], [33.358179, -117.158858], [34.346454, -117.443128], [36.060246, -79.870796], [39.923862, -105.110331], [32.794090000000004, -96.70278], [47.644138, -122.302155], [28.00713, -82.50505799999998], [45.105211, -93.39438], [29.957324, -81.444571], [40.044037, -76.309601], [34.135482, -81.472915], [36.069199, -80.218193], [34.407051, -82.796387], [39.863778, -77.056218], [33.867993, -98.529256], [31.98707000000001, -86.489914], [32.707809000000005, -117.147719], [32.894496999999994, -96.711806], [35.031291, -85.08160600000002], [40.360559, -78.41841600000002], [33.814276456671635, -118.30139279309128], [28.56612, -81.286082], [25.967634, -80.328194], [34.155033, -118.310997], [25.976763, -80.353325], [34.504902, -82.671173], [41.78369, -72.660302], [35.85880637151785, -78.81084322891802], [25.926067, -80.243652], [41.862144, -88.194847], [41.287483, -96.081444], [35.846401, -78.57132], [39.007164, -94.785011], [39.026595, -121.531694], [31.41902, -95.474472], [32.567586, -117.067002], [33.9411, -117.2488], [38.98124, -94.457449], [25.926283, -80.29332600000002], [39.20663, -76.609967], [43.336085, -124.198662], [40.758183, -74.113337], [34.496651, -81.844261], [42.452099, -82.91909], [44.964992, -93.282257], [38.900819, -77.193475], [28.004017, -82.3145], [33.776756, -84.605835], [34.153664, -118.325729], [47.06774, -122.443188], [40.846691, -74.81543], [37.444348, -122.134252], [29.421507, -98.640152], [34.266087, -118.47226], [37.800018, -122.224197], [38.272372, -79.14688699999998], [42.970013, -85.64469100000002], [39.152957, -77.540223], [37.380276, -122.067795], [40.8235, -74.12471500000002], [40.045757, -76.308205], [28.331524, -80.776161], [47.31265425659507, -115.232795476364], [30.339215000000006, -97.723796], [45.100986, -93.300179], [29.783775, -95.516716], [38.650673, -121.077772], [41.967766, -75.738792], [34.129723, -117.933701], [42.188873, -87.82551600000002], [34.117675, -117.845929], [36.077682, -86.745651], [28.378632, -81.563813], [29.736364, -95.592575], [45.38648, -122.26561], [40.825005, -74.03201899999998], [31.754772, -106.348613], [39.743263, -121.828941], [38.172901, -78.282768], [41.854404, -87.644798], [38.113487, -85.69487], [40.834518, -73.917458], [38.505534, -121.455883], [30.239305, -97.73779], [39.761368, -86.15469399999998], [32.965771000000004, -80.009872], [41.40874743441864, -74.0774095054909], [40.67857, -75.34106], [47.443679, -122.267408], [34.02202, -117.3371], [40.663355, -75.382791], [33.930126, -118.280563], [42.36331343630617, -83.0789458747717], [43.022926, -87.920731], [34.494991, -117.732896], [40.894245, -74.274353], [29.963492, -90.03179399999998], [33.6781919, -117.88112283], [39.82115200000001, -86.15798199999998], [25.890073, -80.190478], [44.951584, -93.167221], [34.119281, -118.160423], [34.341548, -79.42804100000002], [41.264126, -73.68420400000002], [28.386149, -81.244342], [38.56884, -121.511597], [41.19133830050855, -74.1815650459567], [32.609213590466446, -97.32100367499672], [29.704508, -95.557327], [40.74051400000001, -73.738074], [36.08984, -95.940163], [33.164726, -117.212601], [34.505096, -82.60301199999998], [34.099392, -117.898972], [33.75165, -84.37988], [29.938094, -95.441564], [42.391998, -89.01606], [35.612738, -81.985349], [40.128995, -75.403238], [33.668544, -112.168893], [28.074141, -82.747566], [37.844073, -122.29764], [32.745056, -117.204392], [35.325668, -80.945213], [30.296459, -97.718391], [36.176537, -86.771652], [37.026093, -121.780255], [40.013062, -82.90213], [33.701701, -84.25211], [44.95185, -93.14175], [29.339756, -98.519653], [39.86924529056611, -75.30682682955118], [26.061896, -80.16386800000002], [41.82788, -87.63016999999998], [42.94675, -85.67545], [34.18462, -117.43321], [35.344662, -80.78029599999998], [33.907221, -117.881811], [39.342132, -80.22144], [26.089558, -80.168228], [39.92719, -86.25676], [41.386205, -73.285209], [38.018749, -121.937096], [28.428292, -81.40639399999998], [30.55127, -91.044002], [35.350072, -120.632257], [37.56635, -122.04168], [32.659186, -117.074352], [33.917099, -118.104813], [41.541588, -72.77822900000002], [30.44898, -84.306747], [42.312103, -87.904747], [33.672484000000004, -111.970456], [38.222462, -85.49369], [31.321896, -89.37747399999998], [40.013326, -79.078546], [29.938705, -95.382095], [28.419097, -81.422955], [40.105511, -87.6754], [25.862013, -80.208099], [40.584955, -73.952927], [34.512615999999994, -120.222347], [43.192261, -77.431999], [26.70961, -80.213181], [30.393284, -87.36554], [45.60719, -122.07793], [39.557251, -105.079231], [35.155499, -85.105798], [36.845325, -76.28293599999998], [35.84213, -78.575092], [25.765331, -80.30399399999997], [33.309175, -117.228336], [25.73032000000001, -80.383129], [40.50901, -74.300859], [40.036602, -76.31077900000003], [26.392832, -80.095291], [39.75607700000001, -86.194717], [40.81645131, -96.77962661], [36.63852, -119.69723], [41.82013, -87.62997], [40.860077, -104.960121], [37.752502, -122.403008], [32.795414, -96.692635], [32.639401, -117.100055], [34.029724, -118.402946], [33.979504, -117.339348], [42.97382, -87.915688], [43.035789, -76.140587], [42.34187, -88.238174], [40.813587, -73.93119], [33.689267, -117.919301], [45.442608, -122.56906200000002], [40.638874, -75.2724], [38.87836, -76.99296600000002], [37.729578, -122.186846], [45.068939, -93.300079], [47.571735, -122.32016000000002], [28.337223, -81.403717], [39.192909, -77.918112], [35.150417, -85.24909699999998], [29.475943, -81.18363199999997], [40.407124, -105.002022], [39.57035, -104.87285], [37.355915, -121.909508], [33.77993, -117.87689], [32.914959, -80.106435], [35.752441, -78.592606], [28.295305, -81.602859], [41.188233, -73.135635], [40.72505, -74.009989], [29.647762, -95.46357], [38.64336, -121.114883], [35.424648, -97.561378], [30.59385, -88.14935], [39.11055, -94.564789], [31.796492, -106.344376], [34.120455, -117.73167], [37.23259, -93.275057], [45.057033, -117.941769], [37.238908, -93.224852], [44.370642, -98.376978], [34.338626, -118.507304], [41.002381, -73.691153], [30.81982, -84.523438], [40.93335, -73.86932], [40.783683, -73.58966], [28.06031584726305, -82.70888686140674], [39.480579, -121.528831], [28.630995, -81.387451], [41.12434, -73.703918], [34.27341, -118.44975], [43.20591, -83.833771], [44.736328, -117.791742], [40.728692, -73.879767], [40.539, -111.89336000000002], [35.64053300000001, -78.640823], [40.134811, -82.970329], [37.582493, -122.252602], [29.457507, -82.594109], [33.66856, -112.081932], [28.57905, -81.476118], [45.015016, -93.457091], [42.953369, -85.67851999999998], [39.293354, -121.353634], [34.717621, -81.019547], [26.059475, -80.16310899999998], [34.073761, -117.75222], [32.729259000000006, -97.503906], [27.205056, -81.83124699999998], [42.909458, -78.766769], [27.529860734808302, -82.50834345778222], [33.596931695777904, -112.00946688598628], [34.137737, -118.013873], [40.76285005, -73.09138656], [32.206493, -110.840958], [33.609669, -112.244825], [33.524075, -112.186279], [33.70908, -117.7183], [42.34154, -83.11692], [34.142059, -81.283546], [25.747979, -80.306889], [37.36277461034125, -121.8878710264116], [42.87314600000001, -89.055679], [29.784781, -95.532402], [41.801952, -71.330376], [34.030289, -117.65918], [25.761807, -80.33846899999998], [34.035309000000005, -118.030365], [42.226953, -122.740535], [35.1666033266298, -80.96497893294827], [29.68055, -95.261398], [34.42275166495121, -119.63357090892966], [44.521935, -120.374688], [33.760677, -117.481972], [38.111364, -122.22957], [45.429769, -94.637942], [40.858639, -74.86709599999998], [34.778873, -82.409561], [35.435024, -97.508812], [38.813428, -76.139404], [37.890397, -122.516537], [38.555858, -121.472278], [35.306261, -80.854437], [42.310623, -71.062225], [35.23988, -80.885826], [32.235963, -110.94623500000002], [27.298786, -82.448189], [33.465542, -81.996941], [37.27310900000001, -77.39263199999998], [28.069293, -82.45944], [34.400459999999995, -118.45848], [42.24019600000001, -87.910416], [38.38214, -75.45636800000003], [40.895271, -72.46566], [28.856098, -82.089897], [38.611546, -121.264061], [27.841987, -82.787059], [34.03331, -118.125023], [42.40478, -83.14522], [34.021369, -117.103644], [32.801815000000005, -96.827339], [32.369096, -111.069137], [45.378593, -118.305893], [33.70348, -84.170181], [35.192768, -120.700685], [36.801506, -121.665869], [35.228619, -80.829987], [34.046982, -118.446304], [35.79210300000001, -78.745132], [41.071475, -73.479598], [32.744101, -97.303052], [39.800575, -86.009804], [34.068567, -118.216703], [34.656240999999994, -92.412048], [25.85335135447572, -80.32137751540981], [40.54555300000001, -74.329883], [40.749672, -73.61585600000002], [28.00438, -80.56381], [37.600076, -77.461575], [32.757816, -97.062782], [41.910061, -83.66171999999997], [25.996241, -80.16617600000002], [38.918607, -76.947583], [28.174128000000003, -82.740509], [38.81384, -76.74467], [33.666649, -78.996803], [25.857849, -80.240112], [40.344206, -75.35996800000002], [41.765285, -72.626373], [29.776453000000004, -95.397301], [33.807285, -117.83201], [38.484722, -90.3564], [33.31842, -111.971626], [43.33641886690457, -76.33014321290813], [27.26046, -82.52255], [34.164898, -118.382805], [43.060989, -83.70481099999998], [36.134236, -86.77909], [34.059059000000005, -118.245499], [25.813004, -80.234238], [43.29819000000001, -122.93408], [41.248866, -73.07975400000002], [40.54853, -121.578716], [30.46139, -84.281441], [47.83462, -122.21071], [41.73331, -87.56026899999998], [36.326553, -119.313722], [42.90410900000001, -73.788024], [30.297823, -92.049423], [34.102898, -118.196304], [30.618853, -86.963142], [39.19386506061938, -76.6884434219518], [38.593428, -121.444756], [32.334609, -90.33814], [43.02637100000001, -87.96978], [34.079198, -84.65361999999998], [35.898643, -78.784195], [34.417389, -110.574913], [36.251991, -86.717682], [30.099779, -97.754921], [38.038517, -78.838164], [32.686023, -96.784218], [30.275591, -97.734818], [30.41151, -91.0355], [39.95752, -75.160645], [35.314598, -80.710983], [41.922528, -77.117795], [43.049469, -76.14275400000002], [32.731358, -117.154716], [41.851391, -72.752319], [37.387198, -77.515766], [45.069465, -93.285918], [36.755108, -119.764852], [31.771472, -106.425527], [40.355969, -76.716445], [33.67505, -117.83893], [27.529881, -82.507935], [36.159546, -86.774661], [35.46864152, -80.58489919], [28.54837059961057, -81.4531195159843], [37.6241, -122.42812], [32.860099, -117.112996], [33.778883, -117.877287], [32.864101, -96.66571], [35.460674, -97.57444], [25.634431, -80.382676], [41.78759, -87.631439], [40.607582, -74.144798], [38.315006, -85.581932], [38.449982, -78.87252099999998], [35.2620685098874, -109.27350640244828], [42.487236, -83.241203], [34.434034000000004, -117.39956], [43.764901, -122.53204], [29.704597, -95.557411], [33.494228, -112.247971], [41.5658, -81.582832], [35.103889, -79.379306], [44.95683, -122.99002], [33.609677000000005, -112.448055], [29.004627000000006, -82.150537], [29.737631, -95.507172], [40.72126507739677, -75.28345942461354], [34.02953, -118.19976], [30.399839, -91.106644], [41.0195, -73.628473], [41.018908, -73.632356], [42.967899, -73.80143699999998], [40.776428, -74.04091600000002], [32.925735, -96.825134], [27.849866, -82.326629], [25.77072, -80.199404], [41.472025, -81.489228], [37.988614, -120.441553], [33.906207, -81.22258599999998], [30.248148, -97.736235], [45.609181, -123.114551], [38.603275, -90.510231], [29.737036, -95.557755], [34.14536, -117.280718], [37.499706, -77.534203], [32.857081, -96.773974], [38.93517136555226, -94.7159135337128], [33.691517, -117.338136], [35.843521, -81.623678], [27.042181, -82.298663], [34.008083, -117.901617], [28.02071, -82.45533], [33.930668, -117.659531], [34.135847, -117.582124], [37.64321, -77.5097], [26.439394, -80.088898], [34.015246999999995, -117.086899], [25.812777, -80.207161], [39.15167928, -75.49460292], [34.155567, -118.431243], [38.8487, -76.924837], [45.637996, -120.923551], [37.368396, -79.92179200000002], [29.726196, -95.460205], [41.763358, -72.695366], [41.768134, -72.68345], [32.72517, -117.074335], [34.581070000000004, -82.714012], [34.081956, -117.71289], [35.137824, -81.515451], [47.610435, -122.28936000000002], [43.05513, -85.95435], [33.91851782782593, -112.14445710128712], [42.494507, -83.29557], [35.755909, -78.618936], [42.939203000000006, -85.67864200000002], [33.400804, -90.978804], [45.535671, -122.689682], [42.385468, -83.275871], [38.945503, -76.859261], [40.73976500000001, -73.84576700000002], [34.979382, -82.459244], [35.012806, -81.958054], [42.363609, -87.92987099999998], [39.014816, -77.03264300000002], [44.26921, -121.20933], [34.21866774542704, -80.98519206008442], [25.769794, -80.3246], [43.220718, -83.769142], [38.654079, -121.066681], [34.041401, -118.067194], [27.042181, -82.298663], [30.562061, -81.82764399999998], [28.445563, -81.364985], [34.070995, -80.940928], [35.307041, -80.871178], [42.221951, -83.412727], [31.60054, -106.244209], [43.112808, -77.803551], [37.777819, -122.167146], [37.582249, -77.494331], [27.997828, -82.588471], [35.03632, -81.835266], [43.351243, -124.198909], [42.251171, -71.130112], [32.908005, -96.730392], [32.766091, -96.771922], [34.08385, -117.69302], [33.385925, -111.840202], [34.065239, -118.00006100000002], [37.84136652928428, -122.29704737604952], [39.068687, -84.29950699999998], [33.451355, -111.890343], [33.77207, -117.90919], [40.119072, -82.973473], [25.626145, -80.41645], [25.685735, -80.401713], [40.934767, -74.590365], [35.86253, -84.12674], [41.610948, -93.578683], [40.438782, -120.63027], [35.796726, -78.69453399999998], [40.73069, -75.3656], [28.033259, -82.50500500000003], [37.850822, -121.449318], [35.580139, -97.524765], [34.030437, -118.402397], [41.223785, -96.004433], [33.433601, -111.890846], [30.358263, -91.119507], [33.832123, -84.335274], [40.60951, -111.95779], [27.489067, -82.464893], [39.809735, -86.282728], [40.081207, -75.388687], [39.663788, -84.160107], [33.386713, -111.563286], [30.116599, -95.27075], [34.434921, -80.07354000000002], [35.455441, -97.542175], [29.827326, -95.410614], [42.930126, -87.860817], [25.768453, -80.336301], [30.533169, -84.362553], [36.310431, -80.427428], [36.157028, -86.708977], [33.462128, -112.065079], [28.41772700000001, -81.38832099999998], [28.577567, -81.472039], [39.20079000000001, -121.058868], [40.716579, -74.011562], [34.02985, -118.220757], [34.863991, -120.456993], [43.338248, -123.333677], [40.34626, -84.093758], [45.317535, -122.952805], [34.054226, -118.004364], [43.17926, -77.6482], [41.319363, -96.023865], [36.109486, -86.727959], [25.812677, -80.267134], [28.054445, -82.426102], [41.83704, -87.675911], [41.9366, -87.99894], [29.502898, -98.581937], [41.019264, -80.354424], [39.884757, -86.046125], [30.21912, -92.075867], [42.37568, -83.06076999999998], [34.070079, -117.796426], [30.424614, -91.156006], [29.814361, -95.381139], [34.06731, -117.544128], [42.3526, -71.05534], [39.26465200000001, -94.44635], [37.813718, -122.360774], [42.273451, -83.206585], [35.679955, -78.826181], [34.031464, -118.433601], [34.0099, -117.823332], [40.731972455784174, -74.0457594391153], [33.831253000000004, -84.426392], [41.537917, -72.762164], [34.07029, -80.95121], [47.30392, -122.26162], [41.220699, -81.626793], [30.45241, -91.290893], [42.956142, -85.653015], [39.074066, -77.006751], [45.68381, -108.706471], [39.942226, -83.499664], [43.11618, -76.217087], [29.77869, -95.12191], [32.828617, -96.824869], [32.727509000000005, -117.104698], [38.870039, -77.44841], [35.719078, -78.63858], [41.749747, -72.715089], [28.533856, -82.495214], [35.26494383795135, -119.22248482647312], [40.005299, -75.256302], [37.814941, -121.993484], [34.074768, -118.273384], [44.897811, -93.19853], [29.734699, -95.385056], [35.099007, -106.62738], [36.078529, -87.01226], [33.974758, -118.24987], [34.000883, -117.844104], [30.54315, -91.021599], [36.031956, -95.859573], [40.782909, -73.94381700000002], [33.968945, -117.3284], [48.68576, -122.395653], [35.89193, -78.813591], [26.330538, -81.807037], [36.775962, -120.722596], [30.647924, -91.151501], [45.348719, -122.639994], [35.841263, -78.684494], [41.420578000000006, -81.801674], [32.330441, -111.046127], [38.769722, -121.248833], [35.946439, -78.537492], [45.36599, -94.736824], [26.660957, -81.66350600000001], [38.801346, -77.520332], [32.359322, -111.067513], [34.567954, -92.598225], [39.056324, -77.15448], [43.203281, -77.651718], [41.243595, -87.49207], [43.316114, -76.418353], [30.005406, -90.02337], [27.9235, -82.335526], [34.068306, -117.602913], [40.382441, -122.2812], [40.675238, -74.172638], [45.036319, -93.076648], [36.520973, -119.565369], [40.868469, -74.003098], [29.657206, -95.498665], [37.690201, -122.13295], [34.178678999999995, -118.31096200000002], [44.252556, -121.18389], [34.239071, -82.15708199999997], [25.787006, -80.20058399999998], [35.841045, -78.61179399999997], [40.713779, -111.810226], [35.336667, -118.836944], [35.307192, -82.415816], [29.599863, -95.266167], [30.184687, -81.557968], [36.531528, -120.0979], [39.7435677049649, -105.45077919909735], [34.891612, -82.12374399999999], [35.080769000000004, -120.586723], [41.346951, -81.44103199999998], [39.63324, -77.452995], [34.96267, -90.06028], [34.561794, -82.688339], [35.80250143987749, -78.5934126373358], [33.982318, -118.043214], [36.112757, -86.630549], [38.963518, -76.21599300000003], [40.823207, -73.957093], [38.786694, -77.31944399999998], [31.489442, -81.493527], [25.772045, -80.385413], [39.040181, -94.350983], [33.666059999999995, -117.753134], [41.503205, -81.47815], [42.49381, -83.291821], [39.0019, -77.40351899999997], [29.67367, -95.38185], [42.382572, -83.37293199999998], [33.299671000000004, -84.351799], [25.714979, -80.380921], [40.121181, -75.351979], [40.82835, -73.840401], [34.065723, -117.994621], [39.247726, -94.73336], [33.486446, -84.340446], [33.927818, -81.238022], [47.59837, -122.32058700000002], [40.644545, -111.93353], [32.779201268993475, -117.07036614362204], [29.939940000000004, -95.2976], [29.958384, -90.076937], [41.22323, -95.95188], [34.272105, -118.46745], [34.06673, -117.24979], [27.960751, -82.708946], [33.856782, -118.028523], [36.170478, -86.517611], [32.556222, -86.19069499999998], [30.450799, -81.613062], [25.889278, -80.209335], [40.69661, -111.9389], [35.12212, -81.02507800000002], [30.205396, -85.208855], [42.20914006, -78.14582705], [39.201317, -84.374107], [33.424577, -111.891336], [37.965599, -121.243787], [38.864876, -77.061211], [32.234734, -80.812073], [33.801309, -117.878537], [32.855571000000005, -96.731649], [36.147972, -86.777496], [30.347785, -97.712465], [40.68255543689403, -73.6606371399228], [38.986641, -94.551686], [39.72921, -104.9406], [40.845262, -73.927777], [43.016146, -123.980213], [39.227551, -94.467791], [35.79541500000001, -78.515862], [35.087681, -80.850876], [33.85376, -117.906708], [37.502884, -122.331546], [33.507288, -80.958877], [38.812596, -76.911539], [34.129, -118.091988], [40.91520300000001, -73.849327], [41.28234000000001, -73.68066999999998], [40.76639, -111.93916000000002], [35.89043, -78.561738], [33.074129, -117.069785], [42.724792, -85.672386], [39.1085, -77.18513], [25.683394, -80.41639599999998], [26.063479, -80.16403100000002], [39.16169, -84.51130699999999], [33.93996, -81.26683], [42.465599, -82.921257], [38.797236, -121.133171], [36.624619, -121.52886200000002], [42.0382, -88.283997], [32.849421, -96.821328], [39.835262, -75.42163000000002], [29.734016, -95.426292], [35.481709, -82.556335], [37.84052, -122.223915], [33.776459, -84.597183], [32.743717, -96.815735], [38.877758, -77.270253], [34.043037, -118.217239], [37.55156, -77.41284], [33.998521000000004, -118.335276], [28.48103642450103, -81.45086646041177], [40.764847, -73.980522], [30.345221, -97.579164], [35.281546, -118.914386], [34.2444, -83.89349399999998], [32.23001, -110.9267], [44.340227, -120.97884], [28.83286, -81.646486], [35.947323, -78.548428], [35.06272, -92.078454], [29.60456013665388, -98.45199465704702], [45.026902, -93.286115], [40.770793, -112.09171299999998], [30.041576, -95.429958], [30.437590000000004, -87.26657900000002], [39.98196, -76.694862], [35.335297, -80.825089], [41.477032, -81.62087199999998], [30.503176, -87.230056], [33.951525, -118.300259], [25.672251, -80.335103], [34.451962, -82.679741], [37.96275900000001, -122.328665], [40.175354, -75.17417900000002], [34.435534999999994, -118.593161], [34.780605, -86.582169], [42.39135, -71.013161], [38.726509, -121.392441], [39.058392, -94.488707], [41.41406, -73.41418], [37.589832, -121.870247], [26.528001, -81.858846], [35.739399, -78.56868], [34.86714, -117.080386], [30.423187, -91.138741], [36.647986, -81.985556], [32.977063, -80.63533100000002], [35.21366, -89.91662], [35.90617, -78.652962], [34.057702, -118.254849], [44.120261, -121.287948], [38.800488, -90.591087], [44.114366769580286, -122.45686411799214], [40.090988, -75.187119], [37.933934, -79.226886], [25.499594, -80.417282], [36.833813, -76.136894], [32.812687, -96.755119], [32.293552000000005, -80.936829], [46.546144, -93.958115], [25.90354, -80.21027], [34.719242, -82.255333], [35.319538, -120.697029], [35.076584000000004, -106.515083], [42.813541, -85.97946999999998], [39.050038, -123.246433], [43.325007, -124.209636], [32.849431, -96.572047], [33.930915, -118.325049], [38.75411, -90.45436], [30.45315200000001, -91.166069], [33.725821999999994, -117.803909], [45.356312, -92.910072], [43.11332, -123.440083], [25.703506, -80.33425600000002], [29.665545, -95.413124], [43.410182, -89.467838], [38.721066, -120.831016], [29.655468, -95.570831], [45.53317, -122.62295], [40.51557, -74.286059], [47.311164, -106.911548], [35.7864511, -78.57345699999998], [40.853908, -73.966966], [40.671356, -74.18264599999998], [29.7103, -95.401848], [34.04871, -81.03022], [33.960012, -118.285317], [39.572943, -119.807445], [34.065269, -117.997879], [40.47478, -111.906389], [47.32361, -93.942059], [29.82539, -95.526329], [33.916231, -84.28948199999998], [36.474678, -119.636185], [34.707787, -82.991676], [36.992887, -122.019449], [32.777758, -117.136099], [25.963148, -80.161556], [25.624072, -80.414429], [25.732775, -80.349251], [29.029696, -82.252533], [33.991264, -117.94178], [34.225613, -118.37397], [36.137068, -85.632221], [33.080768, -117.296842], [37.325207, -121.886253], [29.741753000000006, -95.441668], [41.026897, -76.425148], [40.923061, -73.822807], [40.207441, -76.64986], [32.759421, -97.182226], [33.370785, -117.553635], [37.600594, -122.062164], [28.543195, -81.504861], [40.039673, -76.364319], [38.912457, -94.771538], [35.34115999999999, -80.87847099999998], [39.986427, -105.232323], [34.897369, -82.36410500000002], [37.470755, -77.477834], [33.804775, -84.393608], [42.0146262643718, -87.9251825805286], [26.12936, -80.169201], [32.235966, -110.858246], [33.992104, -81.287842], [25.953767000000006, -80.24581500000002], [30.32087700000001, -81.682877], [45.395942, -91.751079], [25.684325, -80.41642900000002], [41.55157, -73.040532], [35.130669, -106.561043], [43.018738, -77.875023], [36.08984, -95.940163], [33.83498, -117.83542], [42.442956, -88.070921], [40.801102, -74.074409], [34.74358677847508, -111.68689370102078], [37.278671, -121.806251], [38.896912, -104.738503], [43.276648, -123.355391], [34.146038, -118.47078], [41.500931, -81.60318000000002], [26.093153, -80.226936], [40.119985, -79.32916], [34.151539, -118.147217], [45.569241, -122.678444], [33.825615, -118.228158], [32.759796, -97.184235], [29.68052, -95.35974], [33.465958, -112.156136], [42.32576, -71.25634000000002], [41.136803, -74.167923], [39.01651740055553, -94.13153529122292], [36.861618, -121.583534], [28.495118, -81.45908], [38.848772, -77.419623], [37.534561, -77.430351], [39.777412, -104.884308], [27.78873, -82.66034], [25.768453, -80.336301], [25.848593, -80.15770400000002], [25.941212, -80.205212], [47.681171, -122.326736], [30.438072, -84.27124], [42.24054, -87.977089], [26.153559, -80.118463], [33.608963, -117.685654], [36.853664, -120.776449], [32.795277, -96.793114], [33.967994, -118.225201], [37.428982, -122.10228], [41.808353, -88.0793], [39.754494, -84.15889], [35.652039, -97.424423], [25.786063, -80.18905500000002], [34.558392, -118.677132], [46.870532, -113.981392], [39.77815, -104.89465], [35.424801, -97.370827], [39.669083, -91.66841], [34.971951000000004, -80.831909], [29.739183, -95.470657], [44.75919, -93.2481], [29.681511, -95.154991], [37.845875, -122.247871], [28.069298, -82.459358], [44.99545, -93.349296], [33.846608, -118.20538700000002], [30.293079, -97.811729], [30.66337, -87.914337], [34.418316, -118.084633], [41.423032, -73.300566], [33.529351, -80.860188], [35.103025, -85.052596], [32.8139, -96.81488], [40.944369, -77.72070500000002], [29.40748, -98.599701], [39.638671, -77.76494], [40.94093, -74.15607], [35.037157, -80.858327], [28.006479, -82.301682], [33.891068, -118.36132], [46.06710076310125, -107.6980841154685], [41.97496, -88.20707], [34.030846000000004, -118.391144], [30.13743, -97.619141], [39.580536, -104.904251], [29.108054, -82.106985], [33.469398, -82.066864], [32.855976, -96.648445], [38.366423, -120.953028], [34.707298, -82.400299], [41.2194, -112.0051], [47.684429, -117.41723600000002], [34.1204, -117.74032], [39.263119, -84.339897], [38.349014, -122.721199], [39.957031, -76.658363], [32.883381, -96.865712], [36.110931, -86.745224], [34.1352, -117.58951], [39.756737, -86.143414], [37.621433, -122.077316], [29.39987, -98.652504], [41.164635, -95.947723], [39.479336, -121.518878], [33.524857, -80.88754300000002], [43.124695, -87.914536], [42.682617, -73.785675], [43.177372, -83.77422299999998], [35.060534000000004, -118.96891200000002], [42.065044, -71.400871], [32.798901, -96.770859], [28.146231, -82.746353], [32.456539, -93.724609], [40.023491, -82.981438], [25.767744, -80.33628399999998], [27.126756, -80.318845], [41.229175, -76.736227], [40.26132, -74.8433], [35.145889000000004, -90.03484300000002], [38.01377100000001, -121.329887], [30.191506, -81.70545200000002], [32.25451827033875, -81.10576271972128], [32.642799, -96.800423], [34.607323, -82.113007], [43.07589, -83.67421999999998], [34.016397, -117.550086], [46.67325, -92.99209], [47.670834, -117.43557], [25.712054, -80.46305799999998], [32.606213000000004, -86.47882800000002], [35.77212100000001, -78.63849599999998], [34.088936, -118.47525], [42.871638, -87.932316], [32.768439, -96.635541], [28.63534000000001, -81.369637], [26.07685, -80.16898], [39.118965, -77.19619], [38.822704, -121.300285], [37.825397, -122.304802], [34.844509, -82.42926], [36.12934, -95.858615], [30.594294, -97.595146], [30.531681, -91.169365], [36.79451, -81.680588], [26.106934, -80.28211999999998], [38.990213, -77.06960699999998], [40.764851, -73.894989], [28.421005, -81.442604], [45.08834, -123.9692], [40.65386, -74.64567], [41.408424, -78.560621], [33.563351000000004, -117.180969], [40.472915, -80.222484], [37.21082, -121.906142], [26.129074, -80.169526], [47.31881, -122.29551], [36.100827455348494, -86.76470875698679], [44.50289, -123.10858600000002], [41.53909, -81.631563], [37.78699, -122.389859], [37.537247, -77.38459], [39.89587, -75.108032], [40.84715300000001, -73.933501], [28.342816, -81.48393], [34.085614, -117.689069], [27.712469, -82.297043], [39.691504, -84.099041], [33.791270000000004, -117.49714099999998], [36.867004, -76.443567], [29.218321000000003, -82.209506], [33.754378, -117.851314], [44.525903, -93.29666], [39.6475, -85.765697], [37.186501, -93.31757], [39.98095393, -83.02193284], [27.92357100000001, -82.335121], [26.456034, -80.174278], [37.120358, -76.51301600000002], [25.807453, -80.292337], [38.799747, -77.59911600000002], [35.335297, -80.825089], [38.414844, -77.42766], [33.98082, -118.249891], [44.888975, -93.407318], [25.477062, -80.44062], [45.420362, -122.572781], [35.22378900000001, -80.749107], [40.036613, -75.356453], [29.43628, -95.06616], [37.016285, -76.326996], [34.02571, -117.80597], [33.900291, -117.472984], [29.74778, -95.422867], [26.211004, -80.194698], [34.891979, -83.123214], [40.046633, -75.405919], [40.83073, -74.02337], [40.89602, -74.133258], [42.879662, -73.777825], [41.846218, -71.411186], [41.13039000000001, -74.167839], [32.235924, -110.971794], [33.706841, -117.322793], [39.251846, -76.68113699999998], [44.962238, -93.344315], [29.70747, -95.596268], [32.64687, -96.534439], [25.769794, -80.3246], [26.545156, -81.839239], [30.222925, -97.763901], [34.051804, -118.000092], [36.127998, -86.851959], [25.940567, -80.190559], [38.266283, -78.939501], [33.71622, -84.252361], [33.80426, -118.288796], [41.825764, -71.419937], [25.893947, -80.279781], [25.845287, -80.24164499999998], [34.134693, -117.335403], [34.661532640291874, -77.6954519744983], [42.423537, -123.331917], [37.46841, -122.21076200000002], [33.853279, -118.094841], [36.227268, -86.7788], [27.935558, -82.330093], [45.555279, -122.678536], [42.93676, -85.685417], [42.997936, -82.43763], [40.847923, -73.942825], [35.37012199999999, -80.810866], [39.889469, -82.754639], [46.168665, -123.75552], [38.058591, -78.494185], [39.61021, -104.810631], [41.46767, -88.01561], [40.35126500000001, -74.47332], [32.301916, -80.935158], [34.643269000000004, -82.46459200000002], [30.405872, -91.051439], [39.964298, -82.982849], [37.21559, -93.296278], [41.660681962768265, -122.57730603159628], [32.252288, -110.92046], [40.91396, -78.247231], [34.185065, -118.150828], [29.729679, -95.46344], [38.589294, -121.349017], [32.943259999999995, -96.903655], [42.963292, -87.933766], [37.732529, -121.94706], [29.75925100000001, -95.644577], [41.51341, -74.05405999999998], [33.938175, -117.126839], [40.874352, -73.90541800000003], [29.179894, -81.885281], [34.17054, -118.501102], [33.992119, -81.287849], [38.776169, -90.600723], [43.91018, -91.55923], [40.69129, -74.26723], [34.01655, -118.18131], [43.59375, -116.445984], [33.746406, -118.007025], [33.984337, -117.842659], [25.821274, -80.206153], [33.754599, -84.46573000000002], [37.952731, -121.308361], [33.436782, -112.10982], [39.769974, -84.191185], [40.149033, -75.11972], [43.644397, -116.35438], [35.126919, -92.730647], [43.12134861925544, -73.86274695361203], [42.492203, -83.006561], [41.103404, -73.79655], [33.96487, -81.132813], [33.862327, -118.097284], [41.8062, -112.33022], [38.193063, -78.838711], [41.982681, -88.110359], [38.509906, -85.77185], [40.716842, -74.240151], [39.100714, -84.503761], [26.231586, -80.136581], [27.366266, -82.551271], [46.514548, -111.704756], [28.61053347573943, -81.38627886733347], [30.492376, -90.143744], [34.054634, -118.214058], [44.710417, -93.284234], [43.830889, -117.635132], [29.66687, -95.584908], [38.713959, -120.837555], [41.696037, -92.29037], [40.89544, -77.145759], [29.8346, -95.38534], [33.975621999999994, -117.335155], [44.960335, -93.269194], [35.285897, -80.849666], [37.701283, -121.866617], [34.781651000000004, -82.473145], [39.307819, -94.666656], [39.0635, -76.83579], [40.702061, -74.009644], [34.131908, -80.87583199999997], [32.30999, -111.02924], [30.270312, -97.754637], [29.74357, -95.298195], [32.44997620567107, -93.87003064110812], [35.644592, -79.005348], [34.068165, -117.977818], [33.750702000000004, -84.7155], [34.381659, -117.416205], [40.138443, -75.328726], [40.133278, -75.448059], [32.823341, -96.871159], [41.76943, -72.661539], [28.512653000000004, -81.40119200000002], [28.568127, -81.294413], [40.68696, -73.807698], [32.78017, -79.868561], [42.481083, -71.02131700000002], [45.558972, -123.926419], [25.447991, -80.470986], [34.17857, -79.95552099999998], [34.211636, -118.849106], [35.241394, -80.850349], [40.1209, -111.660904], [41.121526, -74.00768199999997], [34.060762, -118.215235], [35.062254, -85.120343], [45.552559, -122.511192], [39.172939, -113.030312], [39.371486, -76.74754300000002], [27.43124000000001, -82.57547], [25.808789, -80.25039100000002], [33.914715, -118.185036], [33.678452, -117.84698], [41.886803, -87.646301], [32.841943, -97.016948], [45.026731, -92.972356], [33.650208, -78.981125], [41.810327, -71.4051], [34.030033, -86.57463800000002], [33.970456, -118.064541], [39.866263, -75.139507], [37.605106, -77.369442], [33.498795, -86.81452900000002], [39.997223, -82.930298], [29.743799, -95.497612], [35.0729405878302, -81.75618767699356], [39.943108, -104.987839], [47.885029, -122.229202], [36.15271, -95.955933], [43.02449, -83.73178], [33.740723, -84.510345], [35.38195, -80.789726], [39.81478, -75.06544], [29.68406, -95.392109], [34.794281, -82.449501], [34.144048, -118.698217], [33.365492, -117.16141100000002], [40.16252100000001, -75.88288100000003], [32.828964, -96.707832], [38.84723783, -77.42984891], [40.691425, -124.20266], [40.807996, -76.10807700000002], [39.862229, -84.289973], [29.137032, -81.118703], [34.010354, -118.417188], [27.441165, -82.562661], [47.659088, -117.346962], [41.74984, -88.06397199999998], [26.04208, -80.163658], [40.84385, -73.8956], [42.496208, -83.35818499999998], [40.008018, -75.745153], [38.981915, -76.14771999999998], [42.945357, -78.766295], [35.975278, -120.899167], [29.500732, -98.481934], [30.411119, -91.051514], [28.384339, -81.49825600000001], [35.89951157552768, -84.55308794934962], [40.654373, -111.901726], [41.17584586123859, -73.16906332934775], [37.51754, -77.25697], [45.02466, -69.0299], [34.060497, -118.21497], [42.31096, -87.90059000000002], [42.384132, -83.314217], [36.30233, -82.37583199999997], [30.447147, -97.805105], [37.38280200000001, -79.05221], [33.339675664742764, -89.77442622141943], [33.134547999999995, -117.329231], [37.47471, -77.27301], [29.430756, -98.554092], [38.363972, -122.779922], [33.9772, -118.078911], [42.6660811899058, -84.33630108793099], [38.41485, -77.42766400000002], [33.771801, -118.279831], [45.35444, -122.623068], [37.19926714879418, -77.46278643571155], [41.743271, -107.642676], [29.734734000000003, -95.345896], [40.819766, -73.812235], [38.574718, -121.380989], [35.35828, -118.91422], [41.8759, -87.64766], [34.801669, -82.424131], [36.148366, -86.780384], [45.542374, -94.110565], [43.046345, -89.473389], [34.0285, -118.22964], [30.23213, -97.73656], [29.73281, -95.501301], [36.206554, -86.77624499999996], [36.06076, -95.973503], [34.017761, -118.372983], [36.165795, -86.76425400000002], [36.253809, -119.355489], [33.88327, -117.53793], [33.117472, -117.319387], [30.357519, -90.98616], [34.816647, -82.32589], [33.854002, -117.941834], [37.111469, -76.474186], [33.911118, -117.883492], [42.484119, -83.084846], [34.051198, -117.778773], [36.010395, -83.972481], [33.925007, -118.209961], [35.251752, -80.859841], [39.49487328510525, -74.66030716860456], [29.723244, -95.492622], [26.706402, -80.055092], [38.883386, -120.901415], [29.197986, -82.184779], [40.686951, -73.71629300000002], [39.863458, -75.34766], [37.58408, -77.463379], [29.72617, -95.468348], [35.46011400000001, -97.618858], [42.925666, -120.808339], [32.744369, -96.869984], [38.576969, -121.52433700000002], [40.091211, -76.014237], [33.865431, -118.048878], [45.49786, -122.673508], [40.458075, -111.914281], [42.0482, -87.96025], [35.74189600000001, -78.672333], [34.104555, -117.199434], [42.4402, -83.21964], [37.550979852497335, -77.42849707566533], [42.65192, -71.334671], [30.263334000000004, -97.744827], [25.897189, -80.245662], [41.057742, -73.809252], [30.334675, -81.670998], [42.379711, -83.21772], [33.920358, -118.374383], [32.854124, -96.650995], [42.705261, -83.29892], [32.83172965034088, -96.78059220267876], [41.810118, -88.071848], [41.057957, -73.51310600000002], [32.83958, -96.8147], [39.17858, -76.86654], [30.409707, -86.88346700000002], [33.999516, -117.850994], [41.073731, -76.818593], [40.78936, -74.195328], [33.25219, -111.959991], [37.484413, -122.184334], [45.511551, -122.537682], [39.94586, -75.24034], [39.840363, -86.06501], [30.3991, -97.679394], [33.366003000000006, -110.964803], [29.960775, -95.547333], [32.74677, -97.31936], [32.445190000000004, -96.848885], [26.554735, -80.12281800000002], [34.720009000000005, -86.592751], [41.321732, -72.886848], [40.66974520663896, -73.9971792694378], [42.237931, -88.14885799999998], [42.48021, -83.20700000000002], [29.687445, -95.031616], [33.787949, -117.880081], [41.311024, -74.122162], [38.363955, -76.97934000000002], [38.88251423817213, -77.01558709107869], [40.21670200000001, -75.228996], [34.687607, -85.001846], [33.441135, -86.731094], [35.8496, -78.614661], [44.787297, -93.247988], [30.466351, -91.072197], [37.523834, -77.501205], [40.72978, -74.22338], [36.25030159932971, -120.24159550609473], [25.878037, -80.354511], [27.98205, -82.055962], [34.000786, -117.352219], [26.61717800000001, -81.68253299999998], [41.844316, -87.967888], [40.059046, -75.04454100000002], [26.374144, -80.1166], [28.517263, -81.289727], [44.11701, -121.31543], [37.770333, -121.173764], [41.12984, -78.707975], [40.624577, -74.40619699999998], [35.761803, -78.66615300000002], [37.41019, -121.87925], [39.754004, -79.366777], [30.36145, -81.668617], [29.434153, -98.645981], [35.267368, -119.252708], [36.023415, -79.816528], [28.539112, -81.309354], [37.492619, -120.921547], [41.87006, -71.40038299999998], [41.650738, -93.575516], [33.97450300000001, -117.089874], [38.564701, -89.80764], [34.088039, -84.208099], [36.16600800000001, -86.76442], [36.18623, -86.76313], [34.26442, -111.226273], [35.265759, -80.794983], [31.825939, -106.431816], [45.671077, -111.181179], [40.239819, -76.13459], [35.208333, -119.010278], [44.389145, -122.18515], [33.956135, -81.09335300000002], [25.82311749, -80.20638585], [32.31092, -86.33851], [44.853451, -123.01189], [32.250648, -110.88841200000002], [37.37523, -121.933619], [41.36385, -81.75976], [45.51202, -122.616142], [36.108436, -78.26660600000002], [38.794345, -77.14714000000002], [40.00835, -75.2939], [32.713124, -96.826536], [40.25325, -76.812363], [37.639122, -121.006973], [40.103637, -75.341928], [38.85384678822111, -94.5287382598184], [28.566974, -81.209623], [28.027781, -82.21593399999998], [41.726913, -72.77220200000002], [42.153102, -87.929029], [43.042046, -88.186417], [25.547578, -80.404777], [38.413125, -120.657994], [41.13865300000001, -95.946373], [34.135423, -117.371605], [40.873138, -76.823723], [29.007174, -81.302727], [41.596413, -72.90365200000002], [38.831131, -104.840408], [41.74276, -71.44491], [34.082126, -118.295648], [40.170212, -74.10125699999998], [40.15645, -75.19243900000002], [35.109684, -90.029213], [40.844796, -73.905512], [35.412229, -119.052877], [34.9744, -81.602402], [33.810371, -79.034813], [33.624268, -112.418022], [44.85957, -93.394699], [34.054012, -118.001465], [38.496181, -121.451283], [30.356321, -97.73098], [36.25463604909776, -119.34910654964756], [29.94342, -90.124944], [38.596173, -121.412259], [34.977428, -85.416924], [41.985039, -88.143227], [42.5653, -83.04900400000002], [29.728991, -95.528709], [34.07788396, -117.20082879], [42.986808, -83.69811999999997], [42.65963, -83.448601], [30.433678000000004, -83.62706], [29.645404, -82.472533], [43.056695, -76.108809], [40.976931, -73.757786], [35.483421, -80.87473299999998], [41.803581, -87.932373], [38.91781, -76.92583499999998], [40.420419, -80.049683], [35.257084000000006, -80.83609799999998], [37.410725, -121.99218700000002], [34.703299, -118.794201], [37.666142, -77.613663], [30.190359, -97.770462], [32.87134051, -96.89856648], [39.512341, -84.315887], [30.370947, -88.548569], [37.823818, -122.31868], [38.261184, -122.057528], [40.813177, -73.938653], [34.135196, -117.596367], [35.65684, -118.440379], [30.297323, -97.75868], [42.465679, -87.97219799999998], [35.01508, -85.293497], [35.159389000000004, -80.821045], [33.974717, -117.837232], [29.951497, -90.093951], [37.762943, -121.435097], [34.42004, -119.291817], [44.815144, -93.221077], [39.445972, -77.392976], [29.777779, -95.124336], [25.608134, -80.41407199999998], [37.70193, -121.910203], [25.735108, -80.253037], [40.780994, -74.24329399999998], [41.22075, -73.72485], [34.095539, -118.244049], [39.483071, -77.978585], [33.902075, -118.105066], [26.301591, -80.12060799999998], [33.936508, -84.159424], [40.518838, -74.359564], [32.66292, -97.28763], [33.966553999999995, -117.327359], [34.071652, -118.108241], [37.05948, -113.09839], [41.810055, -112.178604], [34.153309, -118.36141200000002], [30.224928, -97.703438], [34.90493, -82.103577], [41.8514192102344, -122.56949543894495], [41.176191, -73.150926], [47.863791, -122.246292], [40.427437, -79.89102199999998], [40.04335284214, -76.30018830262996], [26.68212, -81.883436], [33.715934999999995, -85.03231], [40.836702, -73.877596], [26.137118, -80.13101], [40.85353, -73.96226], [30.31781, -81.729568], [35.464279, -97.516296], [35.758656, -78.548951], [34.286111, -118.864722], [42.103165, -89.022667], [35.174191, -89.96228], [41.101242, -73.436012], [34.173336, -118.535973], [32.298098, -109.356783], [47.338806, -122.292938], [28.668507, -81.493098], [35.365587, -80.741151], [48.307604, -112.252146], [41.540643, -73.019359], [32.851082, -96.77137], [37.996532, -122.072166], [32.669552, -97.361451], [29.974632, -90.057434], [39.63254000000001, -75.66039], [47.023903, -122.37233], [30.467461, -97.814919], [28.03697, -82.05027], [33.768570000000004, -118.033227], [42.127451, -87.887078], [35.341301, -89.888527], [34.145805, -81.23786199999998], [35.901522, -78.558035], [33.805847, -118.142507], [33.618793, -117.702807], [39.03585, -123.121644], [30.39543, -86.58284], [38.82324600000001, -77.634117], [27.929895, -82.34671800000002], [34.689084, -82.99214599999998], [40.767401, -74.15969799999998], [36.120708, -86.80796099999998], [34.136619, -80.96023000000002], [32.746521, -97.319557], [34.034713, -118.338296], [36.134274, -86.775391], [25.964, -80.186545], [45.784782, -108.481782], [40.644798, -111.932213], [41.171211, -73.19194], [35.181686, -80.838287], [36.74870900000001, -119.800415], [38.699437, -120.657914], [41.040015, -111.950315], [46.613904, -112.089099], [30.250799, -95.456749], [30.291643, -97.758827], [43.04901480654216, -76.14256024324351], [35.162882, -80.876029], [34.024640000000005, -117.75696], [30.476563, -91.112686], [29.637665, -98.471146], [35.420413, -119.058699], [34.065811, -117.200768], [33.434544, -111.891006], [33.491077000000004, -86.78690300000002], [47.301669, -122.25343], [45.277887, -122.944661], [37.597851, -121.946983], [36.136089, -85.324854], [35.223156, -80.724915], [25.69752, -80.162971], [28.33692669854957, -82.55130171736455], [25.5967, -80.409295], [44.864544, -123.229103], [40.430885, -80.026131], [41.270035, -95.982841], [30.522044, -87.23756999999998], [45.27548, -93.73609], [33.435398, -112.315575], [41.81096, -88.1674], [39.776408, -85.957162], [32.93444752677472, -80.68718790969521], [43.005637, -123.890321], [36.838268, -76.117088], [32.671140432202, -111.427899598544], [45.10885, -93.30142], [35.50777100000001, -97.610046], [32.883914000000004, -117.228187], [43.04457, -87.92629000000002], [38.237915, -104.611791], [36.055375, -86.674786], [34.492123, -118.283791], [39.348921, -77.391442], [34.32375, -118.50083], [35.45639, -97.51355], [35.22075, -89.9287], [34.111453999999995, -117.526199], [30.494097, -84.44136800000003], [35.327156, -80.69796], [44.861519, -93.316362], [38.5603, -121.45731], [39.278709, -76.551666], [34.805309, -82.21597299999998], [33.893491, -98.49097], [35.38356500000001, -119.14563400000002], [32.998418, -86.701149], [42.950569, -71.474632], [40.239349, -75.6586], [25.964061, -80.262005], [37.38447100000001, -80.361751], [42.197297, -87.98745799999998], [41.258995, -95.925926], [42.94464, -85.63943], [42.76328400000001, -77.829476], [34.07243, -117.92655], [29.767509000000004, -95.410561], [34.112657, -118.266445], [29.691344, -95.269754], [40.772572, -72.952377], [34.030374, -117.633244], [29.686531, -95.558357], [42.821952, -73.768537], [32.767345, -96.835173], [42.153004, -87.897217], [29.786485, -95.339326], [31.626554, -106.259583], [36.155884, -86.629227], [33.995731, -118.145889], [33.483898, -82.19928], [39.986721, -75.20787800000002], [36.626068353478296, -82.1760714050189], [33.085023, -117.298465], [38.890541, -121.12421299999998], [38.23668, -78.385856], [33.98819, -118.061471], [34.723082, -80.824562], [42.438577, -76.500695], [26.617235, -81.675713], [28.475229, -81.367867], [35.047916, -85.130651], [33.221257, -84.309433], [36.115198, -95.929192], [40.000938, -82.984604], [41.81662, -88.168243], [39.071496, -120.142855], [39.78807800000001, -76.96974200000002], [35.163849, -80.87602700000002], [33.86938, -117.75046], [41.320984, -74.08749399999998], [40.43575300000001, -79.58157800000002], [40.874546, -73.99380699999998], [47.197265, -121.060897], [41.498237, -95.166068], [25.919919, -80.224094], [32.83662, -97.14093], [30.388758000000006, -87.07339300000002], [41.616463, -73.915665], [31.226382, -85.405987], [30.471741, -91.084671], [41.180119, -73.194717], [30.762695073934733, -85.67905783612403], [28.449912, -81.47993000000002], [33.575512, -81.42923], [33.760587, -78.8593], [29.737751, -95.50103], [41.931126, -87.94634], [33.186684, -97.108055], [40.734882, -74.123688], [29.580566, -95.386208], [40.814756, -74.109746], [36.987423, -121.964951], [32.806217, -96.627232], [40.216357, -123.814918], [38.757386, -77.083628], [33.754379, -84.3787], [25.861805677290626, -80.20973324737449], [39.365569352915934, -77.1692454811231], [29.720501, -95.571518], [28.45158, -81.230331], [42.038113, -88.239594], [44.665843, -123.222288], [40.177979, -75.308441], [38.49609, -121.416426], [33.465771000000004, -112.211983], [39.006689, -77.153109], [32.712234, -97.069725], [40.025295, -75.228973], [37.074463, -113.585243], [39.96015, -83.0487], [29.683399, -95.454498], [33.968861, -118.453979], [33.588411, -86.300873], [32.424637, -80.643509], [33.466324, -112.110077], [38.56031, -121.457298], [33.59555, -79.852294], [35.916489, -78.38559000000002], [28.36063, -82.64969599999998], [27.4492, -82.530501], [38.502965, -122.908824], [45.406154, -116.332174], [43.666501, -94.694483], [32.987761, -110.770259], [32.728798, -96.79892], [45.457275, -123.841022], [37.925382, -121.732852], [34.840025, -82.286036], [42.974476, -83.765953], [33.529106, -117.167175], [29.739574, -95.379967], [33.88648152335221, -118.03323626461966], [38.594486, -121.401495], [44.138463, -95.943249], [35.427902, -80.940628], [32.177311, -110.806915], [26.456034, -80.174278], [37.719662, -121.535553], [39.262562, -121.417343], [40.301204, -76.87059], [38.056418, -120.472786], [39.389, -76.57105], [41.93780200000001, -72.452309], [44.97033, -93.33141], [33.94583, -118.09412], [34.220814000000004, -81.41194200000002], [37.688119, -122.134411], [34.106483000000004, -117.475731], [40.884251, -111.899109], [25.786511, -80.212239], [30.339661, -97.718399], [29.70116, -95.270332], [27.77755800000001, -82.637125], [40.910754, -77.77741800000003], [41.88450200000001, -87.645973], [35.493259, -97.525818], [34.171654, -80.971581], [33.92886, -118.282066], [34.066661, -117.459629], [25.882473, -80.206467], [33.44872355, -112.03710437], [44.951838, -93.159223], [26.686658, -81.794315], [35.801051, -78.67764100000002], [45.070957, -93.307495], [44.775558, -92.863136], [40.14682, -75.395241], [34.083895, -117.69302], [37.752502, -122.403015], [35.102093, -118.535062], [33.86968017, -117.67154574], [27.938540000000003, -82.746863], [32.787667, -117.160652], [34.941233000000004, -118.931196], [40.209063, -74.57825799999998], [41.392277, -71.822632], [40.741562, -73.95079799999998], [35.056656, -89.832054], [32.93417, -117.11266299999998], [33.994246999999994, -117.90509], [38.223011, -85.75102199999998], [40.104159, -75.419866], [33.081404, -117.1042], [41.600952, -87.583519], [45.411496, -122.524544], [29.590658, -98.598541], [41.891949, -87.611588], [30.33672, -81.669235], [40.20866, -75.66023299999998], [33.180859000000005, -117.304977], [33.57701897605144, -117.6719319814793], [37.157215, -121.982124], [33.77324, -118.03928], [33.888897, -118.188927], [38.41445, -121.391118], [37.31963, -80.039806], [29.517578000000004, -95.38705], [25.794347, -80.240481], [35.207985, -80.798592], [37.539642, -77.40974399999998], [33.182186, -87.525993], [42.349483, -71.092285], [30.314177, -81.665634], [38.246433, -122.077202], [33.726448, -80.929339], [39.326853, -77.51109699999998], [33.430508, -117.145332], [34.071531, -118.119022], [37.680229, -122.093903], [43.040348, -89.378288], [42.240257, -87.925262], [35.058122999999995, -80.893546], [33.883167, -80.742101], [37.956046, -122.329838], [39.894104, -74.910351], [37.60729, -122.06507], [36.04484438878992, -86.77970766979799], [38.728494, -121.286439], [44.237939, -121.197481], [33.007488, -117.07581299999998], [37.551558, -77.441066], [42.37648844698726, -74.99642014467717], [34.055001000000004, -117.299073], [30.191549, -81.703087], [34.064689, -118.25114], [47.65556, -117.435707], [37.99998, -78.82687], [25.783483, -80.38529100000002], [34.914359999999995, -82.106903], [47.653477, -117.421059], [34.256864, -118.418458], [39.337886, -76.49368199999998], [33.848869, -84.430977], [39.1121, -121.634605], [34.076637, -117.745216], [30.69208, -88.02729000000002], [30.32711, -81.528807], [38.608733, -121.429246], [30.50127, -84.25565300000002], [39.432263, -120.031081], [42.227011, -79.782875], [40.146919, -76.60296600000002], [29.785357, -95.617805], [33.796211, -84.393692], [40.09848, -76.35543100000002], [35.692242, -78.581123], [29.169669, -81.515289], [37.10441, -120.83485], [42.382038, -83.400719], [32.642340999999995, -96.812119], [42.259571, -85.531738], [40.735770463749226, -73.85819792712279], [38.509418, -90.204979], [44.786541, -93.413239], [30.236724, -93.221837], [33.582446000000004, -79.046851], [33.823542, -118.290209], [25.763151, -80.302214], [39.855745, -76.708303], [41.98093, -88.080276], [37.55619, -77.44453399999998], [35.83872, -78.675063], [33.23888, -87.576584], [38.929054, -76.899451], [34.004123, -118.064284], [32.94989, -117.20059], [36.148781, -86.666298], [38.223202, -85.821999], [35.555069, -119.08802], [41.904096, -88.03814], [40.740078, -73.845108], [34.152190999999995, -118.65583], [25.797055, -80.23996], [34.070019, -117.295801], [28.552336, -82.420876], [37.348045, -122.059784], [29.863569, -95.429413], [44.49643, -95.86115], [45.45286, -122.64124], [27.447226, -82.51616700000002], [34.136768, -117.566872], [37.8764, -122.04636399999998], [43.002204, -83.74311800000002], [32.513966, -93.731377], [39.731247, -86.504776], [26.452054, -81.723729], [41.85109735, -87.64515996], [41.70818, -72.801311], [34.218891, -118.403076], [45.01916, -92.98479], [29.685883, -95.340996], [32.539371, -86.21714], [36.368884, -119.291173], [29.808689, -95.328453], [38.435388, -122.578172], [41.715961, -87.626564], [43.071339, -87.92076899999998], [27.269140000000004, -82.46464499999998], [33.995472, -118.14526399999998], [37.16072800000001, -119.74716200000002], [34.318184, -118.492157], [41.846104, -87.97219100000002], [33.63115668280777, -112.00481057113645], [34.039558, -118.16956299999998], [45.55694, -122.56663], [33.769215, -117.916525], [25.69891, -80.38217900000002], [35.346554, -80.885437], [39.07931, -94.49073], [42.496212, -83.358414], [32.755204, -117.140776], [33.471321, -111.888264], [30.424614, -91.156006], [41.75952, -72.64124], [34.727232, -114.390524], [35.794537, -78.582642], [37.351286, -119.743878], [25.938481, -80.21950600000002], [35.59465, -97.582764], [41.76531, -72.65446], [39.938789, -75.45885899999998], [38.864332, -76.94824200000002], [37.48534, -76.948883], [34.901591, -82.331828], [30.282774, -97.75779], [34.020195, -118.156326], [30.334845, -81.669014], [40.03833174686413, -76.45976901017923], [35.559725, -82.643406], [42.64084697, -88.98313165], [40.667076, -73.995758], [33.52414, -86.80856999999997], [33.493479, -117.286476], [45.51478, -122.69131000000002], [37.05598300000001, -120.969323], [40.753899, -74.196605], [37.804779, -122.448334], [40.700754, -73.72724000000002], [41.776961, -73.767882], [29.800173, -95.01161], [30.11405110344832, -90.576492547557], [44.17944788911733, -117.13536143247065], [43.118793, -83.76342], [27.301844, -82.530454], [42.26741, -83.221153], [34.040561, -118.175258], [28.472387, -81.41318000000003], [47.642124, -122.322556], [25.815773, -80.32128], [29.670666, -95.46207], [30.226078, -97.786278], [35.016609, -81.762109], [37.401066, -121.908981], [40.1492, -75.058113], [29.71666, -95.460309], [36.525429, -121.467369], [33.996368, -117.870354], [41.805688, -88.086901], [40.750881, -73.897408], [41.237869, -96.004753], [38.443012, -121.862152], [35.82295, -78.622359], [34.963441, -82.039743], [35.511387, -97.583397], [44.54954981782651, -123.06201338709324], [32.738279, -96.824643], [41.165165, -73.236087], [32.717777000000005, -117.11425], [32.898066, -96.718885], [37.542419, -77.436531], [37.632641, -77.55117800000002], [37.801041, -121.897499], [29.77808, -95.26502], [42.958214, -83.771614], [34.039711, -118.037075], [37.49979, -77.53424100000002], [33.982085999999995, -118.247711], [41.704105, -88.031082], [30.455995, -90.952887], [44.775101, -93.288506], [42.933643, -78.902824], [38.982074, -122.830505], [45.13571, -122.84508999999998], [33.127692, -80.29110899999998], [38.351481, -121.983675], [32.778549, -96.835762], [34.092602, -118.205139], [37.758194, -109.396626], [40.745718, -73.767706], [37.70078, -122.02652], [30.72554, -86.568771], [39.00683400000001, -123.365095], [32.819284, -85.2157], [33.9963, -117.88841200000002], [35.841759, -78.373497], [32.837196, -96.951294], [34.171249, -118.518524], [34.022499, -117.985011], [29.399896, -81.15365600000001], [32.67257, -97.32056], [33.918690000000005, -118.2847], [38.773247, -121.243118], [29.73286, -95.37476], [28.02532, -82.488388], [32.851182, -96.818851], [33.8396, -118.263474], [33.680698, -112.403885], [39.69422, -105.73004], [33.81336, -84.36624], [29.75857, -95.350952], [32.781754, -96.814606], [34.594327211215045, -117.25672602597592], [33.90896916373296, -87.49843239742519], [34.004696, -117.399895], [34.406156, -119.545039], [39.094761, -84.26306899999999], [34.037896, -118.607529], [35.822891, -78.598197], [32.68272757514628, -97.24062323523884], [29.94030200000001, -90.100783], [44.818859, -93.398132], [30.44196, -91.057394], [34.465698, -82.645149], [35.01295, -81.991724], [32.825257, -79.95315699999998], [30.515407, -87.264505], [40.337337, -74.630966], [34.97560900000001, -81.04409], [38.93664, -94.452485], [39.495983, -77.567986], [47.40006, -122.292349], [36.923054, -119.869251], [28.552394, -81.448642], [43.046924, -88.20354300000002], [25.889696, -80.130585], [41.805405, -124.137133], [25.768256, -80.33629599999998], [39.296942, -78.080186], [40.685417, -89.582672], [38.39154600000001, -81.840075], [29.668045000000006, -95.301973], [32.71078, -97.062982], [37.258517, -122.121952], [45.276267, -93.738051], [32.20652800000001, -110.823825], [34.27557349, -118.65750432], [35.731211, -78.587321], [28.332813, -81.495603], [40.06515, -75.58182099999998], [35.176103000000005, -80.874909], [43.51269, -89.5233], [25.657572, -80.327854], [38.379769, -78.910273], [35.060604, -80.95616899999997], [39.64302100000001, -77.636726], [45.06584286668269, -93.29987883523322], [34.137865999999995, -117.339833], [37.992047, -121.252766], [39.108294, -77.184585], [25.598639, -80.35282], [40.11480200000001, -75.34959599999998], [34.335462, -119.291697], [39.934638, -74.965692], [32.731303999999994, -97.071594], [41.84199929217414, -93.57093214944088], [39.23480629902251, -123.20835471094507], [30.69166400000001, -88.12554200000002], [32.913528, -96.871518], [37.460875, -121.901369], [43.035271, -83.759872], [39.7142, -86.11582], [39.6298, -104.90516], [37.700855, -121.81778], [29.689016, -95.476273], [32.48703, -85.63691700000003], [38.766287, -121.254302], [34.150635, -118.153961], [37.294952, -120.468089], [39.654688, -75.704679], [34.052187, -117.715539], [42.003017, -88.026436], [37.983051, -122.316414], [34.62722, -82.390648], [37.734634, -122.406332], [28.212505, -80.597815], [35.354038, -97.529968], [44.997886419081695, -123.00060152948856], [32.75976, -117.188876], [29.67092, -95.371151], [33.562061, -117.67292], [31.764341, -106.486176], [25.734897, -80.30295], [39.356607, -77.585163], [34.921947, -81.988647], [39.344305, -77.07699699999998], [37.292401, -120.321109], [30.353339, -91.133365], [27.443606, -81.3081], [41.559494, -73.056717], [37.451586, -76.59516500000002], [38.811037, -77.241538], [35.190317, -80.881204], [34.02629, -118.27497], [28.964296, -81.756694], [47.273026, -122.259041], [43.52372, -123.31206], [40.160713, -75.221954], [34.272938, -78.01522800000002], [28.547273, -81.413824], [40.04188, -74.83633], [37.948311, -122.056699], [38.206039, -85.828819], [34.303421, -118.479546], [40.452038, -80.17270699999997], [25.904554, -80.195801], [33.864437, -118.326408], [32.810028, -83.725922], [43.742218, -74.052582], [43.049644, -87.92576600000002], [30.394727000000003, -97.706827], [37.8311, -121.606956], [30.383324, -97.707466], [37.89687, -122.10223], [34.03181, -118.18741], [40.862245, -74.348111], [40.687102, -73.54126099999998], [40.62268, -73.895871], [44.77346, -93.305664], [35.001011, -82.04669200000002], [38.986404, -76.577354], [45.14096, -122.89073], [30.71839000000001, -88.13619200000002], [42.32613, -120.821358], [40.758801, -73.320709], [37.600471, -122.384049], [39.901291, -77.66184799999998], [42.83301, -73.95683000000002], [29.602940000000004, -95.38695], [40.002906, -75.58422900000002], [39.963092, -75.839124], [45.159642, -93.163202], [25.766552, -80.263465], [39.06916, -77.04525], [37.48221, -76.930603], [33.874695, -117.545586], [40.693455934330494, -73.5756647583314], [33.829353000000005, -118.208397], [32.337345, -111.114067], [40.854159, -73.965693], [40.11175, -75.283069], [42.24922299364925, -121.79459452571012], [38.785263, -112.083753], [40.558292, -111.897957], [39.838367, -76.857765], [45.30534, -121.81617], [30.291824, -97.73893], [38.952057, -77.527901], [36.934113, -76.264565], [39.91966, -105.10156], [39.81517, -85.92732], [36.358381, -119.116321], [41.560085, -106.107479], [33.556988, -79.043419], [39.118797, -94.564575], [32.678532000000004, -97.114899], [40.33069, -74.63901], [28.493601, -81.475243], [41.161433, -73.688437], [28.185825, -82.206323], [29.493387937405146, -98.54705214453436], [32.859447, -96.753815], [41.871178, -87.862305], [25.984755, -80.165705], [43.228069, -77.65094], [40.76594, -73.89341], [42.69921, -73.708454], [33.945049, -81.168594], [34.31159, -117.478173], [39.751619, -86.144148], [27.267942, -82.464526], [28.405549, -81.391635], [30.779295, -85.62997800000002], [38.764744, -104.775414], [32.32724, -86.241112], [39.546959, -76.313133], [39.817468, -104.983023], [26.188128, -80.151657], [30.39366603, -91.08392358], [34.485508, -120.228946], [34.067661, -117.437012], [34.026471, -118.208682], [33.876717, -118.185972], [37.59525, -77.57576], [38.926116227918016, -76.92810416184936], [35.26842100000001, -80.882698], [37.512554, -77.164151], [37.351204, -122.060173], [26.73694, -81.79342700000002], [32.332101, -90.245763], [29.489590000000003, -98.574303], [30.407921, -97.678345], [36.149101, -95.86055], [47.04112887360076, -123.0683863157126], [34.201111, -118.473412], [30.120695, -97.635246], [42.740662, -73.69088], [47.289936, -122.302795], [36.784718, -121.66848799999998], [33.040240000000004, -80.15098], [46.500045, -114.122578], [40.943491, -72.862808], [40.368350744054936, -78.78509402237518], [33.435738, -112.556297], [36.378876, -82.43924], [39.41582322101871, -76.65919661485357], [38.168941, -85.60528599999998], [33.885338, -79.04856099999998], [35.895412, -78.618874], [39.022182, -84.511826], [35.14193, -80.834663], [37.026986, -121.872122], [42.187363, -88.101646], [40.541964, -74.297972], [35.752441, -78.592606], [30.221928, -97.83817], [36.295876, -82.437225], [34.128813, -118.346909], [28.625741, -81.473811], [43.177593, -83.719872], [34.015463000000004, -117.093197], [39.196941, -76.767113], [34.067173, -117.427895], [41.192532, -111.97928600000002], [43.04792, -77.644103], [37.922952, -122.512879], [42.91593, -117.26042], [32.894496999999994, -96.711806], [45.182714, -117.987162], [34.23389, -117.19658], [29.758299, -95.368973], [36.942574, -86.48207099999998], [33.499706, -81.89439399999998], [35.1184, -85.24808900000002], [34.06375, -117.27386], [32.801815000000005, -96.827339], [39.050941, -84.551811], [31.324923, -89.352486], [34.330056, -78.218488], [33.678831, -78.96646700000002], [38.628872, -90.310261], [44.312243, -117.257865], [39.665653000000006, -86.089867], [39.96559023838059, -86.00068688351631], [30.224136, -97.765717], [34.017866999999995, -118.052654], [32.917271, -117.122908], [43.018429, -83.654678], [35.070408582520145, -104.1637909407417], [40.018032, -76.741937], [34.629082000000004, -80.54634899999998], [40.828317, -73.93111400000002], [25.68714, -80.350868], [34.480034, -81.944672], [41.957565, -75.29496], [34.189693, -119.199829], [38.624648, -121.517129], [33.494931, -112.134151], [36.78191500000001, -81.737841], [33.772219419318326, -117.83080458584864], [47.602623, -122.325722], [37.303234, -120.500534], [37.375214, -121.933624], [36.14386, -95.96708], [39.160712, -76.644841], [33.806769, -80.374879], [38.89188400000001, -76.84719100000002], [35.37182199999999, -119.043495], [41.703232, -73.78315], [34.23684, -117.425], [34.246433, -117.299172], [40.27684, -74.828209], [35.304747819732164, -118.58371138516148], [37.90731, -122.315079], [34.827129, -82.539658], [38.756939, -111.425209], [29.72583, -95.604404], [35.795895, -78.51001], [28.843964, -82.090536], [34.151008000000004, -118.152055], [29.835922, -95.452993], [27.807119, -82.662979], [35.062147, -80.635116], [38.02017331105223, -122.26466774882186], [26.521751, -81.888288], [35.175649, -80.886375], [44.928587, -93.143849], [32.933117, -96.822319], [35.869932, -84.259331], [40.62355, -111.90328], [42.959709, -85.673447], [45.001611, -122.99873999999998], [40.09621, -75.357727], [38.816418, -77.137123], [40.79719, -73.48787], [39.61485, -86.47514], [35.226712, -80.827854], [37.922882, -121.906755], [33.996033000000004, -117.968124], [29.612005, -82.382287], [37.167919, -82.35844200000003], [34.07288, -117.77604], [40.697712, -73.869911], [35.737518, -78.57198299999997], [42.96243, -87.97281], [43.28141, -75.583199], [29.782883, -95.330994], [38.542617, -77.73078000000002], [38.945377, -76.858414], [35.042491, -85.155828], [37.615083, -79.016559], [33.77874, -117.87569], [32.43784, -80.99754], [40.85649, -74.122105], [43.093197, -76.16393000000002], [36.297929, -119.753775], [28.428167, -81.233216], [34.48563, -82.65943100000001], [37.9034, -122.069824], [40.89399, -73.81679], [28.088129, -82.454727], [33.931171, -118.363167], [37.21681952458754, -77.39277005158715], [36.220024, -86.774772], [30.410427, -81.564766], [32.75953, -97.029292], [37.945518, -122.057944], [30.75558, -85.27796], [32.611248, -90.068771], [35.638458, -97.523338], [40.28047, -74.50409], [27.847031, -82.674637], [30.403653, -97.724692], [41.78185300000001, -71.423447], [32.892643, -117.210735], [38.574046, -121.385204], [36.055417, -86.775093], [34.166176, -118.837082], [34.25821, -117.291295], [45.38775, -118.31782], [34.001017, -118.174489], [33.51142287, -84.23701644], [40.558933, -111.898117], [30.430378, -87.249382], [47.60231, -122.33255], [35.311647, -84.80546899999999], [41.642971, -70.943573], [37.59893774968339, -77.49748349152803], [41.75683, -72.65153000000002], [33.869709, -81.413513], [37.076469, -120.510078], [33.76595377905957, -117.93377995434793], [33.219791650613686, -110.21974682755364], [37.955533, -122.053652], [33.99617, -117.90358700000002], [35.557968, -97.638351], [41.844303, -87.97221400000002], [45.56442, -122.55817], [25.934813, -80.215935], [28.40509, -81.53272199999998], [30.247448, -97.583038], [41.266131, -110.917968], [32.848824, -111.686935], [34.231339, -118.403046], [28.586985, -81.255844], [35.354035, -119.252427], [29.938913, -90.057457], [42.92601, -83.63274399999997], [41.82498, -87.71865], [34.39335, -118.574512], [25.880626, -80.355278], [40.86569666843001, -74.01812195742596], [45.30565, -92.95781], [34.10321, -118.19213], [33.748497, -117.276321], [35.125179, -80.87258100000003], [37.86644, -122.03878], [33.71833400000001, -117.793045], [25.70654, -80.414893], [33.547112, -86.54612], [28.768579, -81.884682], [27.865669, -80.493713], [32.767886, -96.830415], [38.397945, -122.624542], [45.522896, -122.686089], [40.822051, -98.203171], [37.558947, -77.09978199999998], [39.361303, -76.44507], [34.386728000000005, -117.412125], [31.390326, -89.377502], [39.05602097, -94.49369788], [34.034058, -118.385742], [40.677583, -118.072242], [33.822617, -117.293041], [29.767363, -95.212406], [34.450813000000004, -119.751015], [25.774381, -80.288286], [43.062428, -76.156364], [33.853806, -117.974907], [37.522695, -121.988346], [29.462311, -98.599167], [40.391195, -111.916893], [33.734499, -117.901575], [37.930519, -122.060631], [41.0794, -74.14936999999998], [42.391254, -87.92536899999998], [37.378872, -121.96524], [41.55562800000001, -72.87305], [33.746652000000005, -117.448357], [30.433931, -91.007556], [40.681019, -73.358688], [37.64006, -122.0906], [42.591949, -71.281548], [42.735867, -83.379684], [35.208759, -80.913689], [40.69935, -111.913593], [38.414059, -121.900085], [39.973250627327104, -104.9882376188994], [29.692406, -95.290588], [35.41425800000001, -80.856254], [35.243408, -80.690834], [32.946911, -96.905853], [36.12524000000001, -95.940231], [28.526637, -81.31049300000002], [45.710945, -121.624904], [40.342142, -75.477618], [38.797358, -77.585649], [30.065186, -95.245651], [33.339794, -117.081094], [39.027097, -94.690413], [37.90329337, -122.21645236], [35.900926, -78.68109799999998], [39.053341, -77.111], [38.715651, -121.318061], [38.798786401563646, -77.01895594560138], [33.41647267325679, -112.19149231857207], [41.42157, -75.589485], [36.96379500000001, -121.551804], [34.466686, -118.329811], [39.881084, -104.886604], [40.42680144290721, -80.29543518981792], [32.74519, -97.329651], [34.159005, -118.370251], [42.870052, -71.34056899999999], [35.144371, -80.921432], [39.05167, -84.55689], [40.240629, -75.616016], [27.82636, -82.66603], [33.275894, -111.225922], [34.935699, -82.001648], [33.928505, -118.280082], [37.925758, -121.732918], [42.269138, -88.033684], [35.168834999999994, -90.018723], [40.911641, -111.89123], [38.783311, -77.178608], [32.781596, -117.08316], [47.945472, -122.197465], [39.965547, -75.544449], [41.462757, -82.054855], [37.966614, -122.048759], [40.84774, -74.42761], [34.02808, -81.101624], [34.400728, -118.814055], [37.313143, -120.851218], [38.908688, -77.970639], [28.229965000000004, -80.718414], [33.643195, -117.916579], [40.870074033542295, -73.81993889773454], [30.471224, -97.789803], [44.777, -93.27785], [33.46249937995213, -112.06993460601772], [34.992352000000004, -117.541573], [34.216538, -119.032858], [32.894493, -96.724358], [34.154182, -118.46823899999998], [33.960119, -118.248514], [33.745304, -84.349014], [30.08467555031736, -90.428863763378], [33.629814, -111.890991], [32.538521, -93.906578], [37.700104, -121.77881200000002], [25.734897, -80.30295], [38.985421, -76.314305], [37.560803, -77.42092199999998], [27.777382, -82.663124], [37.14435, -121.98468], [37.458817, -122.137894], [28.668949, -82.14269300000002], [41.121378, -78.66144], [33.445889, -112.108772], [33.78405, -117.216255], [42.339981, -83.33157299999998], [32.750346, -117.155371], [32.85842, -96.65275], [30.46132206902284, -91.0418879981468], [27.789824, -82.35714], [33.386608, -111.741348], [38.500664, -121.51766200000002], [38.946038, -77.359103], [42.334168, -88.112001], [34.058231, -81.11173199999998], [30.053471, -95.733894], [26.08115, -80.168243], [28.567595, -81.20780400000002], [33.506302000000005, -84.23162099999998], [39.68511, -75.47892], [33.214028000000006, -117.389342], [34.3409, -118.52294], [36.533746, -121.85083799999998], [33.089451000000004, -117.301628], [26.44491, -80.08974], [25.686778, -80.368944], [45.28897, -118.03512], [42.484589, -83.084213], [39.800743, -86.119141], [45.06867, -93.26813], [25.890126, -80.189429], [25.942489, -80.20434499999998], [34.048533, -117.549707], [40.409735, -74.200929], [38.143437, -121.987596], [42.78447, -71.507797], [42.32376, -71.05525], [34.072601, -81.17569], [32.052763, -101.965241], [33.973621, -117.8731], [34.058679, -118.177367], [43.40542, -84.65626], [38.8, -77.166], [33.719372, -78.8517], [35.204182, -80.759939], [45.254988, -92.983828], [33.982605, -84.542999], [25.689004, -80.365893], [34.135239, -117.977524], [37.41151, -122.07736], [25.689243, -80.365895], [44.182434, -117.136131], [40.67669749240552, -74.60518240893073], [25.949326, -80.148812], [38.908649, -94.776273], [29.828648, -95.381058], [42.321957, -83.082642], [28.61812, -81.74333100000003], [25.81243157, -80.21509767], [32.939888, -96.786148], [45.57752251603328, -93.59833359673692], [44.06374812105148, -123.10104489267778], [38.574718, -121.380989], [46.831287, -100.76234], [39.03842568, -94.67928529], [38.134075, -122.476372], [42.368423, -83.058128], [28.037527, -82.034686], [35.168892, -85.41523000000002], [28.387276, -81.403577], [43.93228, -91.862295], [35.210934, -79.61981800000002], [37.51926, -122.35351], [39.212726, -120.780051], [34.752201, -86.596863], [39.040787, -94.673088], [35.03802, -85.238962], [39.86961, -75.32804], [32.776939, -86.570288], [36.0354, -95.864883], [34.130615, -117.927592], [30.321771, -97.706013], [33.960016, -118.283889], [47.01348, -113.066994], [29.94002, -90.104518], [45.686394, -123.203741], [37.272911, -121.862465], [38.496071, -121.4291], [39.86552, -105.24005], [42.32029, -93.569365], [40.354922, -79.835604], [47.87744, -122.2397], [40.085245, -75.388862], [33.482162, -84.217117], [41.383224, -73.582382], [40.653797, -74.008087], [38.630356, -90.342567], [38.33636, -88.95438], [35.82378, -78.770699], [33.884661, -118.352382], [40.083133, -83.13784799999998], [40.835739, -73.873337], [28.227665, -82.666054], [40.932594, -73.870956], [42.391975, -83.003876], [33.620768, -84.458765], [40.16305300000001, -75.058593], [35.779861, -78.611069], [33.887463000000004, -118.104279], [29.72884, -95.460403], [35.855677, -78.581246], [33.803047, -84.407753], [42.487834, -82.917401], [40.73220900000001, -74.123227], [39.767246, -75.047119], [25.811668, -80.138474], [41.800575, -72.65536999999998], [38.705162, -121.786325], [39.845163, -75.537756], [34.978547, -120.570776], [36.18834, -86.775363], [33.948478, -117.386298], [40.523241, -104.992192], [35.770153, -78.72041999999998], [33.818146, -117.876396], [34.143695, -81.232761], [34.07258, -83.92407800000002], [40.045769, -76.290428], [39.858234, -104.98763999999998], [26.12048, -80.34539000000002], [45.28647, -93.00293], [38.982711, -76.93796400000002], [33.805275, -79.010071], [43.18757, -124.3547], [33.86898, -117.73051], [37.42017, -121.9145], [36.570364, -121.761785], [34.011383, -81.148788], [39.997887, -76.322769], [39.923143, -86.118774], [39.27052, -77.21674], [46.87752, -96.960227], [47.586586, -122.231079], [33.458688, -111.889321], [29.581442, -95.441071], [35.573273, -82.616354], [32.900326, -96.717567], [33.78431, -117.88315], [41.318611, -73.748428], [40.434162, -74.251846], [33.563412, -86.73168199999998], [33.5872, -112.11657], [35.294994, -80.72223699999998], [30.476192, -83.88923], [47.844563, -122.25858], [40.746521, -73.765068], [35.78005200000001, -78.672989], [33.924976, -116.501686], [37.32452, -121.88954], [34.252508, -118.430846], [28.574675, -81.416206], [40.068924, -75.297096], [38.60702, -121.43153999999998], [33.441083, -117.323715], [34.05026793, -118.21410298], [40.96307, -74.065567], [39.66552, -86.09674100000002], [35.378532, -119.044507], [28.56148300000001, -81.332313], [35.467861, -97.52726], [45.200404, -93.565773], [30.327841, -97.659393], [34.722919, -82.737887], [42.618488, -71.28939100000002], [39.31750416736928, -104.88382458636816], [43.264771, -75.464203], [35.501943826506135, -80.56217551192971], [26.120869, -80.227226], [30.615725, -87.35269100000002], [32.825989, -117.117421], [41.252831, -72.99994699999998], [32.4434, -93.720134], [38.02343, -122.538713], [41.263014, -96.142071], [39.637802, -84.224815], [40.192177, -74.75148], [34.846199, -82.322037], [30.185033, -97.853031], [40.089106, -75.379994], [40.670139, -73.80085799999998], [32.33735, -110.96690900000002], [34.173481, -118.553467], [30.408747, -98.107277], [39.41052, -74.55485999999998], [34.858585, -81.08126800000002], [45.125008, -93.213585], [40.9148, -73.7829], [34.099701, -80.918312], [34.58835, -82.396505], [37.30329, -120.5007], [41.06043, -75.74468], [29.739745000000006, -95.477136], [34.00816, -117.968758], [32.775295, -96.785889], [37.723952, -122.40208], [40.193391, -77.163955], [34.01305, -117.959152], [43.177452, -83.760277], [47.526108, -122.27919], [39.72558, -105.058952], [32.622662, -85.404938], [36.060943, -95.849023], [33.884663, -118.352402], [27.311295, -80.414215], [40.634326, -111.828065], [29.756874, -95.477364], [36.153221, -86.769562], [36.754852, -119.754631], [41.666462, -83.56703399999998], [40.207852, -74.580354], [42.245506, -87.90125], [36.428799, -79.698376], [38.912238, -76.994935], [33.566963, -84.53273], [37.218722, -77.47246], [40.559017, -111.89843], [39.843849, -84.899467], [26.08386, -80.18164], [38.847302, -77.428947], [38.57015, -121.60153], [33.848492, -117.852844], [28.514740000000003, -81.28965500000002], [37.5408, -77.43386], [38.52695, -118.564453], [40.70809007, -73.84461522], [30.19986500000001, -92.072601], [28.128616, -82.548439], [27.777253, -82.681149], [33.954659, -80.924904], [40.803976, -73.28071], [35.138055, -80.892545], [29.460475, -98.480455], [30.407621, -91.101707], [34.50935, -118.111977], [42.740795, -73.691393], [39.745892, -84.133308], [41.916664, -87.943497], [37.969452, -122.058739], [32.119528, -110.967827], [34.13539, -118.00448], [42.019661, -88.242088], [35.202564, -80.730354], [35.547289, -121.09303], [33.813641, -118.167683], [29.785104989863463, -95.73811411811953], [26.082233, -80.168655], [39.981335, -82.942185], [33.549309, -93.880009], [37.253883, -121.881466], [33.94162, -98.548981], [29.99086, -90.064924], [33.993863, -117.964412], [35.728956, -84.39774399999997], [27.513625, -82.397244], [37.19911, -119.769739], [32.825990000000004, -117.117421], [41.876186, -87.660774], [38.22752, -85.75099200000002], [41.856918, -88.165726], [34.030566, -118.031918], [29.412027, -81.50972], [38.188995, -85.73320799999998], [37.796608, -122.270355], [25.858263, -80.247299], [34.06517, -84.273601], [34.01888, -117.50229], [38.90525, -76.89726999999998], [30.400209000000004, -97.7425], [34.854389000000005, -80.932626], [38.24565052967908, -85.503298043797], [33.741445, -84.417465], [34.03383136, -81.1184442], [33.96498, -80.704889], [30.25958300000001, -97.753494], [38.67136, -121.591324], [37.840108, -122.486677], [40.713299, -73.849121], [35.20928263647456, -119.23280596676236], [32.754272, -97.329926], [35.033569, -85.30439], [33.433117, -112.08902], [34.00949, -81.15304], [38.786596, -90.533122], [35.035934000000005, -80.969269], [46.796089, -122.880703], [44.862875, -93.138144], [34.798641, -82.363876], [39.044884, -76.615746], [33.876568, -118.082314], [34.02537, -118.42875], [30.25853, -82.12008], [33.258652000000005, -87.60582], [34.01644, -118.173267], [35.872301, -78.830372], [38.76267, -108.084422], [38.878132, -121.167572], [35.829681, -78.768486], [38.595041, -90.325593], [35.231312, -80.72976700000002], [29.851286, -95.283752], [29.7776, -95.413969], [38.954754, -77.093448], [44.782223, -93.288376], [40.831829, -73.854917], [35.180446999999994, -81.52154399999998], [40.70573, -73.45272800000002], [35.165116999999995, -80.87697299999998], [34.007393, -118.41441299999998], [29.6481, -95.288712], [48.190932, -114.330551], [34.155021999999995, -118.311035], [34.043541, -118.443851], [42.352795, -71.05574], [34.077679, -117.392113], [43.114742, -77.614929], [36.169769, -86.688232], [41.05919, -73.82774], [39.968746, -83.04630300000002], [35.129311, -89.867203], [33.327101468881004, -87.04458117443541], [33.551190000000005, -112.34169], [27.315133000000003, -80.39119699999998], [38.96403193455236, -76.90497279130504], [33.611090000000004, -112.0996], [33.917707, -118.194002], [35.426361, -80.917427], [30.496708, -84.4484], [45.417976, -122.423958], [43.043549, -83.66523000000002], [43.130085, -77.60120400000002], [43.10062, -87.91808], [34.030361, -117.637215], [33.680035, -117.760494], [36.011879, -86.621063], [42.338245, -71.06478100000002], [39.818154, -75.45143], [32.781006, -96.624222], [29.776039, -95.562469], [28.859909, -82.090009], [32.922765000000005, -96.786301], [39.219296, -76.65840899999998], [28.182379, -82.740486], [35.01672, -85.281174], [33.010389, -117.264839], [42.820087, -89.02358199999998], [26.133654, -80.39281700000002], [29.63369, -95.499199], [35.114326, -80.82457], [40.148787, -75.855337], [34.135087, -117.614723], [36.206554, -86.77624499999996], [30.43412600000001, -97.676773], [28.753742, -81.700102], [40.076323, -74.752866], [35.046993, -80.848152], [25.85589, -80.324928], [26.80836, -80.13128], [42.209137, -70.996223], [33.445042, -82.085991], [34.135384, -117.98629], [45.67218, -122.505951], [34.075201, -80.45095500000002], [38.90566706638858, -77.01490044557086], [37.34065, -121.85056000000002], [38.11784, -122.244827], [39.998558, -83.02840400000002], [39.02767539005743, -77.43197321854862], [37.465378, -122.290848], [35.209496, -80.672073], [37.370819, -121.913193], [32.781433, -97.320427], [41.649185, -93.77388], [39.959702, -76.72625], [40.58794, -111.900467], [41.250697, -76.97256800000002], [37.752392, -122.151466], [44.538891, -120.01059], [41.543759107391615, -90.67824482874546], [33.509221000000004, -112.044474], [33.480095, -117.713872], [39.91975, -75.576912], [25.739651, -80.33579300000002], [33.48337, -117.141514], [33.214379, -87.573803], [44.86187, -93.286133], [28.56371, -81.55878], [25.85777, -80.20799], [42.35878, -83.07650799999998], [32.926831, -96.762216], [34.240245, -117.429572], [37.490683, -122.217289], [32.353779, -90.02435799999998], [33.796032000000004, -117.23098], [26.331472, -81.750259], [32.337589, -111.044554], [28.191095, -82.397499], [42.88663, -71.47824], [30.17679333672439, -82.6871716972223], [33.80345, -79.012164], [34.043549, -118.314472], [39.992048, -76.73452900000002], [34.070466, -117.370217], [33.560319, -117.671058], [25.8878, -80.32394000000002], [33.656264, -117.744542], [34.037407, -117.96308], [32.793449, -79.94324499999998], [34.703987, -118.170235], [30.290379, -97.628532], [39.0158, -77.119316], [27.791273, -82.67132], [42.9727, -85.68762199999998], [30.18420200000001, -92.051567], [30.466375, -91.105499], [39.764168, -84.199821], [32.398159, -93.734573], [36.801315, -119.785477], [38.675876, -121.952115], [34.269870000000004, -118.43222], [25.868275, -80.209884], [37.786705, -122.19603], [41.132329, -85.160425], [41.875544, -87.63737900000002], [30.403099, -97.700363], [37.67701, -113.076629], [35.580101, -97.638481], [35.04266, -85.269623], [40.827602, -73.953249], [34.018879, -118.184952], [26.759415, -80.100235], [47.233688, -122.429619], [39.93036, -74.95631], [34.185799, -118.320023], [29.521351, -98.565941], [33.528106, -86.657266], [37.404133, -122.069756], [34.060547, -118.215164], [40.322923, -111.260549], [42.014515, -71.043968], [29.731556, -95.564611], [41.307082, -122.318299], [38.834088, -76.871024], [33.985935, -118.135895], [35.162521000000005, -80.969818], [42.1858, -72.6071], [26.007852, -80.318945], [41.122223, -73.331772], [33.710011, -117.782486], [40.743771, -74.089149], [40.849667, -73.94277199999998], [25.648602, -80.407173], [42.305588, -87.98733399999998], [44.973418, -93.287353], [37.300869, -121.877533], [39.86034, -84.3678], [37.357367276967246, -76.73640131913788], [45.47379612900985, -112.71398663467066], [30.08448, -91.973701], [32.923683000000004, -96.841934], [38.08306, -122.11433], [28.665962, -80.869843], [25.842442, -80.366447], [35.164841, -90.018936], [38.353889, -111.574158], [41.980728000000006, -88.09758000000002], [36.198078, -86.620171], [36.618921, -80.739597], [36.05032, -95.969017], [40.49225300000001, -111.412625], [30.161751, -81.509833], [33.43688, -112.13464], [41.144386, -73.26463299999998], [34.05918, -118.245822], [41.496887, -95.060173], [47.540623, -122.036125], [40.502583, -74.301254], [37.95548, -122.053382], [28.756157, -81.335596], [39.189941, -121.63073], [34.431088, -119.7981], [41.783768, -112.102279], [45.08971500000001, -93.431275], [35.092194, -80.933662], [37.551175, -77.426899], [34.06405, -117.296292], [32.739105, -96.82338], [42.332901, -71.071915], [38.178429, -85.72075699999998], [26.547377, -81.786346], [38.889, -76.84567], [38.56267, -121.48895], [33.940940999999995, -117.249107], [39.19335, -76.76246], [28.567106, -81.293266], [34.124063, -117.692632], [30.404095, -91.11087], [42.963654, -70.858856], [34.179379, -80.512039], [34.32495, -78.631677], [26.20698, -98.181343], [33.677989000000004, -117.758206], [33.327888, -111.841682], [42.666149, -71.114441], [44.969872, -93.308975], [41.580887, -73.777214], [34.364258, -118.552864], [39.847031, -75.387505], [34.070235, -117.962004], [39.269011, -76.631781], [33.934574, -118.347176], [34.012871000000004, -117.439826], [37.580256, -120.938801], [27.981455, -82.36009200000002], [40.214951, -75.499687], [34.029203, -118.012453], [45.01046, -93.090034], [32.752984999999995, -117.157682], [32.860901, -96.769852], [37.156694, -121.98233799999998], [37.252869, -93.26632], [34.21928, -117.071609], [42.458935, -92.295853], [40.736345, -73.85690799999998], [32.938618, -96.90255], [36.445262, -79.767979], [33.713436, -84.231689], [45.56376, -122.55905], [33.781422, -117.87851], [39.804211, -86.251083], [34.271275, -80.573662], [34.11578, -80.941025], [40.114075, -75.455635], [35.238449, -80.812332], [40.092209, -76.771591], [36.47728, -80.75336300000002], [38.223377, -85.578751], [33.941174, -118.096519], [42.951591, -85.659103], [41.145319, -73.823229], [40.35039, -121.538046], [34.704097999999995, -80.89407299999998], [34.873871, -82.326309], [45.418861, -122.744183], [34.698254, -117.206955], [40.007818, -75.20119], [25.985501, -80.16548399999998], [39.291859, -120.682497], [36.994946, -120.000836], [42.33415, -87.85591], [39.31209683399528, -119.82460856380544], [45.051083, -93.320732], [37.741749, -121.57399], [40.763189, -74.02247], [30.320817, -81.709066], [41.652635335723616, -93.5704815383264], [41.951939, -74.021182], [34.064797, -118.245546], [29.708635, -95.316803], [26.16552, -80.16082], [43.717422, -87.76049], [34.987671, -85.288641], [38.610372, -121.375023], [35.521637, -97.5765], [42.950584, -78.703362], [36.94971442204976, -80.88526368102605], [30.309105, -81.848679], [36.044861, -86.670448], [45.622791, -122.669731], [40.696301, -75.175949], [37.58748, -77.67305], [32.256932, -80.902325], [39.89512, -83.844612], [34.013345, -117.344014], [34.013401, -117.918541], [40.624232, -78.835368], [39.026511, -94.553259], [33.447605, -84.462875], [33.982369, -118.280407], [42.19334, -120.37615], [34.07711, -118.281677], [40.732258, -73.3561], [38.79849, -77.07993], [33.818196, -117.917957], [33.320442, -111.89401200000002], [35.878649, -89.9274], [39.816333, -74.229935], [33.572067, -81.525307], [34.267746, -118.96262], [27.9659, -82.45266], [34.52701449377762, -82.6946389671197], [32.899857, -96.717979], [33.092042, -117.072166], [35.560704, -120.528037], [33.944889, -117.293716], [28.831862, -81.54050600000002], [38.735485, -121.820262], [34.225769, -86.493767], [38.99189000000001, -76.37109], [38.683221, -77.316906], [40.713667, -74.09705], [30.31708, -81.734749], [33.886539, -117.551024], [35.48422199999999, -97.592209], [35.27404, -80.95970200000002], [41.5501534936831, -72.8146684166297], [33.20837, -80.25724], [33.923963, -118.300323], [40.370113, -78.77088499999998], [30.200634, -97.700439], [37.190788, -77.358551], [39.5784, -119.78035], [28.74841, -82.10606], [30.286236, -97.631199], [39.79267, -75.11484], [37.50832, -121.968781], [30.191711, -81.705605], [24.6296632288712, -81.59216523131566], [32.999603, -80.115705], [34.628021000000004, -86.915688], [37.706545, -121.07804], [33.991131, -81.185181], [29.064352000000003, -81.336084], [39.290764, -84.442436], [34.028981, -118.396385], [42.863033, -83.739975], [41.513368, -74.052593], [35.828869, -78.585297], [38.802258, -77.211072], [37.9450714586356, -122.48909354151492], [38.93796500000001, -94.487339], [29.605724, -98.601843], [33.82229, -84.359172], [38.854462, -77.389061], [42.34506, -88.0699], [32.757166999999995, -117.113059], [34.13985, -117.32391], [32.327457, -86.334808], [39.480759, -76.31716899999998], [45.542659, -122.248979], [39.047707, -84.453089], [39.97195, -83.01686], [34.36401, -118.504314], [47.81910300000001, -122.24076200000002], [31.274632215350756, -81.49049878081566], [29.02433, -81.324081], [34.295958, -118.471981], [39.615109, -105.232813], [39.47737100000001, -74.714027], [35.195877, -80.877277], [33.46476, -112.27253], [45.125092, -93.388161], [37.63065, -120.99785], [36.125893, -95.940224], [41.519527, -90.513084], [47.18325, -120.902596], [34.018381, -84.062513], [39.316148, -120.896446], [39.373419, -76.50738299999998], [35.558079, -82.629654], [33.911857, -117.283607], [40.71834000000001, -111.88826], [42.084925, -71.606394], [29.679507, -95.412406], [34.470355, -117.368696], [44.89439, -93.40063], [35.128929, -106.568726], [34.573238, -82.71167], [38.710537, -121.306374], [34.791721, -87.06739], [37.00186400000001, -121.531957], [33.377684, -112.144674], [33.577962, -81.595562], [36.838398, -76.15927099999998], [40.901779, -73.076514], [25.929296, -80.309512], [34.02836, -118.2302], [43.671324, -92.869188], [40.535009, -74.29995], [41.689279, -87.661206], [39.0541, -77.38180799999998], [40.615345, -80.095299], [28.683861, -81.48869300000001], [35.873283, -120.875646], [28.365501, -81.38359799999998], [40.076653, -82.60530899999998], [38.89214873295359, -89.83639597849924], [42.238243, -88.050896], [29.674845, -95.560448], [38.185135, -85.812988], [41.18314147, -83.64971995], [33.910381, -117.883301], [34.879428999999995, -82.33740999999998], [27.915378000000004, -81.05456099999998], [33.994248, -117.90483], [35.223316, -80.62906600000002], [32.91058, -96.883728], [41.83617, -71.415436], [36.342268, -119.296785], [29.784531, -95.563042], [36.13007, -115.08404], [26.63245, -80.06814], [38.13760900000001, -121.615142], [40.967392, -76.876645], [40.989498, -73.677086], [33.494909, -111.926061], [39.181013, -115.012282], [37.674955, -122.115387], [41.542495, -87.742708], [34.990833, -82.020126], [33.968167, -118.167854], [41.408747, -74.077409], [25.628876, -80.343735], [30.402599, -84.237411], [40.74289441, -111.67839646], [41.81667923907367, -78.69342684708265], [28.55319, -81.367511], [29.13146, -80.957817], [37.891155, -122.06089], [32.776840925060384, -117.13546872083124], [29.435871, -98.494118], [33.800492, -117.878355], [43.016193, -85.68073299999998], [32.67862, -96.94606], [28.021973, -82.455711], [29.81315, -95.411629], [29.848969, -95.473297], [30.61675, -86.969157], [33.786388, -80.406227], [33.905984000000004, -118.183158], [40.94721436, -73.85051608], [30.51641, -97.68772], [34.1249, -117.69199], [42.380428, -83.236649], [37.59831, -122.05918], [33.914738, -81.133301], [33.964123, -81.213707], [45.61543, -122.5551], [39.14933, -77.012367], [39.206369, -76.61412], [38.207157, -85.75014499999997], [28.376064000000003, -82.195738], [32.925041, -96.78952], [35.203419, -80.755531], [28.405058, -80.656583], [38.551586, -121.432304], [30.363491, -97.697934], [33.665257000000004, -117.751427], [47.227348, -122.367622], [32.699721999999994, -117.094699], [41.78299000000001, -71.423927], [40.733281, -74.124723], [35.200332, -79.365234], [34.020235, -118.18396], [39.953622, -75.14154], [45.666142, -93.628846], [34.042996, -118.221141], [43.169471, -77.59310699999997], [47.50458, -121.88454], [34.003772999999995, -118.280919], [35.307662, -86.36159], [44.95142, -93.015137], [40.765331, -111.951889], [40.74339000000001, -73.83433000000002], [30.437836, -91.15976], [29.782608000000003, -95.984093], [37.78542, -122.17943], [29.84276, -95.186058], [45.341969, -122.635262], [35.784931, -78.68802600000002], [39.75352700000001, -86.155022], [36.117809, -86.787216], [26.183485, -80.171021], [34.166946, -118.299896], [40.337868, -74.100838], [32.780716, -117.082573], [26.680953, -80.165183], [32.361885, -86.198318], [38.839512, -77.086415], [32.976019, -117.08792], [25.969559, -80.165384], [33.403812, -111.53022], [35.112984000000004, -80.88299599999998], [34.075257, -117.396465], [39.400177, -77.436892], [39.120537, -119.771263], [37.756718, -121.735602], [38.60008, -121.440042], [34.706242, -82.453743], [41.29245, -73.854858], [29.726859, -95.53904], [26.154362, -81.618173], [35.210193, -80.757918], [38.243652, -122.08345], [33.200393, -117.12731399999998], [36.841923, -76.16503900000002], [40.596298, -75.568901], [33.754838, -84.466312], [45.75761, -93.63581], [39.17736, -84.4873], [33.816292, -81.452164], [37.407719, -121.910324], [41.289515, -117.692012], [29.723201, -95.499142], [33.947767, -118.295914], [34.505732, -118.631209], [45.144722, -93.498595], [35.19665, -77.05495], [35.171828999999995, -89.868271], [41.62432, -87.69068], [41.85656905154296, -72.66332745517414], [42.430077, -71.017593], [38.891848, -76.95604200000002], [34.128638, -117.263321], [33.89185, -84.25936899999998], [35.055561, -82.04875200000002], [33.106726, -117.312869], [44.862156, -93.237587], [35.784683, -78.642772], [40.70284, -73.93353], [40.245548, -82.864708], [35.012806, -81.958054], [34.246533, -79.767845], [35.01285, -85.27231], [36.402439, -87.025665], [33.990986, -117.931801], [40.84177136, -111.91520333], [32.457932, -93.724716], [36.779507, -119.736389], [32.359718, -95.308053], [47.55987, -122.32198], [41.59122, -93.67848], [35.86855, -78.82544], [36.072163, -86.636253], [32.893719, -96.711884], [39.266636, -76.562218], [41.37661, -72.87093], [42.435532, -87.854858], [46.69646, -92.369455], [39.0213, -76.935976], [32.773396000000005, -96.796884], [35.198694, -80.789517], [30.688271000000004, -88.12635], [34.703602000000004, -86.51879100000002], [30.167116, -97.785866], [34.989678999999995, -120.433616], [38.443012, -121.862152], [25.591669, -80.37732700000002], [37.558063, -77.450857], [39.986288, -76.349321], [34.743612, -92.399507], [45.531508, -122.572189], [35.27433, -80.84472], [43.567744, -124.201685], [40.794876, -73.510951], [36.845131, -76.25263199999998], [32.871521, -96.683113], [37.01003193837637, -104.48044180820236], [34.985619, -81.07103000000002], [33.71396183951514, -117.9648721212484], [38.97064089756503, -78.42960476837906], [44.218173, -94.301106], [30.262290000000004, -97.78924], [40.845142, -73.92654399999998], [47.618587, -122.353363], [48.222583, -101.229019], [35.308994, -80.718643], [28.41442, -81.341454], [45.57793, -122.67869], [38.877758, -77.270253], [38.865833, -77.220365], [34.741661, -82.191406], [38.0185639856433, -84.5519506927273], [45.59502, -122.684166], [41.139891, -112.026941], [43.290241, -71.837303], [34.831982, -82.84015699999998], [35.63620448, -77.06425309], [34.063936, -117.267025], [33.70348, -84.170181], [32.917321, -117.11756], [32.719154, -117.102951], [38.299835, -122.03408799999998], [40.17233, -75.07342], [39.254911, -76.617334], [30.18523, -85.774986], [41.424423, -81.535896], [34.457241, -118.64093], [30.25153, -81.471616], [27.441839, -82.459595], [44.86177, -93.3138], [41.79399, -93.886463], [39.14709000000001, -76.64478000000003], [33.93652, -117.290359], [30.248526, -97.736732], [33.45636, -81.94532], [34.154540999999995, -118.387802], [32.058849, -81.081558], [29.774513, -95.313599], [38.026752, -121.937126], [42.95513, -88.10506], [43.160936, -77.53904], [37.825583, -76.376699], [44.948771, -92.882708], [37.765516, -121.347595], [38.002857, -122.04631], [42.465252, -87.946526], [37.120795, -93.19982], [41.222462, -111.948181], [41.215212, -92.964632], [33.597919, -117.676453], [41.766052, -91.64373], [34.061183, -83.953012], [34.03379, -118.38618], [34.113327000000005, -117.823948], [44.48101, -124.08034], [27.093423, -82.413437], [29.78476, -95.66375], [34.795747, -82.642252], [41.5923, -93.777473], [34.034649, -118.267052], [42.763805, -73.76222299999998], [38.655014, -120.925041], [36.900142, -76.23531], [39.8831, -75.10361999999998], [33.858287, -118.03243799999998], [37.68919, -122.13565], [41.260598, -112.024379], [32.772465000000004, -96.623589], [35.876015, -78.540604], [33.869251, -86.77358199999998], [30.31658, -81.771408], [40.025349, -75.228882], [37.981141805467686, -78.22266697846305], [35.227409, -80.847359], [40.338436, -111.751244], [27.020609000000004, -82.048416], [35.26314139349335, -81.08726620635467], [34.139889000000004, -80.914017], [38.919964, -76.93248], [40.25182, -76.87281], [40.641721486851495, -74.20641303027055], [35.49041, -97.476707], [47.09696, -122.44796], [32.79071, -80.03546899999998], [38.844783, -77.47846700000002], [40.326268, -111.737644], [42.36404, -87.97821], [32.914891, -96.866675], [39.396640062144286, -77.43753075562745], [38.923514, -94.760886], [42.23777000000001, -85.67027], [34.718784, -118.095024], [30.403622, -81.564785], [36.971297, -121.771901], [42.02589, -88.25587], [42.4869, -71.54454799999998], [33.768097, -84.532885], [34.536448, -82.581921], [34.068325, -117.379494], [35.904369, -78.472588], [38.651878, -120.9375], [40.927513, -73.812302], [27.300588, -82.530535], [35.736477, -120.685417], [33.776539, -118.192398], [40.152288, -121.590338], [37.66637, -122.107491], [37.834648, -122.29493], [40.861693, -111.89664], [39.973362, -76.694191], [42.139061, -83.24163100000001], [27.484118, -82.412918], [39.629452, -84.22592900000002], [37.33442700000001, -121.936485], [44.954113, -93.085915], [39.008781, -122.613861], [37.207807, -121.72071499999998], [44.413776, -122.046944], [40.890594, -73.094383], [35.493897, -120.678261], [43.36716, -123.33017], [32.572262, -117.039803], [32.733090000000004, -97.39494], [41.1842, -80.52062], [43.6387, -95.17032], [42.841399, -78.792989], [40.74791551, -74.17178035], [32.836822999999995, -117.005501], [37.425941, -77.555351], [34.488594, -118.162903], [30.309031, -81.647087], [27.951422, -82.505543], [28.452939, -81.400159], [36.74243, -119.81253], [35.905577, -87.621636], [29.043689, -81.067463], [35.377262, -97.574974], [34.75349, -82.704803], [28.597568, -81.296208], [40.233612, -75.61704300000002], [39.858112, -75.358024], [40.553841, -74.317871], [35.25174736959815, -111.8988096708684], [42.19729, -87.98959], [40.04084, -76.245987], [43.02905300000001, -77.96462199999998], [27.91668, -82.7834], [33.858707, -118.03346299999998], [28.706076, -81.517271], [33.805893, -118.14267], [42.24247, -122.77881], [33.218307, -111.85849], [44.834102, -122.830268], [38.154366, -121.674717], [36.23825, -86.78052], [44.924118, -93.274536], [33.383743, -117.57901], [39.616936, -77.785423], [28.482098, -81.396662], [39.054043, -94.47905], [39.819824, -104.959221], [25.714099, -80.410811], [34.122093, -118.271828], [39.848622, -77.179443], [39.98201, -75.594559], [44.120855, -121.316488], [38.496098, -121.451279], [32.090159, -84.192601], [34.878271000000005, -82.360279], [38.955681, -84.281151], [38.387047, -122.405212], [33.046749, -86.738792], [32.261032, -110.982376], [32.503547999999995, -93.788757], [35.888337, -119.272884], [41.593273, -93.728935], [38.648003, -121.325073], [39.739319, -75.548592], [33.7941, -117.23014], [40.29715, -111.725845], [40.845249, -73.914116], [40.180639, -75.13340500000002], [34.068647, -117.342877], [33.860831, -118.200312], [28.526067, -81.416501], [40.671957, -73.998597], [46.611178, -112.061772], [44.861919, -93.516242], [34.55037, -79.201771], [37.334429025472005, -122.06912398280107], [39.052689, -77.05103299999998], [29.444656, -98.47718], [34.982341, -81.96995799999998], [33.762241, -117.8311], [44.967079, -93.221375], [37.522169, -79.687151], [30.091888, -95.435593], [37.742287, -121.572516], [27.756577000000004, -82.656448], [35.810277, -78.57729499999998], [34.421439, -119.610666], [32.739154, -96.861235], [38.343956, -120.864693], [34.070206, -117.864616], [43.405688, -89.46667], [33.385855, -111.909649], [37.690319, -122.13797], [27.852465, -82.664063], [44.350039, -121.17876], [34.27062, -109.645775], [35.376148, -80.847488], [32.925655, -96.803574], [34.031358000000004, -118.43349], [41.233476, -87.295649], [38.618519, -90.287956], [38.90842, -94.77624], [34.143242, -118.170891], [38.920295, -75.960352], [37.407948, -122.004265], [35.89015399999999, -83.726322], [45.100986, -93.300179], [29.55831, -98.661679], [39.775631, -84.185757], [33.946175, -118.020271], [34.051478, -112.847198], [34.024493, -117.11147], [38.58861, -121.29111], [33.7765753267585, -117.83713459912376], [28.248006, -82.685612], [42.7497, -73.771753], [36.306782, -95.610939], [33.038138000000004, -80.032488], [41.21768832187072, -96.09102845146136], [30.564534, -81.830892], [41.113311, -73.858797], [29.847038, -95.418015], [35.736088, -78.72538], [47.597953, -122.329089], [33.523853, -112.082413], [37.791739, -121.577288], [41.665230989257495, -87.74727702098964], [33.721939, -117.79873700000002], [33.741825, -84.391525], [32.999957, -117.257152], [39.87898, -86.43972600000002], [39.896934, -76.501804], [36.80401682836149, -76.19766354524519], [42.935299, -85.342522], [39.87650900000001, -75.257704], [38.52901, -121.33499], [34.064772999999995, -117.31361], [32.89311, -96.89794], [25.926033, -80.151522], [40.693241, -122.108863], [34.052152, -117.717723], [42.558195, -84.83586], [34.510684999999995, -118.111385], [29.74221, -95.644333], [27.079457, -82.330687], [39.30486, -110.964217], [38.813385, -77.219391], [33.572701, -81.83551800000002], [25.714093, -80.428666], [33.671665000000004, -117.888565], [40.159923, -75.395061], [33.423565, -82.05905200000002], [42.307087, -71.079697], [30.406418, -87.274406], [34.063897999999995, -118.247713], [40.784879, -73.93016999999998], [34.84294000000001, -82.28235], [25.9261, -80.260681], [37.686692, -122.119033], [39.16303, -104.853876], [40.795008, -72.91641800000002], [30.315102000000003, -81.769623], [45.010548, -93.08979], [33.683888, -112.408033], [35.103941, -106.596908], [37.74142, -121.578006], [28.757066, -81.373358], [36.989097, -121.935758], [35.973904, -78.552666], [32.693714, -96.582474], [38.882233, -77.025726], [34.575939, -77.901955], [28.449909, -81.48013900000002], [42.627211, -73.77891899999999], [33.94408, -118.30027], [42.36339926699465, -79.52484726867903], [47.039308, -122.765156], [45.534382, -122.666458], [38.664051, -121.262161], [34.150219, -118.07341], [38.568304, -77.33551999999997], [38.250262, -122.270523], [33.924443, -118.022186], [33.925228000000004, -118.328773], [33.941174, -118.096519], [42.018044, -83.346909], [40.667076, -73.995758], [31.525459, -86.18319699999998], [40.227154, -76.73748], [41.771027, -72.679565], [43.03556085, -87.94056773], [34.030743, -81.104996], [26.14318013178757, -80.43265700301917], [34.020092, -117.815084], [34.962697, -90.008107], [38.190078, -85.752844], [39.532101, -76.346581], [32.862328000000005, -117.188004], [26.149984, -80.168475], [39.935879, -75.053177], [37.174446, -77.636131], [43.65962, -93.190896], [32.984158, -117.192413], [29.68572600000001, -95.307533], [32.18142, -110.95158], [34.028748, -118.203157], [39.692112, -86.23869300000001], [32.83706, -97.07071], [32.496621000000005, -93.759508], [41.318268, -72.90358], [35.101905, -85.054511], [27.446361, -82.497359], [33.830863, -117.834302], [38.29374, -85.55922], [38.569641, -122.677928], [35.642166, -119.218781], [33.190038, -117.121343], [38.674852, -77.37225500000002], [37.279690503896326, -79.93758559188872], [34.232949, -117.420542], [38.933304, -78.477884], [42.345501, -121.828895], [39.241046, -76.69500500000002], [38.593727, -121.504093], [38.38908, -122.71628], [41.122192, -73.331757], [34.158714, -80.910332], [34.628864, -86.951134], [25.946528, -80.213394], [27.881290000000003, -82.659203], [39.653664, -84.196823], [30.280298, -97.666824], [32.250561, -110.91406299999998], [34.039505, -117.550056], [32.934814, -80.047348], [35.66285, -78.835902], [32.124133, -110.872641], [38.39926, -120.633172], [43.102261, -87.945442], [25.871682, -80.323297], [32.751596, -117.155884], [29.841889, -95.383725], [38.406116, -78.902878], [39.881157, -83.068607], [38.705471, -121.23731200000002], [29.72023, -95.412727], [35.26716300000001, -119.252727], [40.546113, -76.988501], [40.930387, -76.719723], [45.736059, -94.976636], [38.797943, -77.583275], [38.678718, -77.233479], [27.04973, -82.39759000000002], [38.629826, -90.335022], [36.097111, -86.847122], [34.030094, -117.630569], [38.809341, -77.49180799999998], [41.075316, -111.910941], [40.06667, -74.96609000000002], [39.87448300000001, -104.89791], [39.54361, -76.087921], [37.8218, -122.25898], [36.03191, -86.58013199999998], [42.365139, -83.065689], [35.794537, -78.582642], [36.08268, -86.710487], [38.582618, -121.404713], [34.03991, -118.27367], [35.559782, -82.63781], [32.857049703441355, -117.18510031644256], [33.049648, -80.081978], [33.944988, -118.300293], [33.837002000000005, -84.368073], [35.258274, -80.736237], [32.599311, -97.319351], [40.544673, -74.331451], [37.865307, -120.219994], [40.399135, -77.069631], [32.880775, -96.770262], [25.898762, -80.325981], [37.470226, -122.157725], [34.0662, -117.210457], [33.668342828590056, -112.11323618835397], [42.368423, -83.058128], [33.853790000000004, -79.01035300000002], [41.31287, -75.75431999999998], [30.193155, -97.858582], [39.28725, -77.53045999999998], [35.807693, -78.72305300000002], [39.898151, -74.931111], [37.199478000000006, -77.427826], [32.76546836, -117.10971951], [39.820541, -75.598915], [30.297697, -81.770889], [32.314714, -86.336625], [30.25316, -81.85135], [36.619736, -119.785824], [36.14412700000001, -86.697975], [39.241032, -76.587509], [39.71193909626145, -121.7980921262655], [33.938472999999995, -118.300302], [40.255863, -76.861063], [38.026762, -121.920718], [28.434577, -81.40460999999998], [38.101334, -121.247536], [30.477851, -84.26108599999998], [32.817524, -96.639076], [37.764022, -122.216843], [41.486458, -88.197662], [36.040852, -86.773483], [25.795285, -80.205539], [28.138235, -82.411713], [33.143919, -117.191128], [39.83733, -84.53987099999998], [35.26054699999999, -80.795212], [37.890087, -121.5411], [29.748737, -95.371437], [41.804825, -88.188812], [33.911835, -84.357513], [32.249561, -80.85638399999998], [34.02375, -117.55049], [34.139775, -80.91598], [36.888697, -76.22912099999998], [33.812248, -118.287483], [38.944561, -122.815216], [38.608021, -121.507774], [35.781986, -78.573486], [32.17927, -111.003347], [26.39962077, -80.09017109999998], [36.12944, -86.714699], [29.738411, -95.424782], [37.633273, -122.405764], [38.838, -104.84702], [39.958533, -75.580033], [38.934736, -77.3655], [36.537419, -119.282369], [29.944981, -95.415047], [30.391563, -87.055122], [34.065071, -117.307022], [28.35788, -81.50581899999997], [37.58451, -77.44723], [37.607316, -113.15758], [40.694498, -73.575949], [33.19883, -87.543114], [34.041412, -118.064323], [35.266586, -80.881927], [33.7742, -118.049782], [47.131224, -93.278595], [39.86117720584935, -75.3521668907387], [34.227535, -118.41056100000002], [29.757753000000005, -95.374611], [32.973759, -80.243087], [35.351805, -85.189309], [30.127781, -93.700515], [40.815524, -76.873192], [26.933931, -80.149033], [44.891961, -93.433427], [30.40436, -91.103699], [44.299664, -122.026013], [33.92788, -118.27169], [38.748429, -90.439527], [37.405361, -120.747696], [40.734404, -73.92262099999998], [47.26202, -122.297958], [39.02868, -84.53452], [41.420448, -81.828468], [33.376618, -117.251433], [33.996368, -117.870354], [33.458658, -112.037032], [31.859091, -106.414162], [33.776756, -84.605835], [37.334484, -122.067558], [35.083978, -80.830004], [34.067265, -81.14218100000002], [35.435024, -97.508812], [33.177704, -117.22274], [35.19481, -80.76629], [33.405570000000004, -84.8346], [43.89381, -122.73668], [30.48448, -84.157074], [35.406633, -119.145499], [40.86743, -74.00525999999998], [41.922783, -87.953445], [45.335964, -122.769264], [41.310944, -79.125291], [38.519482, -121.465179], [30.428974, -87.270643], [29.55216, -98.354202], [45.70378, -121.50297], [42.190879, -87.929363], [38.854649, -77.388481], [41.847694, -87.91923], [37.463848, -120.940002], [34.27783, -118.50794], [39.722286, -84.21204399999998], [34.055975, -118.452176], [36.758526, -76.344713], [36.778656, -76.438118], [26.98111, -82.097504], [38.076, -122.231621], [25.80949, -80.321449], [30.214207, -92.014923], [40.427437, -79.89102199999998], [34.30832, -81.56933599999998], [34.294533, -119.147914], [36.316193, -119.395884], [37.777008, -121.182487], [34.065155, -118.000259], [26.545971999999995, -81.839205], [27.755645, -82.640454], [35.041934000000005, -81.815641], [37.23905, -75.971013], [32.757603, -97.063492], [29.867815000000004, -97.940323], [33.887463000000004, -118.104279], [47.912998, -122.098518], [28.450129, -81.474159], [39.982109, -75.101326], [35.89100300000001, -87.649826], [35.998924, -86.79630300000002], [45.749775, -118.047115], [33.924728, -118.210007], [30.439068, -91.187752], [32.884445, -96.897911], [30.455303000000004, -97.679169], [25.699088, -80.438622], [41.774273, -71.26175699999997], [33.615425, -81.102859], [40.359761, -78.41730799999998], [28.147365, -81.44569200000002], [36.842397, -76.165897], [37.32328, -121.94056], [40.89675, -74.21876], [39.993996, -82.9851], [32.900307, -96.71769], [28.52421, -81.33111], [25.606294, -80.356771], [28.6875, -81.467949], [28.005054, -82.328278], [45.068829, -93.263231], [29.77898, -95.95802], [30.4525, -91.076952], [41.185158, -96.108849], [41.318256, -72.901764], [35.504089, -97.494385], [42.85267710665296, -76.12028717958394], [35.229328, -80.83764599999998], [42.753029, -73.76899], [35.071873, -81.759956], [30.097301, -90.917137], [36.020394, -80.410062], [28.18389, -81.73891400000002], [40.769725, -123.128117], [41.583973, -88.16843399999998], [41.680267, -86.893887], [35.879661, -78.630424], [32.776291, -96.785645], [29.938688, -95.356934], [25.940932, -80.30678], [37.86397, -122.30276], [38.820542, -77.46464499999998], [34.147944, -118.08151], [44.94856, -92.925576], [38.367458, -78.580388], [27.851892, -82.664589], [29.113641, -82.095698], [27.159818, -80.30344699999998], [37.769955, -120.904744], [38.87922800000001, -77.033473], [47.624466, -122.342354], [33.545731, -112.16011], [42.22039, -87.966888], [35.746922, -78.613602], [36.238174, -86.75614200000004], [40.7813, -74.243477], [32.92581, -96.82655], [40.538506, -74.754341], [45.35097241380047, -118.17037224713243], [32.767582, -96.913429], [30.442604, -97.833552], [28.435979, -81.40539799999998], [35.39161, -97.49165], [44.04587, -122.99548], [42.243118, -71.02806899999999], [37.785542, -122.39138], [30.508434, -91.172417], [35.59193730337336, -120.69527506770756], [32.916962, -96.743477], [28.610447, -81.42830500000002], [26.546138, -81.854864], [32.40297, -111.13399], [41.16633, -73.20849], [33.958836, -117.30957], [27.921427, -82.401896], [35.431255, -97.521362], [39.06234, -94.498779], [40.478988, -104.660686], [38.55195, -90.43022], [34.798783, -92.378203], [40.266609, -82.92848199999997], [42.579449, -71.448296], [39.163335, -122.916009], [40.664818, -74.205326], [27.321593, -82.448015], [36.075947, -96.006554], [28.558773, -81.380882], [33.841007, -112.144066], [39.08822894077736, -77.00509428941248], [36.92553, -76.31740699999997], [34.071690000000004, -118.132568], [37.639125, -77.582201], [30.289671, -97.827927], [34.15251374, -118.14608216], [30.416647, -91.143201], [33.80011439307308, -117.89929747525262], [42.34077, -88.0534], [44.895607, -123.175651], [25.926068, -80.15206500000002], [27.85578, -82.34688], [30.179344, -97.760053], [25.884119, -80.340652], [38.63969, -121.48508], [37.830669, -122.293343], [32.881165, -96.898163], [34.020638, -118.19227], [44.889755, -93.351189], [45.476639, -122.566711], [32.07073, -81.16027], [31.84133, -106.439339], [39.759232, -104.77272], [33.754089, -84.37844100000002], [35.594719, -97.567177], [47.735879, -122.325954], [42.474743, -83.17540699999998], [25.714117, -80.427899], [28.41483951, -81.22785687], [39.791615, -76.979614], [44.85788, -93.39404], [32.34470486625507, -88.76679539638155], [39.949167, -74.11385899999998], [33.58121, -117.671586], [28.187761, -82.740051], [35.883018, -78.57003], [33.855349, -117.976258], [40.730488, -122.07643], [38.829205, -122.192894], [36.9179570673136, -81.25218987426159], [44.73698, -123.010269], [38.66309, -75.900749], [37.528306, -121.945698], [40.110725, -75.283012], [40.137345, -75.061557], [44.782192, -93.469528], [35.49015, -97.534279], [33.889221, -118.278526], [44.773313, -93.299197], [42.23487, -86.36345], [26.009957, -80.20949300000002], [35.20119309408569, -78.67154002152121], [40.818301, -73.288946], [46.06710076310125, -107.6980841154685], [35.071667, -81.760178], [39.01122700000001, -77.064322], [41.846518, -73.579353], [29.6571, -95.49214], [46.112934, -93.656318], [42.959774, -83.682625], [33.91173, -118.18015], [35.220772, -80.845428], [42.4981, -83.536034], [30.252023, -81.76301099999998], [40.810894, -111.923111], [40.062278000000006, -82.905305], [26.392778000000003, -80.095238], [37.363568, -121.843218], [31.600754, -90.451273], [26.540215000000003, -81.917671], [38.514562, -77.849347], [40.713721, -73.953686], [37.883582, -122.192085], [32.767001, -117.147925], [26.100401, -80.16851], [29.493299, -98.434692], [33.912981, -118.127242], [32.464951, -93.728729], [39.04720187168576, -76.6216886039895], [30.183298, -82.609482], [38.496166, -121.376878], [43.16746, -76.50666], [33.860809, -117.537455], [30.368971, -91.122917], [29.743498563624648, -90.81053137735935], [33.347590000000004, -86.63623], [28.35561, -80.734251], [39.791672, -76.971413], [35.670772790738724, -80.85844159087725], [34.257248, -87.865873], [37.91819, -122.336777], [39.099933, -120.925572], [37.830704, -122.293594], [27.799355, -82.650805], [38.338661, -122.259918], [40.443827, -79.76616700000002], [42.48711, -87.94321], [40.666397, -73.801773], [40.786855, -73.824147], [30.42817800000001, -91.063842], [30.428326, -97.67569], [37.76359, -121.41837], [43.154362, -77.641148], [33.386046, -111.806305], [41.100123, -105.213174], [30.351054, -97.490239], [33.855062, -117.976248], [28.210839, -82.715313], [36.053044, -77.76914000000002], [40.175302, -120.997727], [40.504646, -74.448784], [43.102036, -76.181572], [39.021568, -121.546753], [25.979529, -80.166149], [37.382095, -120.632319], [37.081635, -77.358345], [38.585584, -77.30763], [41.293532, -81.52190300000002], [34.610146, -81.01921800000002], [44.777222, -123.04148899999998], [30.322059000000007, -97.739346], [38.019115, -121.941483], [38.564053, -121.38269], [32.686977, -96.822914], [33.335136, -111.841751], [38.06131, -77.518547], [40.781704, -73.825005], [33.963509, -118.369781], [39.658244, -104.843353], [36.14416, -115.13703], [38.852422, -77.332359], [34.889229, -82.371872], [39.09713, -94.572227], [30.17091, -97.690987], [34.18942, -118.474105], [30.377585, -97.884786], [34.037895, -80.11541700000002], [43.176193, -83.896866], [45.55879, -122.67847], [34.216944, -119.033889], [30.320769, -81.690985], [41.539639234344776, -73.01364541018954], [28.332741, -82.274338], [25.78834, -80.20831], [27.98144000000001, -82.401588], [28.494015, -81.45790500000003], [34.301762, -80.741272], [28.89926, -96.804497], [30.460144, -81.64907099999998], [34.16924, -118.46793999999998], [32.26643, -81.05294], [33.576972999999995, -84.341975], [37.691392, -122.098955], [40.034927, -75.583525], [44.88969, -93.34977], [40.52610754947411, -79.05867934189291], [34.60175156576823, -82.64970660170245], [35.30505, -80.858368], [37.768238, -122.405838], [33.92868, -118.280632], [34.03031, -117.698141], [32.206993, -110.900902], [37.439822, -77.581337], [36.060844, -95.904243], [40.5705034730884, -77.24421858750702], [34.164501, -118.623293], [28.332725, -81.522624], [36.24535, -82.495209], [44.02877, -123.075104], [40.661122, -112.28896], [47.54641, -122.316116], [42.664047, -71.194122], [34.006718, -81.247914], [34.313728000000005, -80.864646], [32.747306, -96.799432], [33.470863, -81.97627299999998], [40.748815, -74.176736], [25.963836, -80.164736], [36.044839, -86.662918], [34.087252, -117.646674], [47.51685, -122.265411], [29.674633, -95.560425], [40.244862, -75.239632], [34.156307, -118.264366], [36.736149, -119.693015], [40.209943, -75.41253], [32.661590999999994, -96.753403], [33.76643, -117.805836], [32.642101000000004, -96.823135], [35.794585, -78.38065999999998], [41.04006, -81.66647900000002], [34.055571, -118.1981], [39.789788, -121.890955], [38.486489, -76.77539300000002], [40.79087, -72.929728], [39.39598, -76.68738], [37.18989000000001, -77.488249], [39.87475991, -75.09662747], [40.70185, -112.09182], [39.643311, -75.762238], [28.936425, -82.520791], [30.2968, -81.77094], [37.897516, -122.071266], [40.257915, -75.645954], [42.435115, -122.842673], [39.998125, -75.59312], [28.004504442081423, -80.63459515533144], [38.112789, -121.39301299999998], [37.74566, -121.361832], [28.27219, -81.42328499999998], [38.19207, -85.713921], [36.19928, -86.754532], [41.08601, -114.697265], [41.797735, -122.583043], [35.94289000000001, -78.55954], [40.700279474064345, -73.50333094561812], [32.868194, -117.229691], [45.552142, -122.678586], [39.902512, -75.114372], [29.28957, -95.729057], [35.05331, -80.98979200000002], [33.059582, -80.232277], [39.026157, -77.02029399999998], [25.89072, -80.209], [35.184341, -80.886208], [38.841, -121.718681], [39.20422, -121.278908], [39.825927, -84.189219], [25.941519, -80.189461], [41.285076, -96.023895], [34.22136, -118.47331], [41.71329617480415, -87.8011786933527], [33.97628, -78.74276], [34.78667, -86.95916], [33.460159000000004, -82.034592], [43.44273, -88.522248], [34.063824, -80.905426], [37.422188, -121.93042], [30.322424, -97.707451], [26.09292, -80.22378499999998], [42.387115, -83.437057], [37.016285, -76.326996], [37.813274, -121.034327], [32.753816, -117.20001299999998], [29.747885, -95.467148], [33.519034999999995, -117.160454], [33.779753, -118.089994], [35.891877, -78.557994], [26.273741, -81.74189], [26.66641, -80.088104], [33.486771000000005, -112.125679], [39.035819, -77.397448], [40.80275, -73.931526], [40.068345, -75.147968], [44.424227, -93.292379], [43.94909977891945, -93.26470971063009], [37.926431, -122.06079], [34.392403, -118.472481], [45.311279, -92.748253], [32.695518, -96.891501], [32.91526, -97.00795], [35.209152, -80.873711], [43.048214, -87.92617800000002], [33.68309, -112.003729], [29.732409000000004, -95.535843], [42.379372, -83.757065], [39.217217, -75.573643], [41.95911, -71.069122], [34.137179, -118.471512], [39.3942, -121.688012], [36.810304, -76.280261], [30.247662, -92.160991], [34.027167, -118.459094], [33.87643, -117.66047], [32.746672, -96.737787], [34.371528000000005, -117.54481], [30.27849, -97.73], [33.284619, -86.810388], [33.858148, -118.032095], [38.92947, -92.390495], [35.205283, -114.062071], [40.194669, -75.466219], [27.462592, -82.61245600000002], [35.168011, -80.83686800000002], [33.384624, -86.806648], [33.687263, -117.870354], [35.073719, -85.33385200000002], [43.0024302, -85.67601085], [29.712124, -95.394073], [37.809204, -122.19566299999998], [29.848511, -95.563683], [37.523842, -77.32852199999998], [43.017629, -85.755599], [40.73223, -73.92532], [37.259254, -77.399086], [38.581848, -90.447838], [30.47737240776788, -81.64471507033517], [33.426186, -82.052773], [44.74343, -93.27754], [28.546842, -81.20383299999997], [40.293228000000006, -74.29849200000002], [29.703584000000006, -95.591178], [26.031701, -80.248779], [33.72221, -117.974762], [29.70432700000001, -95.512993], [39.562885, -104.88705], [30.69208, -88.02729000000002], [30.37926793083964, -91.06763720468966], [30.29932800000001, -81.76728100000003], [40.555404, -75.435727], [30.263432, -97.758774], [30.390277, -97.722121], [33.923616, -118.025468], [41.903149, -71.35414899999998], [39.27234, -76.6299], [32.911101, -117.227994], [33.758774, -84.476118], [32.711609, -116.997421], [33.9741, -117.37385], [39.961105, -75.1822], [25.762153, -80.263191], [38.95127100000001, -77.196663], [25.826303, -80.321793], [33.757339, -78.966812], [39.130249, -84.507851], [30.222663, -97.633595], [35.25016, -80.77883100000003], [28.419905, -80.756273], [38.693634, -90.030731], [37.384495, -121.863121], [34.159229, -118.158836], [34.136683000000005, -117.558642], [42.896517, -71.360738], [37.377499, -77.408592], [42.809986, -73.335213], [34.421906, -79.4096], [42.29678, -121.44783], [41.8536, -124.120406], [37.317547, -121.829702], [35.838448, -78.67421], [40.021091, -75.624146], [45.587376, -93.352352], [42.925163, -83.627224], [33.873173, -118.266052], [39.292337, -75.59714699999998], [34.147118, -118.371109], [37.019885, -78.700262], [47.158169, -122.35716200000002], [38.94425800000001, -91.928795], [43.14491, -87.9153], [34.074908, -118.27331399999998], [33.82039189322557, -84.35956120450801], [33.198029, -87.534622], [28.451693, -81.09729], [44.966423, -93.22547], [41.12861752490459, -78.53629231415492], [34.044483, -81.11749300000002], [38.683891, -121.457001], [40.6744229791609, -73.80208611453149], [33.923738, -84.185475], [42.120708, -71.32549300000002], [33.064962, -97.014914], [38.89210300000001, -77.034401], [40.585049, -84.16469599999998], [40.757992, -73.854286], [40.724686, -111.944572], [40.29409, -76.82417], [40.631151, -111.84221399999998], [40.06687, -75.31021700000002], [33.786255, -84.38780899999998], [37.699192, -121.929787], [44.965009, -93.287549], [42.887035, -83.620804], [28.540098, -81.285873], [36.287075, -121.84336], [33.950197, -117.551977], [43.16333, -77.596451], [33.989163, -118.284854], [38.556784, -77.620643], [41.47081, -81.659889], [30.008876, -90.012856], [34.806011, -82.282791], [37.734974, -122.406733], [34.257263, -118.472122], [30.403795, -86.966002], [39.80824112873169, -86.28010868985042], [39.221499, -77.27981], [42.318899, -76.525479], [48.070436, -122.817304], [33.165318, -87.545067], [39.77713, -84.21882], [32.321275, -110.707805], [42.003784, -93.570892], [27.84613, -82.38154], [41.510247, -72.792613], [28.339649, -81.394459], [37.492859, -121.948601], [36.140116452998456, -86.72329544979702], [42.058216, -88.034531], [33.357293, -80.52815799999998], [36.896839, -79.976698], [45.270031, -93.54248], [34.144615, -117.269848], [41.356678, -75.720589], [35.036875, -82.266127], [40.08226, -74.966848], [35.035488, -82.06617], [35.4114, -78.863098], [35.522167, -97.574562], [37.443535, -122.117249], [29.957039, -95.360016], [25.737734, -80.384598], [37.214563, -77.458907], [34.036590999999994, -118.317703], [30.71324000000001, -81.670815], [25.686014, -80.399381], [34.440215, -117.642202], [36.769094, -119.783019], [33.95657, -117.30677], [37.926529, -122.321457], [33.99902, -117.37092], [47.526112, -122.276955], [39.79034, -86.166145], [45.784999, -119.322401], [37.272931337178825, -93.11658739999235], [39.786331, -105.077538], [26.07101798, -80.16660333], [33.877165000000005, -117.522691], [44.105327, -93.24557], [35.068359, -80.86516400000002], [35.77169, -83.35799399999998], [35.32581, -84.77745], [38.593428, -121.444756], [40.017657, -75.17224399999998], [25.814161, -80.313482], [34.171995, -79.765127], [29.726174, -95.467406], [40.11998300000001, -75.08201], [30.433805, -97.670082], [43.996031, -118.923111], [42.379307, -83.03362299999998], [32.206315999999994, -110.821964], [37.701485, -122.021263], [37.456421, -79.83818000000002], [38.889834, -76.959621], [30.448104, -97.696427], [42.266038, -84.620379], [39.40439600000001, -77.362411], [42.755019, -73.93589399999998], [30.463169, -87.26310699999998], [39.23605, -84.450874], [35.15334248526023, -118.99827361050129], [33.200581, -87.577454], [44.793461, -123.034668], [34.176998, -86.838737], [27.994871000000003, -82.545458], [37.1156680582184, -80.42890191039834], [40.117826, -75.32640699999997], [38.18539000000001, -85.81793], [46.878021, -113.910708], [35.101890999999995, -89.859383], [37.700474, -121.925644], [33.946938, -118.36826299999998], [41.781681, -87.63015], [38.9008, -76.9829], [40.71051478366513, -75.39491057359983], [33.239876, -87.593056], [40.80527, -73.93214], [33.686413, -117.765831], [32.874687, -96.683182], [45.230406, -123.861272], [42.359974, -85.657078], [33.928431, -118.237792], [39.322469, -120.863147], [33.41509, -111.619672], [30.245251, -93.161552], [37.837502, -122.264114], [38.638204, -121.327904], [32.413027, -80.651341], [38.583961, -76.60575899999998], [36.73863, -119.83986000000002], [39.008619, -77.097352], [39.64507698993853, -106.38206362673576], [30.256847, -97.554703], [32.68974423, -97.32051015], [34.162118, -118.157934], [39.936249, -75.54068000000002], [30.411137, -83.911118], [28.52905100000001, -81.376488], [42.378181, -83.06276700000002], [40.428776, -104.678902], [26.22987, -81.60667], [34.629456, -86.95105699999998], [34.034348, -84.577118], [38.89956, -99.32076], [37.369804, -122.263931], [39.732315, -75.40593], [37.089985, -76.45920600000002], [33.30169558509205, -117.46789097729936], [37.5203, -79.68997399999998], [41.495739, -74.01795200000002], [40.397073, -77.008167], [29.733406, -82.475306], [27.967939, -82.729801], [41.36595, -93.78036], [33.976742, -83.414413], [37.90094000000001, -122.310699], [37.505417, -77.608521], [39.638877, -121.712132], [25.953452, -80.205487], [29.704472, -95.49294], [34.702387, -118.169872], [33.49477171881917, -86.70424103695534], [44.952328, -93.039955], [29.733734, -95.370941], [35.530071, -80.862465], [28.424158, -81.503578], [39.17345, -94.54024], [25.699202, -80.382118], [42.43063400000001, -83.18678299999998], [33.249961137613056, -111.97743058151256], [36.175693, -86.766511], [32.715667, -97.320481], [35.206604, -80.796654], [38.062654, -78.16845500000002], [38.753237, -89.893211], [45.524135, -122.56516], [37.32132, -121.8345], [34.156258, -118.258141], [32.192139000000005, -110.857933], [28.750791, -81.365099], [38.749371, -121.593971], [34.240232705906685, -117.4295675748948], [40.43094277362617, -76.51929259263743], [45.09095, -93.187836], [33.736075, -84.408149], [35.105111, -106.639527], [36.087381, -95.9646], [43.176609, -77.542686], [42.12874, -86.37653], [29.736504, -95.588623], [37.546719, -122.022758], [38.25882, -85.765427], [26.70711, -80.11935], [39.052409, -77.152762], [36.852241, -81.480496], [42.424555, -122.072429], [28.36503, -82.23288000000002], [39.23677100000001, -76.708611], [39.73827, -104.940674], [29.965797, -95.419624], [42.12957, -72.062218], [38.872124, -78.52729000000002], [26.5584290026352, -80.07000088653531], [38.37476, -81.751925], [34.19228, -80.902611], [45.26002, -111.312442], [33.575982, -111.889095], [38.113542, -77.91646999999998], [34.491639, -118.616882], [33.69593739493515, -117.863677739535], [38.22325900000001, -122.257782], [43.011326, -83.517525], [39.756241, -77.726959], [39.771961, -75.73575600000002], [30.219213, -97.635956], [25.914792, -80.171541], [43.206698, -77.679397], [35.878565, -78.544656], [30.417363, -91.142662], [34.003769, -118.28093], [43.044731, -83.707939], [44.60441, -93.29692], [39.66255200000001, -77.013603], [35.19468300000001, -89.792953], [37.575377, -120.847043], [34.962261, -82.34916700000002], [37.176436, -121.863554], [29.550293683864822, -98.67054104757942], [45.92119, -119.32289], [45.145162, -93.391859], [26.808759, -80.131113], [46.0869920251556, -95.88917612983757], [40.845461, -73.923598], [39.99551, -76.773239], [34.728621000000004, -78.989986], [28.50654, -82.24398000000002], [48.22557800000001, -114.14843799999998], [34.174901, -119.124927], [36.16512700000001, -86.777206], [33.949703, -118.170532], [40.660515, -73.998073], [33.841949, -118.299591], [36.628033, -121.838402], [35.204335, -85.254458], [39.287739, -84.44268000000002], [42.054451, -87.845352], [34.46594595892684, -93.07538866952385], [44.216016, -117.152806], [35.435249, -97.528351], [29.6966, -95.31552], [38.000475, -122.037731], [38.41653400000001, -121.822701], [41.822414, -71.510406], [32.163257, -110.925501], [35.31862, -80.77882], [29.636147, -95.414945], [30.24674000000001, -97.753197], [28.210172, -80.629485], [38.010465, -122.23018799999998], [42.151501, -71.074226], [29.73187, -95.308364], [40.435566, -80.068733], [34.719475, -86.627808], [33.6436, -78.98644300000002], [39.796341, -84.249832], [45.712155, -94.927748], [35.536839, -97.5961], [32.768076, -117.162357], [37.649055, -77.599983], [35.390509, -119.07438700000002], [41.727192, -86.572265], [36.10973, -95.971497], [25.73271, -80.35173], [32.758823, -117.092898], [42.92326, -85.608887], [40.138809, -75.112762], [38.476807, -121.506554], [35.275928, -80.94133000000002], [34.067414, -117.427969], [39.373454, -76.517841], [28.553179, -81.36653100000002], [30.107595, -97.809357], [34.07785, -118.28494], [39.63005, -104.90502], [34.056125879125325, -118.24118256512529], [37.275199, -122.149972], [38.57639909, -121.46513343], [43.020924, -85.668449], [40.966831, -76.89273100000003], [30.444018, -91.227087], [25.831637, -80.229461], [37.741912, -121.574492], [38.151018, -120.820028], [39.446079, -75.029495], [34.92155, -81.98979], [30.419153, -91.086228], [32.837631, -97.090363], [30.387457, -91.093529], [37.55439000000001, -77.446265], [34.481269, -117.3995], [33.87634, -118.01373999999998], [46.765827, -92.122208], [33.493176, -82.084885], [35.3352, -80.82500999999998], [25.739935, -80.23784599999998], [30.117935, -97.660439], [33.77489, -118.08306], [33.603016, -86.755157], [39.310905, -94.672852], [25.821274, -80.206153], [47.602218, -114.078996], [38.9649760721256, -76.22264027559173], [40.844816, -73.837183], [27.49575, -82.4745], [36.118073, -95.889308], [39.712692, -105.000298], [42.419, -82.93413000000002], [42.819546, -71.413376], [34.260399, -118.438889], [47.589973, -122.307037], [43.035179, -88.17014300000002], [40.837212, -111.912521], [37.94769, -121.743885], [47.712219, -122.323387], [36.15733, -86.80275], [41.91539, -88.20823], [42.320312, -71.053061], [33.134563, -117.329353], [34.725772, -114.510722], [44.520408, -107.886974], [35.616104, -119.659332], [33.748201, -117.843086], [33.549681, -86.746705], [34.217181, -117.289129], [41.860016, -88.017395], [41.871067, -87.773804], [36.867203, -76.426979], [29.738132, -95.310226], [33.741928, -84.417236], [30.503595, -87.230075], [38.901143, -121.26513], [30.253464, -97.714149], [34.07022, -117.4756], [39.361423, -76.506008], [41.584888, -73.716752], [44.567935, -118.50558999999998], [41.480114, -81.28840600000002], [33.912536, -118.154737], [41.088964, -73.455662], [45.012054, -93.008794], [29.11732, -82.21855699999998], [38.323567, -78.47685600000001], [38.286205, -85.511833], [37.511723, -121.938187], [42.814742, -87.95307], [42.973068, -85.688137], [30.485492, -91.164281], [30.348709000000003, -97.556999], [38.5997, -121.50468], [30.009045, -90.023887], [28.576488, -81.475985], [33.640471999999995, -81.43449], [40.527645, -74.355537], [40.01518, -75.305523], [39.73597, -105.0144], [25.632159, -80.403408], [33.870728, -117.744682], [33.378021999999994, -111.96783], [41.789364, -87.916985], [38.505619, -121.455971], [40.003323, -75.22805799999998], [28.121943, -80.67160600000003], [25.722111, -80.37606], [38.534527, -121.334938], [38.948635, -104.80349], [35.118237, -80.87760899999998], [34.06845, -117.37468], [27.447749, -82.573666], [38.549546, -121.409844], [37.59747700000001, -77.49140200000002], [35.928624, -111.401556], [39.021812, -94.553688], [32.086815, -84.67645999999998], [34.134427, -117.638516], [33.54227, -117.67361], [32.803709999999995, -117.15085], [33.919872, -118.041992], [42.757931, -72.301773], [39.825039, -75.754949], [34.067513, -117.981125], [37.53141, -77.41617600000002], [47.65964, -122.322592], [36.891752, -121.556389], [41.6591, -87.58792], [33.974037, -118.080109], [40.075706, -75.352638], [42.953896, -76.98111], [34.173164, -118.535973], [30.4526, -91.058128], [40.222699, -78.936675], [32.751007, -97.319618], [45.743703, -122.876831], [33.42241, -111.635466], [34.147652, -118.031319], [38.91879916172543, -77.05519795381042], [25.912815, -80.32502], [35.23547, -80.839355], [26.577361, -80.06949200000003], [40.026691, -75.29962900000002], [45.346801, -122.983463], [28.878432512145626, -82.0925366874595], [33.37833, -111.89327], [38.89748, -104.81825], [34.15202, -118.14256], [41.233234, -73.069374], [35.216652, -80.881337], [34.010056, -117.823219], [34.125935, -80.875687], [36.783951, -81.73317], [40.78209757785425, -74.24417853320004], [36.049897, -95.886306], [33.785616999999995, -118.281251], [41.915298, -88.032341], [30.197632, -97.808823], [33.611233, -111.925896], [37.403988, -121.877327], [33.528686, -84.987909], [33.65292, -84.396118], [40.886181, -88.63331600000002], [25.744128, -80.446322], [38.70195, -76.865612], [25.890186, -80.188322], [33.155717, -117.338262], [32.838547, -96.696167], [35.08932, -80.87065], [35.161121, -114.575211], [34.126869, -82.23748], [28.542619, -81.41299599999998], [25.812547, -80.248502], [29.731483, -95.476479], [40.801296, -73.94388599999998], [40.787342, -73.814317], [35.80370100000001, -78.69991], [44.07766, -123.04731], [34.019958, -81.105339], [30.267656, -82.754761], [34.055686, -118.451951], [39.814251, -84.254102], [34.819996, -82.444725], [30.226557, -97.769524], [43.311469, -89.73508000000002], [33.949321999999995, -84.198219], [36.26236, -86.681038], [27.839421999999995, -82.78411899999998], [32.76768, -117.162476], [45.27644, -122.7727], [37.43487800000001, -79.870789], [40.57754158954345, -75.89161276781131], [33.801860999999995, -117.879097], [40.249977, -75.248215], [34.781726, -92.391103], [39.890259, -82.882271], [34.711582, -79.593284], [39.976662, -76.692131], [32.762214, -96.648811], [35.22372199999999, -80.634688], [33.98238, -118.281113], [34.040401, -117.798137], [36.081856, -78.316636], [34.068184, -117.385582], [33.45691, -112.417225], [48.113351, -105.191532], [42.325218, -71.05660999999998], [44.27303, -121.25154], [39.01345, -77.03894], [41.471848, -81.816231], [38.882291, -77.023026], [37.708626, -122.170815], [37.58850932103353, -77.47881531678445], [33.961655, -118.281525], [32.429428, -87.024353], [46.58493, -112.019985], [32.836657, -96.665981], [35.26247, -80.94017], [36.169303, -86.86205799999998], [33.88948, -117.743556], [29.995623, -90.046379], [41.301964, -72.910829], [37.584896, -122.507452], [35.42082199999999, -97.494774], [37.495213, -122.22892], [40.072071, -75.298828], [37.719244, -122.17676000000002], [35.47885, -97.63665], [37.264448, -80.15733], [38.106577, -121.259895], [42.904102, -74.12957800000002], [37.613984, -121.818653], [34.03474, -118.34277], [47.097317, -122.434921], [42.37402, -87.89728000000002], [42.40795900000001, -83.081314], [33.466662, -117.670173], [42.496212, -83.358414], [32.639049, -117.065444], [29.970371000000004, -90.080931], [42.95656, -70.85731], [40.848445, -73.936936], [42.62937, -71.26874000000002], [33.92934, -118.239036], [41.517941, -73.973724], [43.036282, -85.616577], [41.983528, -87.818359], [42.22964, -87.853042], [37.33448, -122.036537], [35.688453, -120.764547], [38.85576500000001, -77.450006], [36.302029, -82.382683], [30.015290000000004, -95.428092], [44.999023, -93.065392], [34.221731, -117.404093], [35.172262, -80.854105], [27.777346, -82.67532299999998], [34.037035, -118.308904], [38.672946, -121.22102], [32.767532, -96.486445], [41.26373, -73.68382], [39.28227800000001, -77.325489], [34.027473, -81.10296600000002], [34.883423, -82.198319], [34.017796000000004, -79.751574], [32.962746, -82.390813], [34.038418, -118.27401], [40.66438078860919, -116.73146367017397], [25.897232, -80.244632], [33.444882, -86.727265], [38.637081, -121.383072], [34.021077000000005, -117.103184], [28.786989, -81.212723], [45.334346, -93.773884], [40.52544236163842, -74.2357885834015], [40.098408, -75.390511], [42.872765, -78.815506], [36.137959, -120.102783], [39.029582, -77.006848], [35.89304, -83.804581], [34.265907, -118.47403], [37.80811, -122.36719], [28.427118, -81.404614], [34.196999, -83.88801600000002], [35.444672, -97.565559], [38.845119, -77.0084], [34.593778, -82.405103], [33.93901, -117.13693], [38.670761, -121.225677], [32.853699, -96.747177], [35.655521, -120.53391299999998], [39.07931, -94.49073], [40.632942, -111.834114], [33.21791, -80.46251], [30.390471, -91.193436], [33.480455, -112.155563], [27.415768, -82.57418299999998], [38.426231, -121.487579], [34.127819, -79.776779], [35.59277415, -82.56417632], [32.890895, -80.006963], [40.972618, -123.6395]],\n",
       "                {&quot;blur&quot;: 15, &quot;maxZoom&quot;: 18, &quot;minOpacity&quot;: 0.5, &quot;radius&quot;: 25}\n",
       "            );\n",
       "        \n",
       "    \n",
       "            heat_map_2a256793b1e39a49e592a5514899632e.addTo(map_c5dc4ad699d9a877ffc0f38c22d1b54c);\n",
       "        \n",
       "&lt;/script&gt;\n",
       "&lt;/html&gt;\" style=\"position:absolute;width:100%;height:100%;left:0;top:0;border:none !important;\" allowfullscreen webkitallowfullscreen mozallowfullscreen></iframe></div></div>"
      ],
      "text/plain": [
       "<folium.folium.Map at 0x16e3d7d4f10>"
      ]
     },
     "execution_count": 58,
     "metadata": {},
     "output_type": "execute_result"
    }
   ],
   "source": [
    "map = folium.Map()\n",
    "HeatMap(lat_lon_pairs).add_to(map)\n",
    "map"
   ]
  },
  {
   "cell_type": "markdown",
   "metadata": {},
   "source": [
    "# Severity"
   ]
  },
  {
   "cell_type": "code",
   "execution_count": 59,
   "metadata": {},
   "outputs": [
    {
     "data": {
      "text/plain": [
       "2    6156981\n",
       "3    1299337\n",
       "4     204710\n",
       "1      67366\n",
       "Name: Severity, dtype: int64"
      ]
     },
     "execution_count": 59,
     "metadata": {},
     "output_type": "execute_result"
    }
   ],
   "source": [
    "df[\"Severity\"].value_counts() "
   ]
  },
  {
   "cell_type": "code",
   "execution_count": 60,
   "metadata": {},
   "outputs": [
    {
     "data": {
      "text/plain": [
       "2    0.796670\n",
       "3    0.168125\n",
       "4    0.026488\n",
       "1    0.008717\n",
       "Name: Severity, dtype: float64"
      ]
     },
     "execution_count": 60,
     "metadata": {},
     "output_type": "execute_result"
    }
   ],
   "source": [
    "df[\"Severity\"].value_counts()  / len(df[\"Severity\"])"
   ]
  },
  {
   "cell_type": "markdown",
   "metadata": {},
   "source": [
    "# Weather Conditon"
   ]
  },
  {
   "cell_type": "code",
   "execution_count": 61,
   "metadata": {},
   "outputs": [
    {
     "data": {
      "text/plain": [
       "Fair                           33.134983\n",
       "Mostly Cloudy                  13.148851\n",
       "Cloudy                         10.572468\n",
       "Clear                          10.464567\n",
       "Partly Cloudy                   9.044208\n",
       "                                 ...    \n",
       "Heavy Rain Shower / Windy       0.000013\n",
       "Heavy Freezing Rain / Windy     0.000013\n",
       "Drifting Snow                   0.000013\n",
       "Sand / Windy                    0.000013\n",
       "Partial Fog / Windy             0.000013\n",
       "Name: Weather_Condition, Length: 144, dtype: float64"
      ]
     },
     "execution_count": 61,
     "metadata": {},
     "output_type": "execute_result"
    }
   ],
   "source": [
    "df.Weather_Condition.value_counts()/len(df.Weather_Condition)*100"
   ]
  },
  {
   "cell_type": "markdown",
   "metadata": {},
   "source": [
    "# Traffic Signal"
   ]
  },
  {
   "cell_type": "code",
   "execution_count": 62,
   "metadata": {},
   "outputs": [
    {
     "data": {
      "text/plain": [
       "False    85.200392\n",
       "True     14.799608\n",
       "Name: Traffic_Signal, dtype: float64"
      ]
     },
     "execution_count": 62,
     "metadata": {},
     "output_type": "execute_result"
    }
   ],
   "source": [
    "df.Traffic_Signal.value_counts()/len(df.Traffic_Signal)*100"
   ]
  },
  {
   "cell_type": "markdown",
   "metadata": {},
   "source": [
    "# Period of day"
   ]
  },
  {
   "cell_type": "code",
   "execution_count": 63,
   "metadata": {},
   "outputs": [
    {
     "data": {
      "text/plain": [
       "Day      69.025376\n",
       "Night    30.673837\n",
       "Name: Sunrise_Sunset, dtype: float64"
      ]
     },
     "execution_count": 63,
     "metadata": {},
     "output_type": "execute_result"
    }
   ],
   "source": [
    "df.Sunrise_Sunset.value_counts()/len(df.Sunrise_Sunset)*100"
   ]
  },
  {
   "cell_type": "markdown",
   "metadata": {},
   "source": [
    "# Crossing"
   ]
  },
  {
   "cell_type": "code",
   "execution_count": 65,
   "metadata": {},
   "outputs": [
    {
     "data": {
      "text/plain": [
       "False    88.694119\n",
       "True     11.305881\n",
       "Name: Crossing, dtype: float64"
      ]
     },
     "execution_count": 65,
     "metadata": {},
     "output_type": "execute_result"
    }
   ],
   "source": [
    "df.Crossing.value_counts()/len(df.Crossing)*100"
   ]
  },
  {
   "cell_type": "markdown",
   "metadata": {},
   "source": [
    "# Traffic Signal"
   ]
  },
  {
   "cell_type": "code",
   "execution_count": 66,
   "metadata": {},
   "outputs": [
    {
     "data": {
      "text/plain": [
       "False    85.200392\n",
       "True     14.799608\n",
       "Name: Traffic_Signal, dtype: float64"
      ]
     },
     "execution_count": 66,
     "metadata": {},
     "output_type": "execute_result"
    }
   ],
   "source": [
    "df.Traffic_Signal.value_counts()/len(df.Traffic_Signal)*100"
   ]
  },
  {
   "cell_type": "raw",
   "metadata": {},
   "source": [
    "# Summary and Conclusion\n",
    "\n",
    "1. 5 states have the highest number of accidents\n",
    "1)Miami                      186917\n",
    "2)Houston                    169609\n",
    "3)Los Angeles                156491\n",
    "4)Charlotte                  138652\n",
    "5)Dallas                     130939\n",
    "      \n",
    "2. Low Accidents in Summer and Higher Accidents on Winter\n",
    "\n",
    "3. New york data: Total number of accidents are 21699. \n",
    "The count is lower even being the most populated city because of following reason:\n",
    "a) Urban infrastructure: Urban areas like New York City often have better road infrastructure, more emergency services, and more                          frequent law enforcement. \n",
    "b) Community attitudes: Local cultures and attitudes towards safety measures can play a big role in road safety. For example,                           states with lower seatbelt usage rates tend to have higher fatality rates\n",
    " \n",
    "4. -A high percentage of accidents occur between 6 am to 10 am (probably people in a hurry to get to work)\n",
    " - Next higest percentage is 3 pm to 6 pm.\n",
    " - On Sundays, the peak occurs between 10 am and 3 pm, unlike weekdays\n",
    "\n",
    "5. - Weekdays have higher number of accidents compared to weekends\n",
    " - Period of day :- Day(69%) & Night(31%)\n",
    " - Friday have the most accidents on week   \n",
    "\n",
    "6. - Source of raw accident data :- Source 1(56%) & Source 2(43%)\n",
    " - There seems to be some issue with the Source 3\n",
    "\n",
    "7. 80% of accidents are of 2nd level Severity\n",
    "\n",
    "8. December is the highest accident recoreded month followed by november\n",
    "\n",
    "9. The number of accidents per city decreases exponentially\n",
    "\n",
    "10. Presence of traffic_signal in a nearby location:- True(15%) & False(85%)\n",
    "\n",
    "11. Less than 5% of cities have more than 1000 yearly accidents.\n",
    "\n",
    "12. - Over one third of cities have less than 10 accidents\n",
    "  - Over 1200 cities have reported just one accident (need to investigate)\n",
    "\n",
    "13. Timezone based on the location of the accident :- US/Eastern(46%) & US/Pacific(27%)\n",
    "\n",
    "14. - Weather condition (rain, snow, thunderstorm, fog, etc.) :- Fair(33%) & Mostly Cloudy(13%)\n",
    "  - Low Accidents in Summer and Higher Accidents on Winter\n",
    "\n",
    "15. Presence of crossing in a nearby location:- True(11%) & False(89%)\n",
    "\n",
    "16. Much data is missing for 2016. Maybe even 2017."
   ]
  },
  {
   "cell_type": "code",
   "execution_count": null,
   "metadata": {},
   "outputs": [],
   "source": []
  }
 ],
 "metadata": {
  "kernelspec": {
   "display_name": "Python 3",
   "language": "python",
   "name": "python3"
  },
  "language_info": {
   "codemirror_mode": {
    "name": "ipython",
    "version": 3
   },
   "file_extension": ".py",
   "mimetype": "text/x-python",
   "name": "python",
   "nbconvert_exporter": "python",
   "pygments_lexer": "ipython3",
   "version": "3.8.5"
  }
 },
 "nbformat": 4,
 "nbformat_minor": 4
}
